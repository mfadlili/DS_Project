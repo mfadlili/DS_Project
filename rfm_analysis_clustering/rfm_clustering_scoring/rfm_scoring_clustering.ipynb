{
  "cells": [
    {
      "cell_type": "markdown",
      "metadata": {},
      "source": [
        "### Import Libraries"
      ]
    },
    {
      "cell_type": "code",
      "execution_count": 1,
      "metadata": {
        "id": "WXbEfF0u9L00"
      },
      "outputs": [],
      "source": [
        "import pandas as pd\n",
        "from sklearn.preprocessing import StandardScaler,MinMaxScaler\n",
        "from sklearn.decomposition import PCA\n",
        "from sklearn.cluster import KMeans\n",
        "import matplotlib.pyplot as plt\n",
        "import numpy as np"
      ]
    },
    {
      "cell_type": "markdown",
      "metadata": {},
      "source": [
        "### Using Google Collab"
      ]
    },
    {
      "cell_type": "code",
      "execution_count": 2,
      "metadata": {
        "colab": {
          "base_uri": "https://localhost:8080/"
        },
        "id": "--mbtfvqTpmr",
        "outputId": "2b4740ed-e836-496d-f611-37a3c42e3783"
      },
      "outputs": [],
      "source": [
        "# from google.colab import drive\n",
        "# drive.mount('/content/gdrive')"
      ]
    },
    {
      "cell_type": "code",
      "execution_count": 3,
      "metadata": {
        "colab": {
          "base_uri": "https://localhost:8080/"
        },
        "id": "HtymKDhgXGYl",
        "outputId": "e3cdd5f8-445b-443d-91aa-c8bd5720490a"
      },
      "outputs": [],
      "source": [
        "# % cd /content/gdrive/MyDrive/"
      ]
    },
    {
      "cell_type": "code",
      "execution_count": 4,
      "metadata": {
        "colab": {
          "base_uri": "https://localhost:8080/"
        },
        "id": "xJ-wWP5aXOXH",
        "outputId": "3fe89023-25a0-4968-8111-ebab82b7284b"
      },
      "outputs": [],
      "source": [
        "# % cd Final_project"
      ]
    },
    {
      "cell_type": "code",
      "execution_count": 5,
      "metadata": {
        "colab": {
          "base_uri": "https://localhost:8080/"
        },
        "id": "ZgE316v7gcS4",
        "outputId": "e2e87ff7-3734-4249-9b42-1212691937d9"
      },
      "outputs": [],
      "source": [
        "# !unzip -q /content/gdrive/MyDrive/Final_project/join_all_2020.rar"
      ]
    },
    {
      "cell_type": "code",
      "execution_count": 6,
      "metadata": {
        "colab": {
          "base_uri": "https://localhost:8080/"
        },
        "id": "btzHBTonXTvp",
        "outputId": "08913a4e-3837-422f-d173-16ae6b94ec02"
      },
      "outputs": [],
      "source": [
        "# ! wget join_all_2020.csv"
      ]
    },
    {
      "cell_type": "markdown",
      "metadata": {},
      "source": [
        "### Load Data"
      ]
    },
    {
      "cell_type": "code",
      "execution_count": 7,
      "metadata": {
        "colab": {
          "base_uri": "https://localhost:8080/",
          "height": 311
        },
        "id": "jva1snz9XiIN",
        "outputId": "6d2b11d9-7a0b-42ef-9f67-b79e517cd513"
      },
      "outputs": [],
      "source": [
        "data = pd.read_csv('join_all_2020.csv')"
      ]
    },
    {
      "cell_type": "markdown",
      "metadata": {},
      "source": [
        "Melihat representasi data"
      ]
    },
    {
      "cell_type": "code",
      "execution_count": 8,
      "metadata": {
        "id": "ENt2hueqYRR8"
      },
      "outputs": [
        {
          "data": {
            "text/html": [
              "<div>\n",
              "<style scoped>\n",
              "    .dataframe tbody tr th:only-of-type {\n",
              "        vertical-align: middle;\n",
              "    }\n",
              "\n",
              "    .dataframe tbody tr th {\n",
              "        vertical-align: top;\n",
              "    }\n",
              "\n",
              "    .dataframe thead th {\n",
              "        text-align: right;\n",
              "    }\n",
              "</style>\n",
              "<table border=\"1\" class=\"dataframe\">\n",
              "  <thead>\n",
              "    <tr style=\"text-align: right;\">\n",
              "      <th></th>\n",
              "      <th>Unnamed: 0</th>\n",
              "      <th>t_dat</th>\n",
              "      <th>customer_id</th>\n",
              "      <th>article_id</th>\n",
              "      <th>price</th>\n",
              "      <th>sales_channel_id</th>\n",
              "      <th>product_code</th>\n",
              "      <th>prod_name</th>\n",
              "      <th>product_type_no</th>\n",
              "      <th>product_type_name</th>\n",
              "      <th>...</th>\n",
              "      <th>section_name</th>\n",
              "      <th>garment_group_no</th>\n",
              "      <th>garment_group_name</th>\n",
              "      <th>detail_desc</th>\n",
              "      <th>FN</th>\n",
              "      <th>Active</th>\n",
              "      <th>club_member_status</th>\n",
              "      <th>fashion_news_frequency</th>\n",
              "      <th>age</th>\n",
              "      <th>postal_code</th>\n",
              "    </tr>\n",
              "  </thead>\n",
              "  <tbody>\n",
              "    <tr>\n",
              "      <th>0</th>\n",
              "      <td>0</td>\n",
              "      <td>2020-01-01</td>\n",
              "      <td>0034b3dced3e565a43438bdfb5447e7321fea65388b398...</td>\n",
              "      <td>835247001</td>\n",
              "      <td>0.033881</td>\n",
              "      <td>2</td>\n",
              "      <td>835247</td>\n",
              "      <td>Supernova</td>\n",
              "      <td>265</td>\n",
              "      <td>Dress</td>\n",
              "      <td>...</td>\n",
              "      <td>Womens Everyday Collection</td>\n",
              "      <td>1013</td>\n",
              "      <td>Dresses Ladies</td>\n",
              "      <td>Calf-length dress in a softly draping viscose ...</td>\n",
              "      <td>1.0</td>\n",
              "      <td>1.0</td>\n",
              "      <td>ACTIVE</td>\n",
              "      <td>Regularly</td>\n",
              "      <td>42.0</td>\n",
              "      <td>36d5f1b9782c7e1c23a87442136ee0353cc4ac92f6987b...</td>\n",
              "    </tr>\n",
              "    <tr>\n",
              "      <th>1</th>\n",
              "      <td>1</td>\n",
              "      <td>2020-01-01</td>\n",
              "      <td>00410b91d62eefa76958fa5cac12f5daa7cfc0556e417d...</td>\n",
              "      <td>802930002</td>\n",
              "      <td>0.067780</td>\n",
              "      <td>2</td>\n",
              "      <td>802930</td>\n",
              "      <td>New York pile jacket</td>\n",
              "      <td>262</td>\n",
              "      <td>Jacket</td>\n",
              "      <td>...</td>\n",
              "      <td>Divided Collection</td>\n",
              "      <td>1007</td>\n",
              "      <td>Outdoor</td>\n",
              "      <td>Pile jacket with a wide collar, zip down the f...</td>\n",
              "      <td>NaN</td>\n",
              "      <td>NaN</td>\n",
              "      <td>ACTIVE</td>\n",
              "      <td>NONE</td>\n",
              "      <td>53.0</td>\n",
              "      <td>56e5d3525bfdbd7f568ef62da6e771f4ed31cb87716449...</td>\n",
              "    </tr>\n",
              "    <tr>\n",
              "      <th>2</th>\n",
              "      <td>2</td>\n",
              "      <td>2020-01-01</td>\n",
              "      <td>00410b91d62eefa76958fa5cac12f5daa7cfc0556e417d...</td>\n",
              "      <td>760084008</td>\n",
              "      <td>0.025407</td>\n",
              "      <td>2</td>\n",
              "      <td>760084</td>\n",
              "      <td>Victorville HW Pull-on TRS</td>\n",
              "      <td>272</td>\n",
              "      <td>Trousers</td>\n",
              "      <td>...</td>\n",
              "      <td>Divided Collection</td>\n",
              "      <td>1009</td>\n",
              "      <td>Trousers</td>\n",
              "      <td>Ankle-length trousers in cotton twill with a h...</td>\n",
              "      <td>NaN</td>\n",
              "      <td>NaN</td>\n",
              "      <td>ACTIVE</td>\n",
              "      <td>NONE</td>\n",
              "      <td>53.0</td>\n",
              "      <td>56e5d3525bfdbd7f568ef62da6e771f4ed31cb87716449...</td>\n",
              "    </tr>\n",
              "    <tr>\n",
              "      <th>3</th>\n",
              "      <td>3</td>\n",
              "      <td>2020-01-01</td>\n",
              "      <td>004b0fb384bcab2f8e1059dd5ca68c17580365ab95c05a...</td>\n",
              "      <td>804662002</td>\n",
              "      <td>0.033881</td>\n",
              "      <td>2</td>\n",
              "      <td>804662</td>\n",
              "      <td>Kendall body</td>\n",
              "      <td>253</td>\n",
              "      <td>Vest top</td>\n",
              "      <td>...</td>\n",
              "      <td>Divided Collection</td>\n",
              "      <td>1005</td>\n",
              "      <td>Jersey Fancy</td>\n",
              "      <td>Sleeveless body in jersey with a slight sheen....</td>\n",
              "      <td>NaN</td>\n",
              "      <td>NaN</td>\n",
              "      <td>PRE-CREATE</td>\n",
              "      <td>NONE</td>\n",
              "      <td>NaN</td>\n",
              "      <td>2aabb68ef3e621c1c46d77b9e5860caf2653c1357f7a8a...</td>\n",
              "    </tr>\n",
              "    <tr>\n",
              "      <th>4</th>\n",
              "      <td>4</td>\n",
              "      <td>2020-01-01</td>\n",
              "      <td>004b0fb384bcab2f8e1059dd5ca68c17580365ab95c05a...</td>\n",
              "      <td>801554002</td>\n",
              "      <td>0.016932</td>\n",
              "      <td>2</td>\n",
              "      <td>801554</td>\n",
              "      <td>Wheeler body</td>\n",
              "      <td>254</td>\n",
              "      <td>Top</td>\n",
              "      <td>...</td>\n",
              "      <td>Divided Collection</td>\n",
              "      <td>1005</td>\n",
              "      <td>Jersey Fancy</td>\n",
              "      <td>Fitted body in jersey containing glittery thre...</td>\n",
              "      <td>NaN</td>\n",
              "      <td>NaN</td>\n",
              "      <td>PRE-CREATE</td>\n",
              "      <td>NONE</td>\n",
              "      <td>NaN</td>\n",
              "      <td>2aabb68ef3e621c1c46d77b9e5860caf2653c1357f7a8a...</td>\n",
              "    </tr>\n",
              "  </tbody>\n",
              "</table>\n",
              "<p>5 rows × 36 columns</p>\n",
              "</div>"
            ],
            "text/plain": [
              "   Unnamed: 0       t_dat                                        customer_id  \\\n",
              "0           0  2020-01-01  0034b3dced3e565a43438bdfb5447e7321fea65388b398...   \n",
              "1           1  2020-01-01  00410b91d62eefa76958fa5cac12f5daa7cfc0556e417d...   \n",
              "2           2  2020-01-01  00410b91d62eefa76958fa5cac12f5daa7cfc0556e417d...   \n",
              "3           3  2020-01-01  004b0fb384bcab2f8e1059dd5ca68c17580365ab95c05a...   \n",
              "4           4  2020-01-01  004b0fb384bcab2f8e1059dd5ca68c17580365ab95c05a...   \n",
              "\n",
              "   article_id     price  sales_channel_id  product_code  \\\n",
              "0   835247001  0.033881                 2        835247   \n",
              "1   802930002  0.067780                 2        802930   \n",
              "2   760084008  0.025407                 2        760084   \n",
              "3   804662002  0.033881                 2        804662   \n",
              "4   801554002  0.016932                 2        801554   \n",
              "\n",
              "                    prod_name  product_type_no product_type_name  ...  \\\n",
              "0                   Supernova              265             Dress  ...   \n",
              "1        New York pile jacket              262            Jacket  ...   \n",
              "2  Victorville HW Pull-on TRS              272          Trousers  ...   \n",
              "3                Kendall body              253          Vest top  ...   \n",
              "4                Wheeler body              254               Top  ...   \n",
              "\n",
              "                 section_name  garment_group_no garment_group_name  \\\n",
              "0  Womens Everyday Collection              1013     Dresses Ladies   \n",
              "1          Divided Collection              1007            Outdoor   \n",
              "2          Divided Collection              1009           Trousers   \n",
              "3          Divided Collection              1005       Jersey Fancy   \n",
              "4          Divided Collection              1005       Jersey Fancy   \n",
              "\n",
              "                                         detail_desc   FN  Active  \\\n",
              "0  Calf-length dress in a softly draping viscose ...  1.0     1.0   \n",
              "1  Pile jacket with a wide collar, zip down the f...  NaN     NaN   \n",
              "2  Ankle-length trousers in cotton twill with a h...  NaN     NaN   \n",
              "3  Sleeveless body in jersey with a slight sheen....  NaN     NaN   \n",
              "4  Fitted body in jersey containing glittery thre...  NaN     NaN   \n",
              "\n",
              "  club_member_status  fashion_news_frequency   age  \\\n",
              "0             ACTIVE               Regularly  42.0   \n",
              "1             ACTIVE                    NONE  53.0   \n",
              "2             ACTIVE                    NONE  53.0   \n",
              "3         PRE-CREATE                    NONE   NaN   \n",
              "4         PRE-CREATE                    NONE   NaN   \n",
              "\n",
              "                                         postal_code  \n",
              "0  36d5f1b9782c7e1c23a87442136ee0353cc4ac92f6987b...  \n",
              "1  56e5d3525bfdbd7f568ef62da6e771f4ed31cb87716449...  \n",
              "2  56e5d3525bfdbd7f568ef62da6e771f4ed31cb87716449...  \n",
              "3  2aabb68ef3e621c1c46d77b9e5860caf2653c1357f7a8a...  \n",
              "4  2aabb68ef3e621c1c46d77b9e5860caf2653c1357f7a8a...  \n",
              "\n",
              "[5 rows x 36 columns]"
            ]
          },
          "execution_count": 8,
          "metadata": {},
          "output_type": "execute_result"
        }
      ],
      "source": [
        "data.head()"
      ]
    },
    {
      "cell_type": "markdown",
      "metadata": {},
      "source": [
        "Info masing - masing kolom pada tabel"
      ]
    },
    {
      "cell_type": "code",
      "execution_count": 9,
      "metadata": {
        "id": "pS85fBgBYdv_"
      },
      "outputs": [
        {
          "name": "stdout",
          "output_type": "stream",
          "text": [
            "<class 'pandas.core.frame.DataFrame'>\n",
            "RangeIndex: 10980132 entries, 0 to 10980131\n",
            "Data columns (total 36 columns):\n",
            " #   Column                        Dtype  \n",
            "---  ------                        -----  \n",
            " 0   Unnamed: 0                    int64  \n",
            " 1   t_dat                         object \n",
            " 2   customer_id                   object \n",
            " 3   article_id                    int64  \n",
            " 4   price                         float64\n",
            " 5   sales_channel_id              int64  \n",
            " 6   product_code                  int64  \n",
            " 7   prod_name                     object \n",
            " 8   product_type_no               int64  \n",
            " 9   product_type_name             object \n",
            " 10  product_group_name            object \n",
            " 11  graphical_appearance_no       int64  \n",
            " 12  graphical_appearance_name     object \n",
            " 13  colour_group_code             int64  \n",
            " 14  colour_group_name             object \n",
            " 15  perceived_colour_value_id     int64  \n",
            " 16  perceived_colour_value_name   object \n",
            " 17  perceived_colour_master_id    int64  \n",
            " 18  perceived_colour_master_name  object \n",
            " 19  department_no                 int64  \n",
            " 20  department_name               object \n",
            " 21  index_code                    object \n",
            " 22  index_name                    object \n",
            " 23  index_group_no                int64  \n",
            " 24  index_group_name              object \n",
            " 25  section_no                    int64  \n",
            " 26  section_name                  object \n",
            " 27  garment_group_no              int64  \n",
            " 28  garment_group_name            object \n",
            " 29  detail_desc                   object \n",
            " 30  FN                            float64\n",
            " 31  Active                        float64\n",
            " 32  club_member_status            object \n",
            " 33  fashion_news_frequency        object \n",
            " 34  age                           float64\n",
            " 35  postal_code                   object \n",
            "dtypes: float64(4), int64(13), object(19)\n",
            "memory usage: 2.9+ GB\n"
          ]
        }
      ],
      "source": [
        "data.info()"
      ]
    },
    {
      "cell_type": "markdown",
      "metadata": {},
      "source": [
        "Dropping columns `unnamed:0`"
      ]
    },
    {
      "cell_type": "code",
      "execution_count": 10,
      "metadata": {
        "id": "nel_nKbkYmb6"
      },
      "outputs": [],
      "source": [
        "data.drop('Unnamed: 0', axis=1, inplace=True)"
      ]
    },
    {
      "cell_type": "markdown",
      "metadata": {},
      "source": [
        "Memanfaatkan data yang penjualannya online"
      ]
    },
    {
      "cell_type": "code",
      "execution_count": 11,
      "metadata": {
        "id": "1bzndmvegiWm"
      },
      "outputs": [],
      "source": [
        "data = data[data['sales_channel_id']==2]"
      ]
    },
    {
      "cell_type": "markdown",
      "metadata": {},
      "source": [
        "Karena dibawah ini merupakan analisa RFM, maka kolom yang dibutuhkan hanya terdiri dari : `t_dat` , `customer_id` , `price`"
      ]
    },
    {
      "cell_type": "code",
      "execution_count": 12,
      "metadata": {
        "id": "5QOyIjiwchom"
      },
      "outputs": [],
      "source": [
        "data_new = data[['t_dat','customer_id','price']]"
      ]
    },
    {
      "cell_type": "markdown",
      "metadata": {},
      "source": [
        "Melihat representasi data untuk analisa RFM"
      ]
    },
    {
      "cell_type": "code",
      "execution_count": 13,
      "metadata": {
        "id": "6C2AsaMbdLOM"
      },
      "outputs": [
        {
          "data": {
            "text/html": [
              "<div>\n",
              "<style scoped>\n",
              "    .dataframe tbody tr th:only-of-type {\n",
              "        vertical-align: middle;\n",
              "    }\n",
              "\n",
              "    .dataframe tbody tr th {\n",
              "        vertical-align: top;\n",
              "    }\n",
              "\n",
              "    .dataframe thead th {\n",
              "        text-align: right;\n",
              "    }\n",
              "</style>\n",
              "<table border=\"1\" class=\"dataframe\">\n",
              "  <thead>\n",
              "    <tr style=\"text-align: right;\">\n",
              "      <th></th>\n",
              "      <th>t_dat</th>\n",
              "      <th>customer_id</th>\n",
              "      <th>price</th>\n",
              "    </tr>\n",
              "  </thead>\n",
              "  <tbody>\n",
              "    <tr>\n",
              "      <th>0</th>\n",
              "      <td>2020-01-01</td>\n",
              "      <td>0034b3dced3e565a43438bdfb5447e7321fea65388b398...</td>\n",
              "      <td>0.033881</td>\n",
              "    </tr>\n",
              "    <tr>\n",
              "      <th>1</th>\n",
              "      <td>2020-01-01</td>\n",
              "      <td>00410b91d62eefa76958fa5cac12f5daa7cfc0556e417d...</td>\n",
              "      <td>0.067780</td>\n",
              "    </tr>\n",
              "    <tr>\n",
              "      <th>2</th>\n",
              "      <td>2020-01-01</td>\n",
              "      <td>00410b91d62eefa76958fa5cac12f5daa7cfc0556e417d...</td>\n",
              "      <td>0.025407</td>\n",
              "    </tr>\n",
              "    <tr>\n",
              "      <th>3</th>\n",
              "      <td>2020-01-01</td>\n",
              "      <td>004b0fb384bcab2f8e1059dd5ca68c17580365ab95c05a...</td>\n",
              "      <td>0.033881</td>\n",
              "    </tr>\n",
              "    <tr>\n",
              "      <th>4</th>\n",
              "      <td>2020-01-01</td>\n",
              "      <td>004b0fb384bcab2f8e1059dd5ca68c17580365ab95c05a...</td>\n",
              "      <td>0.016932</td>\n",
              "    </tr>\n",
              "  </tbody>\n",
              "</table>\n",
              "</div>"
            ],
            "text/plain": [
              "        t_dat                                        customer_id     price\n",
              "0  2020-01-01  0034b3dced3e565a43438bdfb5447e7321fea65388b398...  0.033881\n",
              "1  2020-01-01  00410b91d62eefa76958fa5cac12f5daa7cfc0556e417d...  0.067780\n",
              "2  2020-01-01  00410b91d62eefa76958fa5cac12f5daa7cfc0556e417d...  0.025407\n",
              "3  2020-01-01  004b0fb384bcab2f8e1059dd5ca68c17580365ab95c05a...  0.033881\n",
              "4  2020-01-01  004b0fb384bcab2f8e1059dd5ca68c17580365ab95c05a...  0.016932"
            ]
          },
          "execution_count": 13,
          "metadata": {},
          "output_type": "execute_result"
        }
      ],
      "source": [
        "data_new.head()"
      ]
    },
    {
      "cell_type": "markdown",
      "metadata": {},
      "source": [
        "Melakukan agregasi data pada price, berdasarkan `t_dat` dan `customer_id` nya"
      ]
    },
    {
      "cell_type": "code",
      "execution_count": 14,
      "metadata": {
        "id": "pnzbV27VjILw"
      },
      "outputs": [
        {
          "data": {
            "text/html": [
              "<div>\n",
              "<style scoped>\n",
              "    .dataframe tbody tr th:only-of-type {\n",
              "        vertical-align: middle;\n",
              "    }\n",
              "\n",
              "    .dataframe tbody tr th {\n",
              "        vertical-align: top;\n",
              "    }\n",
              "\n",
              "    .dataframe thead th {\n",
              "        text-align: right;\n",
              "    }\n",
              "</style>\n",
              "<table border=\"1\" class=\"dataframe\">\n",
              "  <thead>\n",
              "    <tr style=\"text-align: right;\">\n",
              "      <th></th>\n",
              "      <th>t_dat</th>\n",
              "      <th>customer_id</th>\n",
              "      <th>price</th>\n",
              "    </tr>\n",
              "  </thead>\n",
              "  <tbody>\n",
              "    <tr>\n",
              "      <th>0</th>\n",
              "      <td>2020-01-01</td>\n",
              "      <td>0034b3dced3e565a43438bdfb5447e7321fea65388b398...</td>\n",
              "      <td>0.033881</td>\n",
              "    </tr>\n",
              "    <tr>\n",
              "      <th>1</th>\n",
              "      <td>2020-01-01</td>\n",
              "      <td>00410b91d62eefa76958fa5cac12f5daa7cfc0556e417d...</td>\n",
              "      <td>0.093186</td>\n",
              "    </tr>\n",
              "    <tr>\n",
              "      <th>2</th>\n",
              "      <td>2020-01-01</td>\n",
              "      <td>004b0fb384bcab2f8e1059dd5ca68c17580365ab95c05a...</td>\n",
              "      <td>0.160915</td>\n",
              "    </tr>\n",
              "    <tr>\n",
              "      <th>3</th>\n",
              "      <td>2020-01-01</td>\n",
              "      <td>005ed70ec112c857cebb66e92753a6c938004a75ae8708...</td>\n",
              "      <td>0.055898</td>\n",
              "    </tr>\n",
              "    <tr>\n",
              "      <th>4</th>\n",
              "      <td>2020-01-01</td>\n",
              "      <td>007a21531a3afd432f5af7fbc3ec9480686ec621ac9b49...</td>\n",
              "      <td>0.198051</td>\n",
              "    </tr>\n",
              "  </tbody>\n",
              "</table>\n",
              "</div>"
            ],
            "text/plain": [
              "        t_dat                                        customer_id     price\n",
              "0  2020-01-01  0034b3dced3e565a43438bdfb5447e7321fea65388b398...  0.033881\n",
              "1  2020-01-01  00410b91d62eefa76958fa5cac12f5daa7cfc0556e417d...  0.093186\n",
              "2  2020-01-01  004b0fb384bcab2f8e1059dd5ca68c17580365ab95c05a...  0.160915\n",
              "3  2020-01-01  005ed70ec112c857cebb66e92753a6c938004a75ae8708...  0.055898\n",
              "4  2020-01-01  007a21531a3afd432f5af7fbc3ec9480686ec621ac9b49...  0.198051"
            ]
          },
          "execution_count": 14,
          "metadata": {},
          "output_type": "execute_result"
        }
      ],
      "source": [
        "orders = data_new.groupby(['t_dat', 'customer_id'])['price'].sum().reset_index()\n",
        "orders.head()"
      ]
    },
    {
      "cell_type": "markdown",
      "metadata": {},
      "source": [
        "Melihat before after melakukan aggregasi data"
      ]
    },
    {
      "cell_type": "code",
      "execution_count": 15,
      "metadata": {
        "id": "UgzEXt-GkWJv"
      },
      "outputs": [
        {
          "data": {
            "text/plain": [
              "((8003927, 3), (2022988, 3))"
            ]
          },
          "execution_count": 15,
          "metadata": {},
          "output_type": "execute_result"
        }
      ],
      "source": [
        "data_new.shape,orders.shape"
      ]
    },
    {
      "cell_type": "markdown",
      "metadata": {},
      "source": [
        "Kita lihat bagaimana kondisi data `join_all_2020.csv` , yaitu maksimum di tanggal berapa untuk data di tahun 2020 ?"
      ]
    },
    {
      "cell_type": "code",
      "execution_count": 16,
      "metadata": {
        "id": "hi9QdeYuty4B"
      },
      "outputs": [
        {
          "data": {
            "text/plain": [
              "'2020-09-22'"
            ]
          },
          "execution_count": 16,
          "metadata": {},
          "output_type": "execute_result"
        }
      ],
      "source": [
        "orders['t_dat'].max()"
      ]
    },
    {
      "cell_type": "code",
      "execution_count": 17,
      "metadata": {
        "id": "s8r6I1Bhu0Re"
      },
      "outputs": [],
      "source": [
        "analysis_date = orders['t_dat'].max()"
      ]
    },
    {
      "cell_type": "code",
      "execution_count": 18,
      "metadata": {
        "id": "OubKZgNBxJ_Y"
      },
      "outputs": [
        {
          "data": {
            "text/plain": [
              "str"
            ]
          },
          "execution_count": 18,
          "metadata": {},
          "output_type": "execute_result"
        }
      ],
      "source": [
        "type(analysis_date)"
      ]
    },
    {
      "cell_type": "code",
      "execution_count": 19,
      "metadata": {
        "id": "6jLDqJ6axtoc"
      },
      "outputs": [],
      "source": [
        "import datetime as dt"
      ]
    },
    {
      "cell_type": "code",
      "execution_count": 20,
      "metadata": {
        "id": "pacOs1EyxzsY"
      },
      "outputs": [],
      "source": [
        "analysis_date = dt.datetime(2020,9,22)"
      ]
    },
    {
      "cell_type": "code",
      "execution_count": 21,
      "metadata": {
        "id": "XofS4seqygeU"
      },
      "outputs": [
        {
          "data": {
            "text/plain": [
              "datetime.datetime"
            ]
          },
          "execution_count": 21,
          "metadata": {},
          "output_type": "execute_result"
        }
      ],
      "source": [
        "type(analysis_date)"
      ]
    },
    {
      "cell_type": "code",
      "execution_count": 22,
      "metadata": {
        "id": "MBSv-LOpxqba"
      },
      "outputs": [],
      "source": [
        "orders['t_dat'] = pd.to_datetime(orders['t_dat'],format='%Y-%m-%d')"
      ]
    },
    {
      "cell_type": "code",
      "execution_count": 23,
      "metadata": {
        "id": "DjhSjv3Qv44k"
      },
      "outputs": [],
      "source": [
        "orders['date']=orders['t_dat']"
      ]
    },
    {
      "cell_type": "code",
      "execution_count": 24,
      "metadata": {
        "id": "eRQ3ONZTw-mN"
      },
      "outputs": [
        {
          "name": "stdout",
          "output_type": "stream",
          "text": [
            "<class 'pandas.core.frame.DataFrame'>\n",
            "RangeIndex: 2022988 entries, 0 to 2022987\n",
            "Data columns (total 4 columns):\n",
            " #   Column       Dtype         \n",
            "---  ------       -----         \n",
            " 0   t_dat        datetime64[ns]\n",
            " 1   customer_id  object        \n",
            " 2   price        float64       \n",
            " 3   date         datetime64[ns]\n",
            "dtypes: datetime64[ns](2), float64(1), object(1)\n",
            "memory usage: 61.7+ MB\n"
          ]
        }
      ],
      "source": [
        "orders.info()"
      ]
    },
    {
      "cell_type": "markdown",
      "metadata": {},
      "source": [
        "### RFM Analysis"
      ]
    },
    {
      "cell_type": "code",
      "execution_count": 25,
      "metadata": {
        "id": "Dx152YOpvKAY"
      },
      "outputs": [],
      "source": [
        "rfm = orders.groupby('customer_id').agg({\n",
        "    't_dat': lambda x: (analysis_date - x.max()).days,\n",
        "    'date': 'count',\n",
        "    'price': 'sum'})\n",
        "#rfm.head()\n",
        "rfm.columns=[\"Recency\",\"Frequency\",\"Monetary\"]\n"
      ]
    },
    {
      "cell_type": "code",
      "execution_count": 26,
      "metadata": {
        "id": "6QsRo90XzVyW"
      },
      "outputs": [
        {
          "data": {
            "text/html": [
              "<div>\n",
              "<style scoped>\n",
              "    .dataframe tbody tr th:only-of-type {\n",
              "        vertical-align: middle;\n",
              "    }\n",
              "\n",
              "    .dataframe tbody tr th {\n",
              "        vertical-align: top;\n",
              "    }\n",
              "\n",
              "    .dataframe thead th {\n",
              "        text-align: right;\n",
              "    }\n",
              "</style>\n",
              "<table border=\"1\" class=\"dataframe\">\n",
              "  <thead>\n",
              "    <tr style=\"text-align: right;\">\n",
              "      <th></th>\n",
              "      <th>Recency</th>\n",
              "      <th>Frequency</th>\n",
              "      <th>Monetary</th>\n",
              "    </tr>\n",
              "    <tr>\n",
              "      <th>customer_id</th>\n",
              "      <th></th>\n",
              "      <th></th>\n",
              "      <th></th>\n",
              "    </tr>\n",
              "  </thead>\n",
              "  <tbody>\n",
              "    <tr>\n",
              "      <th>00000dbacae5abe5e23885899a1fa44253a17956c6d1c3d25f88aa139fdfc657</th>\n",
              "      <td>185</td>\n",
              "      <td>1</td>\n",
              "      <td>0.093644</td>\n",
              "    </tr>\n",
              "    <tr>\n",
              "      <th>0000423b00ade91418cceaf3b26c6af3dd342b51fd051eec9c12fb36984420fa</th>\n",
              "      <td>153</td>\n",
              "      <td>4</td>\n",
              "      <td>0.787593</td>\n",
              "    </tr>\n",
              "    <tr>\n",
              "      <th>000058a12d5b43e67d225668fa1f8d618c13dc232df0cad8ffe7ad4a1091e318</th>\n",
              "      <td>7</td>\n",
              "      <td>4</td>\n",
              "      <td>0.559085</td>\n",
              "    </tr>\n",
              "    <tr>\n",
              "      <th>00006413d8573cd20ed7128e53b7b13819fe5cfc2d801fe7fc0f26dd8d65a85a</th>\n",
              "      <td>41</td>\n",
              "      <td>2</td>\n",
              "      <td>0.255814</td>\n",
              "    </tr>\n",
              "    <tr>\n",
              "      <th>0000757967448a6cb83efb3ea7a3fb9d418ac7adf2379d8cd0c725276a467a2a</th>\n",
              "      <td>8</td>\n",
              "      <td>1</td>\n",
              "      <td>0.076237</td>\n",
              "    </tr>\n",
              "  </tbody>\n",
              "</table>\n",
              "</div>"
            ],
            "text/plain": [
              "                                                    Recency  Frequency  \\\n",
              "customer_id                                                              \n",
              "00000dbacae5abe5e23885899a1fa44253a17956c6d1c3d...      185          1   \n",
              "0000423b00ade91418cceaf3b26c6af3dd342b51fd051ee...      153          4   \n",
              "000058a12d5b43e67d225668fa1f8d618c13dc232df0cad...        7          4   \n",
              "00006413d8573cd20ed7128e53b7b13819fe5cfc2d801fe...       41          2   \n",
              "0000757967448a6cb83efb3ea7a3fb9d418ac7adf2379d8...        8          1   \n",
              "\n",
              "                                                    Monetary  \n",
              "customer_id                                                   \n",
              "00000dbacae5abe5e23885899a1fa44253a17956c6d1c3d...  0.093644  \n",
              "0000423b00ade91418cceaf3b26c6af3dd342b51fd051ee...  0.787593  \n",
              "000058a12d5b43e67d225668fa1f8d618c13dc232df0cad...  0.559085  \n",
              "00006413d8573cd20ed7128e53b7b13819fe5cfc2d801fe...  0.255814  \n",
              "0000757967448a6cb83efb3ea7a3fb9d418ac7adf2379d8...  0.076237  "
            ]
          },
          "execution_count": 26,
          "metadata": {},
          "output_type": "execute_result"
        }
      ],
      "source": [
        "rfm.head()"
      ]
    },
    {
      "cell_type": "code",
      "execution_count": 27,
      "metadata": {
        "id": "3k_qK330zbLD"
      },
      "outputs": [
        {
          "data": {
            "text/html": [
              "<div>\n",
              "<style scoped>\n",
              "    .dataframe tbody tr th:only-of-type {\n",
              "        vertical-align: middle;\n",
              "    }\n",
              "\n",
              "    .dataframe tbody tr th {\n",
              "        vertical-align: top;\n",
              "    }\n",
              "\n",
              "    .dataframe thead th {\n",
              "        text-align: right;\n",
              "    }\n",
              "</style>\n",
              "<table border=\"1\" class=\"dataframe\">\n",
              "  <thead>\n",
              "    <tr style=\"text-align: right;\">\n",
              "      <th></th>\n",
              "      <th>Recency</th>\n",
              "      <th>Frequency</th>\n",
              "      <th>Monetary</th>\n",
              "    </tr>\n",
              "    <tr>\n",
              "      <th>customer_id</th>\n",
              "      <th></th>\n",
              "      <th></th>\n",
              "      <th></th>\n",
              "    </tr>\n",
              "  </thead>\n",
              "  <tbody>\n",
              "  </tbody>\n",
              "</table>\n",
              "</div>"
            ],
            "text/plain": [
              "Empty DataFrame\n",
              "Columns: [Recency, Frequency, Monetary]\n",
              "Index: []"
            ]
          },
          "execution_count": 27,
          "metadata": {},
          "output_type": "execute_result"
        }
      ],
      "source": [
        "rfm[rfm['Monetary']==0]"
      ]
    },
    {
      "cell_type": "code",
      "execution_count": 28,
      "metadata": {
        "id": "8ucQASxizkXO"
      },
      "outputs": [
        {
          "data": {
            "text/html": [
              "<div>\n",
              "<style scoped>\n",
              "    .dataframe tbody tr th:only-of-type {\n",
              "        vertical-align: middle;\n",
              "    }\n",
              "\n",
              "    .dataframe tbody tr th {\n",
              "        vertical-align: top;\n",
              "    }\n",
              "\n",
              "    .dataframe thead th {\n",
              "        text-align: right;\n",
              "    }\n",
              "</style>\n",
              "<table border=\"1\" class=\"dataframe\">\n",
              "  <thead>\n",
              "    <tr style=\"text-align: right;\">\n",
              "      <th></th>\n",
              "      <th>Recency</th>\n",
              "      <th>Frequency</th>\n",
              "      <th>Monetary</th>\n",
              "    </tr>\n",
              "    <tr>\n",
              "      <th>customer_id</th>\n",
              "      <th></th>\n",
              "      <th></th>\n",
              "      <th></th>\n",
              "    </tr>\n",
              "  </thead>\n",
              "  <tbody>\n",
              "    <tr>\n",
              "      <th>0003e867a930d0d6842f923d6ba7c9b77aba33fe2a0fbf4672f30b3e622fec55</th>\n",
              "      <td>0</td>\n",
              "      <td>8</td>\n",
              "      <td>0.589915</td>\n",
              "    </tr>\n",
              "    <tr>\n",
              "      <th>000525e3fe01600d717da8423643a8303390a055c578ed8a97256600baf54565</th>\n",
              "      <td>0</td>\n",
              "      <td>1</td>\n",
              "      <td>0.025407</td>\n",
              "    </tr>\n",
              "    <tr>\n",
              "      <th>001436e2c83cda28548dd668cfc7d621d70d2baf6f6cf0684c7cc8499d0c351f</th>\n",
              "      <td>0</td>\n",
              "      <td>3</td>\n",
              "      <td>0.118576</td>\n",
              "    </tr>\n",
              "    <tr>\n",
              "      <th>0026ebdd70715d8fa2befa14dfed317a1ffe5451aba839a8a25af36ee78f061c</th>\n",
              "      <td>0</td>\n",
              "      <td>1</td>\n",
              "      <td>0.079593</td>\n",
              "    </tr>\n",
              "    <tr>\n",
              "      <th>002faf80a68267264102e08eb4f1f21a59236773e4ab9009c948433fdbad28e7</th>\n",
              "      <td>0</td>\n",
              "      <td>5</td>\n",
              "      <td>1.302593</td>\n",
              "    </tr>\n",
              "    <tr>\n",
              "      <th>...</th>\n",
              "      <td>...</td>\n",
              "      <td>...</td>\n",
              "      <td>...</td>\n",
              "    </tr>\n",
              "    <tr>\n",
              "      <th>ffcba92c45455b22f54dd02303b057c0a4b9b1f4fcfdf23b3c4ffdc5dcc2ebc9</th>\n",
              "      <td>0</td>\n",
              "      <td>26</td>\n",
              "      <td>3.024271</td>\n",
              "    </tr>\n",
              "    <tr>\n",
              "      <th>ffcd5ff3fd5b9ee6b984c143c973fd2697ca141483d381d9086f967daaee9a79</th>\n",
              "      <td>0</td>\n",
              "      <td>5</td>\n",
              "      <td>0.547322</td>\n",
              "    </tr>\n",
              "    <tr>\n",
              "      <th>ffd4cf2217de4a0a3f9f610cdec334c803692a18af08ac55b4c6fb955cc836b1</th>\n",
              "      <td>0</td>\n",
              "      <td>19</td>\n",
              "      <td>2.417407</td>\n",
              "    </tr>\n",
              "    <tr>\n",
              "      <th>fff2282977442e327b45d8c89afde25617d00124d0f99982410630ac51314356</th>\n",
              "      <td>0</td>\n",
              "      <td>89</td>\n",
              "      <td>7.857593</td>\n",
              "    </tr>\n",
              "    <tr>\n",
              "      <th>fffef3b6b73545df065b521e19f64bf6fe93bfd450ab20e02ce5d1e58a8f700b</th>\n",
              "      <td>0</td>\n",
              "      <td>15</td>\n",
              "      <td>1.740627</td>\n",
              "    </tr>\n",
              "  </tbody>\n",
              "</table>\n",
              "<p>6617 rows × 3 columns</p>\n",
              "</div>"
            ],
            "text/plain": [
              "                                                    Recency  Frequency  \\\n",
              "customer_id                                                              \n",
              "0003e867a930d0d6842f923d6ba7c9b77aba33fe2a0fbf4...        0          8   \n",
              "000525e3fe01600d717da8423643a8303390a055c578ed8...        0          1   \n",
              "001436e2c83cda28548dd668cfc7d621d70d2baf6f6cf06...        0          3   \n",
              "0026ebdd70715d8fa2befa14dfed317a1ffe5451aba839a...        0          1   \n",
              "002faf80a68267264102e08eb4f1f21a59236773e4ab900...        0          5   \n",
              "...                                                     ...        ...   \n",
              "ffcba92c45455b22f54dd02303b057c0a4b9b1f4fcfdf23...        0         26   \n",
              "ffcd5ff3fd5b9ee6b984c143c973fd2697ca141483d381d...        0          5   \n",
              "ffd4cf2217de4a0a3f9f610cdec334c803692a18af08ac5...        0         19   \n",
              "fff2282977442e327b45d8c89afde25617d00124d0f9998...        0         89   \n",
              "fffef3b6b73545df065b521e19f64bf6fe93bfd450ab20e...        0         15   \n",
              "\n",
              "                                                    Monetary  \n",
              "customer_id                                                   \n",
              "0003e867a930d0d6842f923d6ba7c9b77aba33fe2a0fbf4...  0.589915  \n",
              "000525e3fe01600d717da8423643a8303390a055c578ed8...  0.025407  \n",
              "001436e2c83cda28548dd668cfc7d621d70d2baf6f6cf06...  0.118576  \n",
              "0026ebdd70715d8fa2befa14dfed317a1ffe5451aba839a...  0.079593  \n",
              "002faf80a68267264102e08eb4f1f21a59236773e4ab900...  1.302593  \n",
              "...                                                      ...  \n",
              "ffcba92c45455b22f54dd02303b057c0a4b9b1f4fcfdf23...  3.024271  \n",
              "ffcd5ff3fd5b9ee6b984c143c973fd2697ca141483d381d...  0.547322  \n",
              "ffd4cf2217de4a0a3f9f610cdec334c803692a18af08ac5...  2.417407  \n",
              "fff2282977442e327b45d8c89afde25617d00124d0f9998...  7.857593  \n",
              "fffef3b6b73545df065b521e19f64bf6fe93bfd450ab20e...  1.740627  \n",
              "\n",
              "[6617 rows x 3 columns]"
            ]
          },
          "execution_count": 28,
          "metadata": {},
          "output_type": "execute_result"
        }
      ],
      "source": [
        "rfm[rfm['Recency']==0]"
      ]
    },
    {
      "cell_type": "markdown",
      "metadata": {},
      "source": [
        "### Distribusi kolom dari hasil RFM"
      ]
    },
    {
      "cell_type": "code",
      "execution_count": 29,
      "metadata": {},
      "outputs": [],
      "source": [
        "import seaborn as sns"
      ]
    },
    {
      "cell_type": "code",
      "execution_count": 30,
      "metadata": {},
      "outputs": [
        {
          "name": "stdout",
          "output_type": "stream",
          "text": [
            "Skew recency:  0.44105729663337856\n"
          ]
        },
        {
          "data": {
            "text/plain": [
              "<AxesSubplot:xlabel='Recency', ylabel='Count'>"
            ]
          },
          "execution_count": 30,
          "metadata": {},
          "output_type": "execute_result"
        },
        {
          "data": {
            "image/png": "[encoded data removed]",
            "text/plain": [
              "<Figure size 432x288 with 1 Axes>"
            ]
          },
          "metadata": {
            "needs_background": "light"
          },
          "output_type": "display_data"
        }
      ],
      "source": [
        "print('Skew recency: ',rfm.Recency.skew())\n",
        "sns.histplot(data=rfm.Recency,bins=20)"
      ]
    },
    {
      "cell_type": "code",
      "execution_count": 31,
      "metadata": {},
      "outputs": [
        {
          "name": "stdout",
          "output_type": "stream",
          "text": [
            "Skew recency:  6.1044245758104045\n"
          ]
        },
        {
          "data": {
            "text/plain": [
              "<AxesSubplot:xlabel='Frequency', ylabel='Count'>"
            ]
          },
          "execution_count": 31,
          "metadata": {},
          "output_type": "execute_result"
        },
        {
          "data": {
            "image/png": "[encoded data removed]",
            "text/plain": [
              "<Figure size 432x288 with 1 Axes>"
            ]
          },
          "metadata": {
            "needs_background": "light"
          },
          "output_type": "display_data"
        }
      ],
      "source": [
        "print('Skew recency: ',rfm.Frequency.skew())\n",
        "sns.histplot(data=rfm.Frequency,bins=20)"
      ]
    },
    {
      "cell_type": "code",
      "execution_count": 32,
      "metadata": {},
      "outputs": [
        {
          "name": "stdout",
          "output_type": "stream",
          "text": [
            "Skew recency:  6.705709159447153\n"
          ]
        },
        {
          "data": {
            "text/plain": [
              "<AxesSubplot:xlabel='Monetary', ylabel='Count'>"
            ]
          },
          "execution_count": 32,
          "metadata": {},
          "output_type": "execute_result"
        },
        {
          "data": {
            "image/png": "[encoded data removed]",
            "text/plain": [
              "<Figure size 432x288 with 1 Axes>"
            ]
          },
          "metadata": {
            "needs_background": "light"
          },
          "output_type": "display_data"
        }
      ],
      "source": [
        "print('Skew recency: ',rfm.Monetary.skew())\n",
        "sns.histplot(data=rfm.Monetary,bins=20)"
      ]
    },
    {
      "cell_type": "markdown",
      "metadata": {},
      "source": [
        "### Normalisasi Data hasil RFM : Dengan Log "
      ]
    },
    {
      "cell_type": "code",
      "execution_count": 33,
      "metadata": {},
      "outputs": [],
      "source": [
        "rfm['Recency'] = rfm['Recency'] + 1"
      ]
    },
    {
      "cell_type": "code",
      "execution_count": 34,
      "metadata": {},
      "outputs": [],
      "source": [
        "rfm_log = rfm[['Recency','Frequency','Monetary']].apply(np.log,axis=1).round(3)"
      ]
    },
    {
      "cell_type": "code",
      "execution_count": 35,
      "metadata": {},
      "outputs": [
        {
          "data": {
            "text/html": [
              "<div>\n",
              "<style scoped>\n",
              "    .dataframe tbody tr th:only-of-type {\n",
              "        vertical-align: middle;\n",
              "    }\n",
              "\n",
              "    .dataframe tbody tr th {\n",
              "        vertical-align: top;\n",
              "    }\n",
              "\n",
              "    .dataframe thead th {\n",
              "        text-align: right;\n",
              "    }\n",
              "</style>\n",
              "<table border=\"1\" class=\"dataframe\">\n",
              "  <thead>\n",
              "    <tr style=\"text-align: right;\">\n",
              "      <th></th>\n",
              "      <th>Recency</th>\n",
              "      <th>Frequency</th>\n",
              "      <th>Monetary</th>\n",
              "    </tr>\n",
              "  </thead>\n",
              "  <tbody>\n",
              "    <tr>\n",
              "      <th>count</th>\n",
              "      <td>692745.000000</td>\n",
              "      <td>692745.000000</td>\n",
              "      <td>692745.000000</td>\n",
              "    </tr>\n",
              "    <tr>\n",
              "      <th>mean</th>\n",
              "      <td>4.182531</td>\n",
              "      <td>0.696115</td>\n",
              "      <td>-1.786854</td>\n",
              "    </tr>\n",
              "    <tr>\n",
              "      <th>std</th>\n",
              "      <td>1.148364</td>\n",
              "      <td>0.779196</td>\n",
              "      <td>1.173378</td>\n",
              "    </tr>\n",
              "    <tr>\n",
              "      <th>min</th>\n",
              "      <td>0.000000</td>\n",
              "      <td>0.000000</td>\n",
              "      <td>-6.390000</td>\n",
              "    </tr>\n",
              "    <tr>\n",
              "      <th>25%</th>\n",
              "      <td>3.611000</td>\n",
              "      <td>0.000000</td>\n",
              "      <td>-2.673000</td>\n",
              "    </tr>\n",
              "    <tr>\n",
              "      <th>50%</th>\n",
              "      <td>4.511000</td>\n",
              "      <td>0.693000</td>\n",
              "      <td>-1.827000</td>\n",
              "    </tr>\n",
              "    <tr>\n",
              "      <th>75%</th>\n",
              "      <td>5.050000</td>\n",
              "      <td>1.099000</td>\n",
              "      <td>-0.969000</td>\n",
              "    </tr>\n",
              "    <tr>\n",
              "      <th>max</th>\n",
              "      <td>5.583000</td>\n",
              "      <td>5.088000</td>\n",
              "      <td>3.499000</td>\n",
              "    </tr>\n",
              "  </tbody>\n",
              "</table>\n",
              "</div>"
            ],
            "text/plain": [
              "             Recency      Frequency       Monetary\n",
              "count  692745.000000  692745.000000  692745.000000\n",
              "mean        4.182531       0.696115      -1.786854\n",
              "std         1.148364       0.779196       1.173378\n",
              "min         0.000000       0.000000      -6.390000\n",
              "25%         3.611000       0.000000      -2.673000\n",
              "50%         4.511000       0.693000      -1.827000\n",
              "75%         5.050000       1.099000      -0.969000\n",
              "max         5.583000       5.088000       3.499000"
            ]
          },
          "execution_count": 35,
          "metadata": {},
          "output_type": "execute_result"
        }
      ],
      "source": [
        "rfm_log.describe()"
      ]
    },
    {
      "cell_type": "code",
      "execution_count": 36,
      "metadata": {},
      "outputs": [
        {
          "name": "stdout",
          "output_type": "stream",
          "text": [
            "Skew recency:  -1.285916988325423\n"
          ]
        },
        {
          "data": {
            "text/plain": [
              "<AxesSubplot:xlabel='Recency', ylabel='Count'>"
            ]
          },
          "execution_count": 36,
          "metadata": {},
          "output_type": "execute_result"
        },
        {
          "data": {
            "image/png": "[encoded data removed]",
            "text/plain": [
              "<Figure size 432x288 with 1 Axes>"
            ]
          },
          "metadata": {
            "needs_background": "light"
          },
          "output_type": "display_data"
        }
      ],
      "source": [
        "print('Skew recency: ',rfm_log.Recency.skew())\n",
        "sns.histplot(data=rfm_log.Recency,bins=20)"
      ]
    },
    {
      "cell_type": "code",
      "execution_count": 37,
      "metadata": {},
      "outputs": [
        {
          "name": "stdout",
          "output_type": "stream",
          "text": [
            "Skew frequency:  0.9362300761964895\n"
          ]
        },
        {
          "data": {
            "text/plain": [
              "<AxesSubplot:xlabel='Frequency', ylabel='Count'>"
            ]
          },
          "execution_count": 37,
          "metadata": {},
          "output_type": "execute_result"
        },
        {
          "data": {
            "image/png": "[encoded data removed]",
            "text/plain": [
              "<Figure size 432x288 with 1 Axes>"
            ]
          },
          "metadata": {
            "needs_background": "light"
          },
          "output_type": "display_data"
        }
      ],
      "source": [
        "print('Skew frequency: ',rfm_log.Frequency.skew())\n",
        "sns.histplot(data=rfm_log.Frequency,bins=20)"
      ]
    },
    {
      "cell_type": "code",
      "execution_count": 38,
      "metadata": {},
      "outputs": [
        {
          "name": "stdout",
          "output_type": "stream",
          "text": [
            "Skew monetary:  0.13705559945871262\n"
          ]
        },
        {
          "data": {
            "text/plain": [
              "<AxesSubplot:xlabel='Monetary', ylabel='Count'>"
            ]
          },
          "execution_count": 38,
          "metadata": {},
          "output_type": "execute_result"
        },
        {
          "data": {
            "image/png": "[encoded data removed]",
            "text/plain": [
              "<Figure size 432x288 with 1 Axes>"
            ]
          },
          "metadata": {
            "needs_background": "light"
          },
          "output_type": "display_data"
        }
      ],
      "source": [
        "print('Skew monetary: ',rfm_log.Monetary.skew())\n",
        "sns.histplot(data=rfm_log.Monetary,bins=20)"
      ]
    },
    {
      "cell_type": "markdown",
      "metadata": {
        "id": "cySZJZP02BG7"
      },
      "source": [
        "### Coba clustering"
      ]
    },
    {
      "cell_type": "markdown",
      "metadata": {
        "id": "91xkwH8y24FG"
      },
      "source": [
        "### Scaling : Menggunakan MinMaxScaler"
      ]
    },
    {
      "cell_type": "code",
      "execution_count": 39,
      "metadata": {
        "id": "N3VjnrkW1_9J"
      },
      "outputs": [],
      "source": [
        "num_scaler=MinMaxScaler()\n",
        "rfm_scaled = num_scaler.fit_transform(rfm_log)"
      ]
    },
    {
      "cell_type": "code",
      "execution_count": 40,
      "metadata": {
        "id": "dJYVEqnr3WgX"
      },
      "outputs": [
        {
          "data": {
            "text/plain": [
              "array([[0.93605588, 0.        , 0.40671453],\n",
              "       [0.90220312, 0.27240566, 0.62200425],\n",
              "       [0.37238044, 0.27240566, 0.58742037],\n",
              "       ...,\n",
              "       [0.90686011, 0.35220126, 0.62240874],\n",
              "       [0.48504388, 0.13620283, 0.38800688],\n",
              "       [0.89862081, 0.21599843, 0.47942158]])"
            ]
          },
          "execution_count": 40,
          "metadata": {},
          "output_type": "execute_result"
        }
      ],
      "source": [
        "rfm_scaled"
      ]
    },
    {
      "cell_type": "code",
      "execution_count": 41,
      "metadata": {
        "id": "6ARIP6L1FqKB"
      },
      "outputs": [],
      "source": [
        "k_means_per_k = [KMeans(n_clusters=k, random_state=34).fit(rfm_scaled)\n",
        "                for k in range(1, 10)]\n",
        "inertias = [model.inertia_ for model in k_means_per_k]"
      ]
    },
    {
      "cell_type": "code",
      "execution_count": 42,
      "metadata": {
        "id": "jVQ4TR2XF3MX"
      },
      "outputs": [
        {
          "data": {
            "image/png": "[encoded data removed]",
            "text/plain": [
              "<Figure size 432x288 with 1 Axes>"
            ]
          },
          "metadata": {
            "needs_background": "light"
          },
          "output_type": "display_data"
        }
      ],
      "source": [
        "plt.plot(np.array([i for i in range(1,10)]), np.array(inertias))\n",
        "plt.xlabel('Jumlah kluster')\n",
        "plt.ylabel('Inersia')\n",
        "plt.show()"
      ]
    },
    {
      "cell_type": "markdown",
      "metadata": {},
      "source": [
        "#### Asumsikan menggunakan cluster  = 4"
      ]
    },
    {
      "cell_type": "code",
      "execution_count": 43,
      "metadata": {
        "id": "ypJXdB_wGwOb"
      },
      "outputs": [],
      "source": [
        "kmeans_model = KMeans(n_clusters=4, random_state=69, n_init=10)"
      ]
    },
    {
      "cell_type": "code",
      "execution_count": 44,
      "metadata": {
        "id": "iK0fCt0_GqMw"
      },
      "outputs": [
        {
          "data": {
            "text/plain": [
              "array([3, 2, 1, ..., 2, 0, 2])"
            ]
          },
          "execution_count": 44,
          "metadata": {},
          "output_type": "execute_result"
        }
      ],
      "source": [
        "rfm_trained_logscaled = kmeans_model.fit_predict(rfm_scaled)\n",
        "rfm_trained_logscaled"
      ]
    },
    {
      "cell_type": "code",
      "execution_count": 45,
      "metadata": {
        "id": "8U_THQBUG2_T"
      },
      "outputs": [],
      "source": [
        "rfm['Clusters'] = rfm_trained_logscaled"
      ]
    },
    {
      "cell_type": "code",
      "execution_count": 46,
      "metadata": {
        "id": "l0G-ognLG-hA"
      },
      "outputs": [
        {
          "data": {
            "text/html": [
              "<div>\n",
              "<style scoped>\n",
              "    .dataframe tbody tr th:only-of-type {\n",
              "        vertical-align: middle;\n",
              "    }\n",
              "\n",
              "    .dataframe tbody tr th {\n",
              "        vertical-align: top;\n",
              "    }\n",
              "\n",
              "    .dataframe thead th {\n",
              "        text-align: right;\n",
              "    }\n",
              "</style>\n",
              "<table border=\"1\" class=\"dataframe\">\n",
              "  <thead>\n",
              "    <tr style=\"text-align: right;\">\n",
              "      <th></th>\n",
              "      <th>Recency</th>\n",
              "      <th>Frequency</th>\n",
              "      <th>Monetary</th>\n",
              "      <th>Clusters</th>\n",
              "    </tr>\n",
              "    <tr>\n",
              "      <th>customer_id</th>\n",
              "      <th></th>\n",
              "      <th></th>\n",
              "      <th></th>\n",
              "      <th></th>\n",
              "    </tr>\n",
              "  </thead>\n",
              "  <tbody>\n",
              "    <tr>\n",
              "      <th>00000dbacae5abe5e23885899a1fa44253a17956c6d1c3d25f88aa139fdfc657</th>\n",
              "      <td>186</td>\n",
              "      <td>1</td>\n",
              "      <td>0.093644</td>\n",
              "      <td>3</td>\n",
              "    </tr>\n",
              "    <tr>\n",
              "      <th>0000423b00ade91418cceaf3b26c6af3dd342b51fd051eec9c12fb36984420fa</th>\n",
              "      <td>154</td>\n",
              "      <td>4</td>\n",
              "      <td>0.787593</td>\n",
              "      <td>2</td>\n",
              "    </tr>\n",
              "    <tr>\n",
              "      <th>000058a12d5b43e67d225668fa1f8d618c13dc232df0cad8ffe7ad4a1091e318</th>\n",
              "      <td>8</td>\n",
              "      <td>4</td>\n",
              "      <td>0.559085</td>\n",
              "      <td>1</td>\n",
              "    </tr>\n",
              "    <tr>\n",
              "      <th>00006413d8573cd20ed7128e53b7b13819fe5cfc2d801fe7fc0f26dd8d65a85a</th>\n",
              "      <td>42</td>\n",
              "      <td>2</td>\n",
              "      <td>0.255814</td>\n",
              "      <td>2</td>\n",
              "    </tr>\n",
              "    <tr>\n",
              "      <th>0000757967448a6cb83efb3ea7a3fb9d418ac7adf2379d8cd0c725276a467a2a</th>\n",
              "      <td>9</td>\n",
              "      <td>1</td>\n",
              "      <td>0.076237</td>\n",
              "      <td>0</td>\n",
              "    </tr>\n",
              "    <tr>\n",
              "      <th>...</th>\n",
              "      <td>...</td>\n",
              "      <td>...</td>\n",
              "      <td>...</td>\n",
              "      <td>...</td>\n",
              "    </tr>\n",
              "    <tr>\n",
              "      <th>ffff8f9ecdce722b5bab97fff68a6d1866492209bfe5242c50d2a10a652fb5ef</th>\n",
              "      <td>113</td>\n",
              "      <td>1</td>\n",
              "      <td>0.135542</td>\n",
              "      <td>3</td>\n",
              "    </tr>\n",
              "    <tr>\n",
              "      <th>ffffbbf78b6eaac697a8a5dfbfd2bfa8113ee5b403e4747568cac33e8c541831</th>\n",
              "      <td>41</td>\n",
              "      <td>3</td>\n",
              "      <td>0.374305</td>\n",
              "      <td>2</td>\n",
              "    </tr>\n",
              "    <tr>\n",
              "      <th>ffffcd5046a6143d29a04fb8c424ce494a76e5cdf4fab53481233731b5c4f8b7</th>\n",
              "      <td>158</td>\n",
              "      <td>6</td>\n",
              "      <td>0.790271</td>\n",
              "      <td>2</td>\n",
              "    </tr>\n",
              "    <tr>\n",
              "      <th>ffffcf35913a0bee60e8741cb2b4e78b8a98ee5ff2e6a1778d0116cffd259264</th>\n",
              "      <td>15</td>\n",
              "      <td>2</td>\n",
              "      <td>0.077864</td>\n",
              "      <td>0</td>\n",
              "    </tr>\n",
              "    <tr>\n",
              "      <th>ffffd7744cebcf3aca44ae7049d2a94b87074c3d4ffe38b2236865d949d4df6a</th>\n",
              "      <td>151</td>\n",
              "      <td>3</td>\n",
              "      <td>0.192271</td>\n",
              "      <td>2</td>\n",
              "    </tr>\n",
              "  </tbody>\n",
              "</table>\n",
              "<p>692745 rows × 4 columns</p>\n",
              "</div>"
            ],
            "text/plain": [
              "                                                    Recency  Frequency  \\\n",
              "customer_id                                                              \n",
              "00000dbacae5abe5e23885899a1fa44253a17956c6d1c3d...      186          1   \n",
              "0000423b00ade91418cceaf3b26c6af3dd342b51fd051ee...      154          4   \n",
              "000058a12d5b43e67d225668fa1f8d618c13dc232df0cad...        8          4   \n",
              "00006413d8573cd20ed7128e53b7b13819fe5cfc2d801fe...       42          2   \n",
              "0000757967448a6cb83efb3ea7a3fb9d418ac7adf2379d8...        9          1   \n",
              "...                                                     ...        ...   \n",
              "ffff8f9ecdce722b5bab97fff68a6d1866492209bfe5242...      113          1   \n",
              "ffffbbf78b6eaac697a8a5dfbfd2bfa8113ee5b403e4747...       41          3   \n",
              "ffffcd5046a6143d29a04fb8c424ce494a76e5cdf4fab53...      158          6   \n",
              "ffffcf35913a0bee60e8741cb2b4e78b8a98ee5ff2e6a17...       15          2   \n",
              "ffffd7744cebcf3aca44ae7049d2a94b87074c3d4ffe38b...      151          3   \n",
              "\n",
              "                                                    Monetary  Clusters  \n",
              "customer_id                                                             \n",
              "00000dbacae5abe5e23885899a1fa44253a17956c6d1c3d...  0.093644         3  \n",
              "0000423b00ade91418cceaf3b26c6af3dd342b51fd051ee...  0.787593         2  \n",
              "000058a12d5b43e67d225668fa1f8d618c13dc232df0cad...  0.559085         1  \n",
              "00006413d8573cd20ed7128e53b7b13819fe5cfc2d801fe...  0.255814         2  \n",
              "0000757967448a6cb83efb3ea7a3fb9d418ac7adf2379d8...  0.076237         0  \n",
              "...                                                      ...       ...  \n",
              "ffff8f9ecdce722b5bab97fff68a6d1866492209bfe5242...  0.135542         3  \n",
              "ffffbbf78b6eaac697a8a5dfbfd2bfa8113ee5b403e4747...  0.374305         2  \n",
              "ffffcd5046a6143d29a04fb8c424ce494a76e5cdf4fab53...  0.790271         2  \n",
              "ffffcf35913a0bee60e8741cb2b4e78b8a98ee5ff2e6a17...  0.077864         0  \n",
              "ffffd7744cebcf3aca44ae7049d2a94b87074c3d4ffe38b...  0.192271         2  \n",
              "\n",
              "[692745 rows x 4 columns]"
            ]
          },
          "execution_count": 46,
          "metadata": {},
          "output_type": "execute_result"
        }
      ],
      "source": [
        "rfm"
      ]
    },
    {
      "cell_type": "markdown",
      "metadata": {},
      "source": [
        "### Hasil Visualisasi dari Clustering = 4"
      ]
    },
    {
      "cell_type": "code",
      "execution_count": 47,
      "metadata": {
        "id": "gUdqmaXiG9ui"
      },
      "outputs": [
        {
          "data": {
            "text/plain": [
              "<AxesSubplot:xlabel='Recency', ylabel='Frequency'>"
            ]
          },
          "execution_count": 47,
          "metadata": {},
          "output_type": "execute_result"
        },
        {
          "data": {
            "image/png": "[encoded data removed]",
            "text/plain": [
              "<Figure size 432x288 with 1 Axes>"
            ]
          },
          "metadata": {
            "needs_background": "light"
          },
          "output_type": "display_data"
        }
      ],
      "source": [
        "sns.scatterplot(x=rfm.Recency,y=rfm.Frequency,hue=rfm.Clusters)"
      ]
    },
    {
      "cell_type": "markdown",
      "metadata": {},
      "source": [
        "- 0 : Recency Frequency kecil\n",
        "- 1 : Recency kecil , frequency menengah hingga ke atas\n",
        "- 2 : Recency menengah hingga ke atas, frequency menengah\n",
        "- 3 : Recency menengah hingga ke atas, frequency kecil"
      ]
    },
    {
      "cell_type": "code",
      "execution_count": 48,
      "metadata": {},
      "outputs": [
        {
          "data": {
            "text/html": [
              "<div>\n",
              "<style scoped>\n",
              "    .dataframe tbody tr th:only-of-type {\n",
              "        vertical-align: middle;\n",
              "    }\n",
              "\n",
              "    .dataframe tbody tr th {\n",
              "        vertical-align: top;\n",
              "    }\n",
              "\n",
              "    .dataframe thead th {\n",
              "        text-align: right;\n",
              "    }\n",
              "</style>\n",
              "<table border=\"1\" class=\"dataframe\">\n",
              "  <thead>\n",
              "    <tr style=\"text-align: right;\">\n",
              "      <th></th>\n",
              "      <th>Recency</th>\n",
              "      <th>Frequency</th>\n",
              "      <th>Monetary</th>\n",
              "    </tr>\n",
              "    <tr>\n",
              "      <th>Clusters</th>\n",
              "      <th></th>\n",
              "      <th></th>\n",
              "      <th></th>\n",
              "    </tr>\n",
              "  </thead>\n",
              "  <tbody>\n",
              "    <tr>\n",
              "      <th>1</th>\n",
              "      <td>13.426728</td>\n",
              "      <td>8.769257</td>\n",
              "      <td>1.078294</td>\n",
              "    </tr>\n",
              "    <tr>\n",
              "      <th>0</th>\n",
              "      <td>22.513007</td>\n",
              "      <td>1.617129</td>\n",
              "      <td>0.154395</td>\n",
              "    </tr>\n",
              "    <tr>\n",
              "      <th>2</th>\n",
              "      <td>87.843612</td>\n",
              "      <td>3.737097</td>\n",
              "      <td>0.457366</td>\n",
              "    </tr>\n",
              "    <tr>\n",
              "      <th>3</th>\n",
              "      <td>153.388550</td>\n",
              "      <td>1.167788</td>\n",
              "      <td>0.108425</td>\n",
              "    </tr>\n",
              "  </tbody>\n",
              "</table>\n",
              "</div>"
            ],
            "text/plain": [
              "             Recency  Frequency  Monetary\n",
              "Clusters                                 \n",
              "1          13.426728   8.769257  1.078294\n",
              "0          22.513007   1.617129  0.154395\n",
              "2          87.843612   3.737097  0.457366\n",
              "3         153.388550   1.167788  0.108425"
            ]
          },
          "execution_count": 48,
          "metadata": {},
          "output_type": "execute_result"
        }
      ],
      "source": [
        "rfm.groupby('Clusters')[['Recency','Frequency','Monetary']].mean().sort_values(by='Recency',ascending=True)"
      ]
    },
    {
      "cell_type": "code",
      "execution_count": 49,
      "metadata": {},
      "outputs": [
        {
          "data": {
            "text/plain": [
              "<AxesSubplot:xlabel='Recency', ylabel='Monetary'>"
            ]
          },
          "execution_count": 49,
          "metadata": {},
          "output_type": "execute_result"
        },
        {
          "data": {
            "image/png": "[encoded data removed]",
            "text/plain": [
              "<Figure size 432x288 with 1 Axes>"
            ]
          },
          "metadata": {
            "needs_background": "light"
          },
          "output_type": "display_data"
        }
      ],
      "source": [
        "sns.scatterplot(x=rfm.Recency,y=rfm.Monetary,hue=rfm.Clusters)"
      ]
    },
    {
      "cell_type": "code",
      "execution_count": 50,
      "metadata": {},
      "outputs": [
        {
          "data": {
            "text/plain": [
              "<AxesSubplot:xlabel='Frequency', ylabel='Monetary'>"
            ]
          },
          "execution_count": 50,
          "metadata": {},
          "output_type": "execute_result"
        },
        {
          "data": {
            "image/png": "[encoded data removed]",
            "text/plain": [
              "<Figure size 432x288 with 1 Axes>"
            ]
          },
          "metadata": {
            "needs_background": "light"
          },
          "output_type": "display_data"
        }
      ],
      "source": [
        "sns.scatterplot(x=rfm.Frequency,y=rfm.Monetary,hue=rfm.Clusters)"
      ]
    },
    {
      "cell_type": "code",
      "execution_count": 51,
      "metadata": {},
      "outputs": [
        {
          "data": {
            "text/html": [
              "<div>\n",
              "<style scoped>\n",
              "    .dataframe tbody tr th:only-of-type {\n",
              "        vertical-align: middle;\n",
              "    }\n",
              "\n",
              "    .dataframe tbody tr th {\n",
              "        vertical-align: top;\n",
              "    }\n",
              "\n",
              "    .dataframe thead th {\n",
              "        text-align: right;\n",
              "    }\n",
              "</style>\n",
              "<table border=\"1\" class=\"dataframe\">\n",
              "  <thead>\n",
              "    <tr style=\"text-align: right;\">\n",
              "      <th></th>\n",
              "      <th>Recency</th>\n",
              "      <th>Frequency</th>\n",
              "      <th>Monetary</th>\n",
              "    </tr>\n",
              "    <tr>\n",
              "      <th>Clusters</th>\n",
              "      <th></th>\n",
              "      <th></th>\n",
              "      <th></th>\n",
              "    </tr>\n",
              "  </thead>\n",
              "  <tbody>\n",
              "    <tr>\n",
              "      <th>0</th>\n",
              "      <td>22.513007</td>\n",
              "      <td>1.617129</td>\n",
              "      <td>0.154395</td>\n",
              "    </tr>\n",
              "    <tr>\n",
              "      <th>1</th>\n",
              "      <td>13.426728</td>\n",
              "      <td>8.769257</td>\n",
              "      <td>1.078294</td>\n",
              "    </tr>\n",
              "    <tr>\n",
              "      <th>2</th>\n",
              "      <td>87.843612</td>\n",
              "      <td>3.737097</td>\n",
              "      <td>0.457366</td>\n",
              "    </tr>\n",
              "    <tr>\n",
              "      <th>3</th>\n",
              "      <td>153.388550</td>\n",
              "      <td>1.167788</td>\n",
              "      <td>0.108425</td>\n",
              "    </tr>\n",
              "  </tbody>\n",
              "</table>\n",
              "</div>"
            ],
            "text/plain": [
              "             Recency  Frequency  Monetary\n",
              "Clusters                                 \n",
              "0          22.513007   1.617129  0.154395\n",
              "1          13.426728   8.769257  1.078294\n",
              "2          87.843612   3.737097  0.457366\n",
              "3         153.388550   1.167788  0.108425"
            ]
          },
          "execution_count": 51,
          "metadata": {},
          "output_type": "execute_result"
        }
      ],
      "source": [
        "rfm.groupby('Clusters')[['Recency','Frequency','Monetary']].mean()"
      ]
    },
    {
      "cell_type": "code",
      "execution_count": 52,
      "metadata": {
        "id": "tk9Q9RZyHvX4"
      },
      "outputs": [
        {
          "data": {
            "image/png": "[encoded data removed]",
            "text/plain": [
              "<Figure size 864x216 with 4 Axes>"
            ]
          },
          "metadata": {
            "needs_background": "light"
          },
          "output_type": "display_data"
        },
        {
          "data": {
            "image/png": "[encoded data removed]",
            "text/plain": [
              "<Figure size 864x216 with 4 Axes>"
            ]
          },
          "metadata": {
            "needs_background": "light"
          },
          "output_type": "display_data"
        },
        {
          "data": {
            "image/png": "[encoded data removed]",
            "text/plain": [
              "<Figure size 864x216 with 4 Axes>"
            ]
          },
          "metadata": {
            "needs_background": "light"
          },
          "output_type": "display_data"
        },
        {
          "data": {
            "image/png": "[encoded data removed]",
            "text/plain": [
              "<Figure size 864x216 with 4 Axes>"
            ]
          },
          "metadata": {
            "needs_background": "light"
          },
          "output_type": "display_data"
        }
      ],
      "source": [
        "for c in rfm:\n",
        "    grid = sns.FacetGrid(rfm, col='Clusters')\n",
        "    grid.map(plt.hist, c)\n",
        "    grid.tight_layout(pad=2.0)"
      ]
    },
    {
      "cell_type": "markdown",
      "metadata": {},
      "source": [
        "### Labeling R F dan M score"
      ]
    },
    {
      "cell_type": "markdown",
      "metadata": {},
      "source": [
        "Menentukan angka 1 2 3 4 menggunakan quantiles masing - masing recency, frequency, dan monetary"
      ]
    },
    {
      "cell_type": "code",
      "execution_count": 53,
      "metadata": {},
      "outputs": [
        {
          "data": {
            "text/html": [
              "<div>\n",
              "<style scoped>\n",
              "    .dataframe tbody tr th:only-of-type {\n",
              "        vertical-align: middle;\n",
              "    }\n",
              "\n",
              "    .dataframe tbody tr th {\n",
              "        vertical-align: top;\n",
              "    }\n",
              "\n",
              "    .dataframe thead th {\n",
              "        text-align: right;\n",
              "    }\n",
              "</style>\n",
              "<table border=\"1\" class=\"dataframe\">\n",
              "  <thead>\n",
              "    <tr style=\"text-align: right;\">\n",
              "      <th></th>\n",
              "      <th>Recency</th>\n",
              "      <th>Frequency</th>\n",
              "      <th>Monetary</th>\n",
              "    </tr>\n",
              "  </thead>\n",
              "  <tbody>\n",
              "    <tr>\n",
              "      <th>0.25</th>\n",
              "      <td>37.0</td>\n",
              "      <td>1.0</td>\n",
              "      <td>0.069017</td>\n",
              "    </tr>\n",
              "    <tr>\n",
              "      <th>0.50</th>\n",
              "      <td>91.0</td>\n",
              "      <td>2.0</td>\n",
              "      <td>0.160949</td>\n",
              "    </tr>\n",
              "    <tr>\n",
              "      <th>0.75</th>\n",
              "      <td>156.0</td>\n",
              "      <td>3.0</td>\n",
              "      <td>0.379458</td>\n",
              "    </tr>\n",
              "  </tbody>\n",
              "</table>\n",
              "</div>"
            ],
            "text/plain": [
              "      Recency  Frequency  Monetary\n",
              "0.25     37.0        1.0  0.069017\n",
              "0.50     91.0        2.0  0.160949\n",
              "0.75    156.0        3.0  0.379458"
            ]
          },
          "execution_count": 53,
          "metadata": {},
          "output_type": "execute_result"
        }
      ],
      "source": [
        "# Create the quartiles scores\n",
        "quantiles = rfm.quantile(q=[0.25, 0.5, 0.75])\n",
        "quantiles.drop('Clusters',axis=1,inplace=True)\n",
        "quantiles"
      ]
    },
    {
      "cell_type": "code",
      "execution_count": 54,
      "metadata": {},
      "outputs": [],
      "source": [
        "def RFMScore(x, p, d):\n",
        "    if x <= d[p][0.25]:\n",
        "        return 1\n",
        "    elif x <= d[p][0.50]:\n",
        "        return 2\n",
        "    elif x <= d[p][0.75]: \n",
        "        return 3\n",
        "    else:\n",
        "        return 4"
      ]
    },
    {
      "cell_type": "code",
      "execution_count": 55,
      "metadata": {},
      "outputs": [],
      "source": [
        "def RFMScore_Recency(x, p, d):\n",
        "    if x <= d[p][0.25]:\n",
        "        return 4\n",
        "    elif x <= d[p][0.50]:\n",
        "        return 3\n",
        "    elif x <= d[p][0.75]: \n",
        "        return 2\n",
        "    else:\n",
        "        return 1"
      ]
    },
    {
      "cell_type": "markdown",
      "metadata": {},
      "source": [
        "Labeling R F M pada tabel rfm"
      ]
    },
    {
      "cell_type": "code",
      "execution_count": 56,
      "metadata": {},
      "outputs": [],
      "source": [
        "rfm['R'] = rfm['Recency'].apply(RFMScore_Recency, args=('Recency', quantiles,))\n",
        "rfm['F'] = rfm['Frequency'].apply(RFMScore, args=('Frequency', quantiles,))\n",
        "rfm['M'] = rfm['Monetary'].apply(RFMScore, args=('Monetary', quantiles,))"
      ]
    },
    {
      "cell_type": "code",
      "execution_count": 57,
      "metadata": {},
      "outputs": [
        {
          "data": {
            "text/html": [
              "<div>\n",
              "<style scoped>\n",
              "    .dataframe tbody tr th:only-of-type {\n",
              "        vertical-align: middle;\n",
              "    }\n",
              "\n",
              "    .dataframe tbody tr th {\n",
              "        vertical-align: top;\n",
              "    }\n",
              "\n",
              "    .dataframe thead th {\n",
              "        text-align: right;\n",
              "    }\n",
              "</style>\n",
              "<table border=\"1\" class=\"dataframe\">\n",
              "  <thead>\n",
              "    <tr style=\"text-align: right;\">\n",
              "      <th></th>\n",
              "      <th>Recency</th>\n",
              "      <th>Frequency</th>\n",
              "      <th>Monetary</th>\n",
              "      <th>Clusters</th>\n",
              "      <th>R</th>\n",
              "      <th>F</th>\n",
              "      <th>M</th>\n",
              "    </tr>\n",
              "    <tr>\n",
              "      <th>customer_id</th>\n",
              "      <th></th>\n",
              "      <th></th>\n",
              "      <th></th>\n",
              "      <th></th>\n",
              "      <th></th>\n",
              "      <th></th>\n",
              "      <th></th>\n",
              "    </tr>\n",
              "  </thead>\n",
              "  <tbody>\n",
              "    <tr>\n",
              "      <th>00000dbacae5abe5e23885899a1fa44253a17956c6d1c3d25f88aa139fdfc657</th>\n",
              "      <td>186</td>\n",
              "      <td>1</td>\n",
              "      <td>0.093644</td>\n",
              "      <td>3</td>\n",
              "      <td>1</td>\n",
              "      <td>1</td>\n",
              "      <td>2</td>\n",
              "    </tr>\n",
              "    <tr>\n",
              "      <th>0000423b00ade91418cceaf3b26c6af3dd342b51fd051eec9c12fb36984420fa</th>\n",
              "      <td>154</td>\n",
              "      <td>4</td>\n",
              "      <td>0.787593</td>\n",
              "      <td>2</td>\n",
              "      <td>2</td>\n",
              "      <td>4</td>\n",
              "      <td>4</td>\n",
              "    </tr>\n",
              "    <tr>\n",
              "      <th>000058a12d5b43e67d225668fa1f8d618c13dc232df0cad8ffe7ad4a1091e318</th>\n",
              "      <td>8</td>\n",
              "      <td>4</td>\n",
              "      <td>0.559085</td>\n",
              "      <td>1</td>\n",
              "      <td>4</td>\n",
              "      <td>4</td>\n",
              "      <td>4</td>\n",
              "    </tr>\n",
              "    <tr>\n",
              "      <th>00006413d8573cd20ed7128e53b7b13819fe5cfc2d801fe7fc0f26dd8d65a85a</th>\n",
              "      <td>42</td>\n",
              "      <td>2</td>\n",
              "      <td>0.255814</td>\n",
              "      <td>2</td>\n",
              "      <td>3</td>\n",
              "      <td>2</td>\n",
              "      <td>3</td>\n",
              "    </tr>\n",
              "    <tr>\n",
              "      <th>0000757967448a6cb83efb3ea7a3fb9d418ac7adf2379d8cd0c725276a467a2a</th>\n",
              "      <td>9</td>\n",
              "      <td>1</td>\n",
              "      <td>0.076237</td>\n",
              "      <td>0</td>\n",
              "      <td>4</td>\n",
              "      <td>1</td>\n",
              "      <td>2</td>\n",
              "    </tr>\n",
              "    <tr>\n",
              "      <th>...</th>\n",
              "      <td>...</td>\n",
              "      <td>...</td>\n",
              "      <td>...</td>\n",
              "      <td>...</td>\n",
              "      <td>...</td>\n",
              "      <td>...</td>\n",
              "      <td>...</td>\n",
              "    </tr>\n",
              "    <tr>\n",
              "      <th>ffff8f9ecdce722b5bab97fff68a6d1866492209bfe5242c50d2a10a652fb5ef</th>\n",
              "      <td>113</td>\n",
              "      <td>1</td>\n",
              "      <td>0.135542</td>\n",
              "      <td>3</td>\n",
              "      <td>2</td>\n",
              "      <td>1</td>\n",
              "      <td>2</td>\n",
              "    </tr>\n",
              "    <tr>\n",
              "      <th>ffffbbf78b6eaac697a8a5dfbfd2bfa8113ee5b403e4747568cac33e8c541831</th>\n",
              "      <td>41</td>\n",
              "      <td>3</td>\n",
              "      <td>0.374305</td>\n",
              "      <td>2</td>\n",
              "      <td>3</td>\n",
              "      <td>3</td>\n",
              "      <td>3</td>\n",
              "    </tr>\n",
              "    <tr>\n",
              "      <th>ffffcd5046a6143d29a04fb8c424ce494a76e5cdf4fab53481233731b5c4f8b7</th>\n",
              "      <td>158</td>\n",
              "      <td>6</td>\n",
              "      <td>0.790271</td>\n",
              "      <td>2</td>\n",
              "      <td>1</td>\n",
              "      <td>4</td>\n",
              "      <td>4</td>\n",
              "    </tr>\n",
              "    <tr>\n",
              "      <th>ffffcf35913a0bee60e8741cb2b4e78b8a98ee5ff2e6a1778d0116cffd259264</th>\n",
              "      <td>15</td>\n",
              "      <td>2</td>\n",
              "      <td>0.077864</td>\n",
              "      <td>0</td>\n",
              "      <td>4</td>\n",
              "      <td>2</td>\n",
              "      <td>2</td>\n",
              "    </tr>\n",
              "    <tr>\n",
              "      <th>ffffd7744cebcf3aca44ae7049d2a94b87074c3d4ffe38b2236865d949d4df6a</th>\n",
              "      <td>151</td>\n",
              "      <td>3</td>\n",
              "      <td>0.192271</td>\n",
              "      <td>2</td>\n",
              "      <td>2</td>\n",
              "      <td>3</td>\n",
              "      <td>3</td>\n",
              "    </tr>\n",
              "  </tbody>\n",
              "</table>\n",
              "<p>692745 rows × 7 columns</p>\n",
              "</div>"
            ],
            "text/plain": [
              "                                                    Recency  Frequency  \\\n",
              "customer_id                                                              \n",
              "00000dbacae5abe5e23885899a1fa44253a17956c6d1c3d...      186          1   \n",
              "0000423b00ade91418cceaf3b26c6af3dd342b51fd051ee...      154          4   \n",
              "000058a12d5b43e67d225668fa1f8d618c13dc232df0cad...        8          4   \n",
              "00006413d8573cd20ed7128e53b7b13819fe5cfc2d801fe...       42          2   \n",
              "0000757967448a6cb83efb3ea7a3fb9d418ac7adf2379d8...        9          1   \n",
              "...                                                     ...        ...   \n",
              "ffff8f9ecdce722b5bab97fff68a6d1866492209bfe5242...      113          1   \n",
              "ffffbbf78b6eaac697a8a5dfbfd2bfa8113ee5b403e4747...       41          3   \n",
              "ffffcd5046a6143d29a04fb8c424ce494a76e5cdf4fab53...      158          6   \n",
              "ffffcf35913a0bee60e8741cb2b4e78b8a98ee5ff2e6a17...       15          2   \n",
              "ffffd7744cebcf3aca44ae7049d2a94b87074c3d4ffe38b...      151          3   \n",
              "\n",
              "                                                    Monetary  Clusters  R  F  \\\n",
              "customer_id                                                                    \n",
              "00000dbacae5abe5e23885899a1fa44253a17956c6d1c3d...  0.093644         3  1  1   \n",
              "0000423b00ade91418cceaf3b26c6af3dd342b51fd051ee...  0.787593         2  2  4   \n",
              "000058a12d5b43e67d225668fa1f8d618c13dc232df0cad...  0.559085         1  4  4   \n",
              "00006413d8573cd20ed7128e53b7b13819fe5cfc2d801fe...  0.255814         2  3  2   \n",
              "0000757967448a6cb83efb3ea7a3fb9d418ac7adf2379d8...  0.076237         0  4  1   \n",
              "...                                                      ...       ... .. ..   \n",
              "ffff8f9ecdce722b5bab97fff68a6d1866492209bfe5242...  0.135542         3  2  1   \n",
              "ffffbbf78b6eaac697a8a5dfbfd2bfa8113ee5b403e4747...  0.374305         2  3  3   \n",
              "ffffcd5046a6143d29a04fb8c424ce494a76e5cdf4fab53...  0.790271         2  1  4   \n",
              "ffffcf35913a0bee60e8741cb2b4e78b8a98ee5ff2e6a17...  0.077864         0  4  2   \n",
              "ffffd7744cebcf3aca44ae7049d2a94b87074c3d4ffe38b...  0.192271         2  2  3   \n",
              "\n",
              "                                                    M  \n",
              "customer_id                                            \n",
              "00000dbacae5abe5e23885899a1fa44253a17956c6d1c3d...  2  \n",
              "0000423b00ade91418cceaf3b26c6af3dd342b51fd051ee...  4  \n",
              "000058a12d5b43e67d225668fa1f8d618c13dc232df0cad...  4  \n",
              "00006413d8573cd20ed7128e53b7b13819fe5cfc2d801fe...  3  \n",
              "0000757967448a6cb83efb3ea7a3fb9d418ac7adf2379d8...  2  \n",
              "...                                                ..  \n",
              "ffff8f9ecdce722b5bab97fff68a6d1866492209bfe5242...  2  \n",
              "ffffbbf78b6eaac697a8a5dfbfd2bfa8113ee5b403e4747...  3  \n",
              "ffffcd5046a6143d29a04fb8c424ce494a76e5cdf4fab53...  4  \n",
              "ffffcf35913a0bee60e8741cb2b4e78b8a98ee5ff2e6a17...  2  \n",
              "ffffd7744cebcf3aca44ae7049d2a94b87074c3d4ffe38b...  3  \n",
              "\n",
              "[692745 rows x 7 columns]"
            ]
          },
          "execution_count": 57,
          "metadata": {},
          "output_type": "execute_result"
        }
      ],
      "source": [
        "rfm"
      ]
    },
    {
      "cell_type": "markdown",
      "metadata": {},
      "source": [
        "Melihat hasil `RFM_Score` dari hasil penjumlahan R F M"
      ]
    },
    {
      "cell_type": "code",
      "execution_count": 58,
      "metadata": {},
      "outputs": [],
      "source": [
        "rfm['RFM_Score'] = rfm['R'] + rfm['F'] + rfm['M']"
      ]
    },
    {
      "cell_type": "code",
      "execution_count": 59,
      "metadata": {},
      "outputs": [
        {
          "data": {
            "text/html": [
              "<div>\n",
              "<style scoped>\n",
              "    .dataframe tbody tr th:only-of-type {\n",
              "        vertical-align: middle;\n",
              "    }\n",
              "\n",
              "    .dataframe tbody tr th {\n",
              "        vertical-align: top;\n",
              "    }\n",
              "\n",
              "    .dataframe thead th {\n",
              "        text-align: right;\n",
              "    }\n",
              "</style>\n",
              "<table border=\"1\" class=\"dataframe\">\n",
              "  <thead>\n",
              "    <tr style=\"text-align: right;\">\n",
              "      <th></th>\n",
              "      <th>Recency</th>\n",
              "      <th>Frequency</th>\n",
              "      <th>Monetary</th>\n",
              "      <th>Clusters</th>\n",
              "      <th>R</th>\n",
              "      <th>F</th>\n",
              "      <th>M</th>\n",
              "      <th>RFM_Score</th>\n",
              "    </tr>\n",
              "    <tr>\n",
              "      <th>customer_id</th>\n",
              "      <th></th>\n",
              "      <th></th>\n",
              "      <th></th>\n",
              "      <th></th>\n",
              "      <th></th>\n",
              "      <th></th>\n",
              "      <th></th>\n",
              "      <th></th>\n",
              "    </tr>\n",
              "  </thead>\n",
              "  <tbody>\n",
              "    <tr>\n",
              "      <th>00000dbacae5abe5e23885899a1fa44253a17956c6d1c3d25f88aa139fdfc657</th>\n",
              "      <td>186</td>\n",
              "      <td>1</td>\n",
              "      <td>0.093644</td>\n",
              "      <td>3</td>\n",
              "      <td>1</td>\n",
              "      <td>1</td>\n",
              "      <td>2</td>\n",
              "      <td>4</td>\n",
              "    </tr>\n",
              "    <tr>\n",
              "      <th>0000423b00ade91418cceaf3b26c6af3dd342b51fd051eec9c12fb36984420fa</th>\n",
              "      <td>154</td>\n",
              "      <td>4</td>\n",
              "      <td>0.787593</td>\n",
              "      <td>2</td>\n",
              "      <td>2</td>\n",
              "      <td>4</td>\n",
              "      <td>4</td>\n",
              "      <td>10</td>\n",
              "    </tr>\n",
              "    <tr>\n",
              "      <th>000058a12d5b43e67d225668fa1f8d618c13dc232df0cad8ffe7ad4a1091e318</th>\n",
              "      <td>8</td>\n",
              "      <td>4</td>\n",
              "      <td>0.559085</td>\n",
              "      <td>1</td>\n",
              "      <td>4</td>\n",
              "      <td>4</td>\n",
              "      <td>4</td>\n",
              "      <td>12</td>\n",
              "    </tr>\n",
              "    <tr>\n",
              "      <th>00006413d8573cd20ed7128e53b7b13819fe5cfc2d801fe7fc0f26dd8d65a85a</th>\n",
              "      <td>42</td>\n",
              "      <td>2</td>\n",
              "      <td>0.255814</td>\n",
              "      <td>2</td>\n",
              "      <td>3</td>\n",
              "      <td>2</td>\n",
              "      <td>3</td>\n",
              "      <td>8</td>\n",
              "    </tr>\n",
              "    <tr>\n",
              "      <th>0000757967448a6cb83efb3ea7a3fb9d418ac7adf2379d8cd0c725276a467a2a</th>\n",
              "      <td>9</td>\n",
              "      <td>1</td>\n",
              "      <td>0.076237</td>\n",
              "      <td>0</td>\n",
              "      <td>4</td>\n",
              "      <td>1</td>\n",
              "      <td>2</td>\n",
              "      <td>7</td>\n",
              "    </tr>\n",
              "    <tr>\n",
              "      <th>...</th>\n",
              "      <td>...</td>\n",
              "      <td>...</td>\n",
              "      <td>...</td>\n",
              "      <td>...</td>\n",
              "      <td>...</td>\n",
              "      <td>...</td>\n",
              "      <td>...</td>\n",
              "      <td>...</td>\n",
              "    </tr>\n",
              "    <tr>\n",
              "      <th>ffff8f9ecdce722b5bab97fff68a6d1866492209bfe5242c50d2a10a652fb5ef</th>\n",
              "      <td>113</td>\n",
              "      <td>1</td>\n",
              "      <td>0.135542</td>\n",
              "      <td>3</td>\n",
              "      <td>2</td>\n",
              "      <td>1</td>\n",
              "      <td>2</td>\n",
              "      <td>5</td>\n",
              "    </tr>\n",
              "    <tr>\n",
              "      <th>ffffbbf78b6eaac697a8a5dfbfd2bfa8113ee5b403e4747568cac33e8c541831</th>\n",
              "      <td>41</td>\n",
              "      <td>3</td>\n",
              "      <td>0.374305</td>\n",
              "      <td>2</td>\n",
              "      <td>3</td>\n",
              "      <td>3</td>\n",
              "      <td>3</td>\n",
              "      <td>9</td>\n",
              "    </tr>\n",
              "    <tr>\n",
              "      <th>ffffcd5046a6143d29a04fb8c424ce494a76e5cdf4fab53481233731b5c4f8b7</th>\n",
              "      <td>158</td>\n",
              "      <td>6</td>\n",
              "      <td>0.790271</td>\n",
              "      <td>2</td>\n",
              "      <td>1</td>\n",
              "      <td>4</td>\n",
              "      <td>4</td>\n",
              "      <td>9</td>\n",
              "    </tr>\n",
              "    <tr>\n",
              "      <th>ffffcf35913a0bee60e8741cb2b4e78b8a98ee5ff2e6a1778d0116cffd259264</th>\n",
              "      <td>15</td>\n",
              "      <td>2</td>\n",
              "      <td>0.077864</td>\n",
              "      <td>0</td>\n",
              "      <td>4</td>\n",
              "      <td>2</td>\n",
              "      <td>2</td>\n",
              "      <td>8</td>\n",
              "    </tr>\n",
              "    <tr>\n",
              "      <th>ffffd7744cebcf3aca44ae7049d2a94b87074c3d4ffe38b2236865d949d4df6a</th>\n",
              "      <td>151</td>\n",
              "      <td>3</td>\n",
              "      <td>0.192271</td>\n",
              "      <td>2</td>\n",
              "      <td>2</td>\n",
              "      <td>3</td>\n",
              "      <td>3</td>\n",
              "      <td>8</td>\n",
              "    </tr>\n",
              "  </tbody>\n",
              "</table>\n",
              "<p>692745 rows × 8 columns</p>\n",
              "</div>"
            ],
            "text/plain": [
              "                                                    Recency  Frequency  \\\n",
              "customer_id                                                              \n",
              "00000dbacae5abe5e23885899a1fa44253a17956c6d1c3d...      186          1   \n",
              "0000423b00ade91418cceaf3b26c6af3dd342b51fd051ee...      154          4   \n",
              "000058a12d5b43e67d225668fa1f8d618c13dc232df0cad...        8          4   \n",
              "00006413d8573cd20ed7128e53b7b13819fe5cfc2d801fe...       42          2   \n",
              "0000757967448a6cb83efb3ea7a3fb9d418ac7adf2379d8...        9          1   \n",
              "...                                                     ...        ...   \n",
              "ffff8f9ecdce722b5bab97fff68a6d1866492209bfe5242...      113          1   \n",
              "ffffbbf78b6eaac697a8a5dfbfd2bfa8113ee5b403e4747...       41          3   \n",
              "ffffcd5046a6143d29a04fb8c424ce494a76e5cdf4fab53...      158          6   \n",
              "ffffcf35913a0bee60e8741cb2b4e78b8a98ee5ff2e6a17...       15          2   \n",
              "ffffd7744cebcf3aca44ae7049d2a94b87074c3d4ffe38b...      151          3   \n",
              "\n",
              "                                                    Monetary  Clusters  R  F  \\\n",
              "customer_id                                                                    \n",
              "00000dbacae5abe5e23885899a1fa44253a17956c6d1c3d...  0.093644         3  1  1   \n",
              "0000423b00ade91418cceaf3b26c6af3dd342b51fd051ee...  0.787593         2  2  4   \n",
              "000058a12d5b43e67d225668fa1f8d618c13dc232df0cad...  0.559085         1  4  4   \n",
              "00006413d8573cd20ed7128e53b7b13819fe5cfc2d801fe...  0.255814         2  3  2   \n",
              "0000757967448a6cb83efb3ea7a3fb9d418ac7adf2379d8...  0.076237         0  4  1   \n",
              "...                                                      ...       ... .. ..   \n",
              "ffff8f9ecdce722b5bab97fff68a6d1866492209bfe5242...  0.135542         3  2  1   \n",
              "ffffbbf78b6eaac697a8a5dfbfd2bfa8113ee5b403e4747...  0.374305         2  3  3   \n",
              "ffffcd5046a6143d29a04fb8c424ce494a76e5cdf4fab53...  0.790271         2  1  4   \n",
              "ffffcf35913a0bee60e8741cb2b4e78b8a98ee5ff2e6a17...  0.077864         0  4  2   \n",
              "ffffd7744cebcf3aca44ae7049d2a94b87074c3d4ffe38b...  0.192271         2  2  3   \n",
              "\n",
              "                                                    M  RFM_Score  \n",
              "customer_id                                                       \n",
              "00000dbacae5abe5e23885899a1fa44253a17956c6d1c3d...  2          4  \n",
              "0000423b00ade91418cceaf3b26c6af3dd342b51fd051ee...  4         10  \n",
              "000058a12d5b43e67d225668fa1f8d618c13dc232df0cad...  4         12  \n",
              "00006413d8573cd20ed7128e53b7b13819fe5cfc2d801fe...  3          8  \n",
              "0000757967448a6cb83efb3ea7a3fb9d418ac7adf2379d8...  2          7  \n",
              "...                                                ..        ...  \n",
              "ffff8f9ecdce722b5bab97fff68a6d1866492209bfe5242...  2          5  \n",
              "ffffbbf78b6eaac697a8a5dfbfd2bfa8113ee5b403e4747...  3          9  \n",
              "ffffcd5046a6143d29a04fb8c424ce494a76e5cdf4fab53...  4          9  \n",
              "ffffcf35913a0bee60e8741cb2b4e78b8a98ee5ff2e6a17...  2          8  \n",
              "ffffd7744cebcf3aca44ae7049d2a94b87074c3d4ffe38b...  3          8  \n",
              "\n",
              "[692745 rows x 8 columns]"
            ]
          },
          "execution_count": 59,
          "metadata": {},
          "output_type": "execute_result"
        }
      ],
      "source": [
        "rfm"
      ]
    },
    {
      "cell_type": "markdown",
      "metadata": {},
      "source": [
        "### Melihat distribusi RFM Score untuk masing - masing cluster"
      ]
    },
    {
      "cell_type": "code",
      "execution_count": 60,
      "metadata": {},
      "outputs": [
        {
          "data": {
            "text/plain": [
              "<AxesSubplot:xlabel='RFM_Score', ylabel='Count'>"
            ]
          },
          "execution_count": 60,
          "metadata": {},
          "output_type": "execute_result"
        },
        {
          "data": {
            "image/png": "[encoded data removed]",
            "text/plain": [
              "<Figure size 432x288 with 1 Axes>"
            ]
          },
          "metadata": {
            "needs_background": "light"
          },
          "output_type": "display_data"
        }
      ],
      "source": [
        "sns.histplot(data=rfm[rfm['Clusters']==1],x='RFM_Score')"
      ]
    },
    {
      "cell_type": "code",
      "execution_count": 61,
      "metadata": {},
      "outputs": [
        {
          "data": {
            "text/plain": [
              "<AxesSubplot:xlabel='RFM_Score', ylabel='Count'>"
            ]
          },
          "execution_count": 61,
          "metadata": {},
          "output_type": "execute_result"
        },
        {
          "data": {
            "image/png": "[encoded data removed]",
            "text/plain": [
              "<Figure size 432x288 with 1 Axes>"
            ]
          },
          "metadata": {
            "needs_background": "light"
          },
          "output_type": "display_data"
        }
      ],
      "source": [
        "sns.histplot(data=rfm[rfm['Clusters']==0],x='RFM_Score')"
      ]
    },
    {
      "cell_type": "code",
      "execution_count": 62,
      "metadata": {},
      "outputs": [
        {
          "data": {
            "text/plain": [
              "<AxesSubplot:xlabel='RFM_Score', ylabel='Count'>"
            ]
          },
          "execution_count": 62,
          "metadata": {},
          "output_type": "execute_result"
        },
        {
          "data": {
            "image/png": "[encoded data removed]",
            "text/plain": [
              "<Figure size 432x288 with 1 Axes>"
            ]
          },
          "metadata": {
            "needs_background": "light"
          },
          "output_type": "display_data"
        }
      ],
      "source": [
        "sns.histplot(data=rfm[rfm['Clusters']==2],x='RFM_Score')"
      ]
    },
    {
      "cell_type": "code",
      "execution_count": 63,
      "metadata": {},
      "outputs": [
        {
          "data": {
            "text/plain": [
              "<AxesSubplot:xlabel='RFM_Score', ylabel='Count'>"
            ]
          },
          "execution_count": 63,
          "metadata": {},
          "output_type": "execute_result"
        },
        {
          "data": {
            "image/png": "[encoded data removed]",
            "text/plain": [
              "<Figure size 432x288 with 1 Axes>"
            ]
          },
          "metadata": {
            "needs_background": "light"
          },
          "output_type": "display_data"
        }
      ],
      "source": [
        "sns.histplot(data=rfm[rfm['Clusters']==3],x='RFM_Score')"
      ]
    },
    {
      "cell_type": "markdown",
      "metadata": {},
      "source": [
        "### Membuat kolom Score"
      ]
    },
    {
      "cell_type": "code",
      "execution_count": 64,
      "metadata": {},
      "outputs": [],
      "source": [
        "rfm['Score'] = 'Bronze'\n",
        "rfm.loc[rfm['RFM_Score']>6,'Score'] = 'Silver' \n",
        "rfm.loc[rfm['RFM_Score']>10,'Score'] = 'Gold'  "
      ]
    },
    {
      "cell_type": "code",
      "execution_count": 65,
      "metadata": {},
      "outputs": [
        {
          "data": {
            "text/html": [
              "<div>\n",
              "<style scoped>\n",
              "    .dataframe tbody tr th:only-of-type {\n",
              "        vertical-align: middle;\n",
              "    }\n",
              "\n",
              "    .dataframe tbody tr th {\n",
              "        vertical-align: top;\n",
              "    }\n",
              "\n",
              "    .dataframe thead th {\n",
              "        text-align: right;\n",
              "    }\n",
              "</style>\n",
              "<table border=\"1\" class=\"dataframe\">\n",
              "  <thead>\n",
              "    <tr style=\"text-align: right;\">\n",
              "      <th></th>\n",
              "      <th>Recency</th>\n",
              "      <th>Frequency</th>\n",
              "      <th>Monetary</th>\n",
              "      <th>Clusters</th>\n",
              "      <th>R</th>\n",
              "      <th>F</th>\n",
              "      <th>M</th>\n",
              "      <th>RFM_Score</th>\n",
              "      <th>Score</th>\n",
              "    </tr>\n",
              "    <tr>\n",
              "      <th>customer_id</th>\n",
              "      <th></th>\n",
              "      <th></th>\n",
              "      <th></th>\n",
              "      <th></th>\n",
              "      <th></th>\n",
              "      <th></th>\n",
              "      <th></th>\n",
              "      <th></th>\n",
              "      <th></th>\n",
              "    </tr>\n",
              "  </thead>\n",
              "  <tbody>\n",
              "    <tr>\n",
              "      <th>00000dbacae5abe5e23885899a1fa44253a17956c6d1c3d25f88aa139fdfc657</th>\n",
              "      <td>186</td>\n",
              "      <td>1</td>\n",
              "      <td>0.093644</td>\n",
              "      <td>3</td>\n",
              "      <td>1</td>\n",
              "      <td>1</td>\n",
              "      <td>2</td>\n",
              "      <td>4</td>\n",
              "      <td>Bronze</td>\n",
              "    </tr>\n",
              "    <tr>\n",
              "      <th>0000423b00ade91418cceaf3b26c6af3dd342b51fd051eec9c12fb36984420fa</th>\n",
              "      <td>154</td>\n",
              "      <td>4</td>\n",
              "      <td>0.787593</td>\n",
              "      <td>2</td>\n",
              "      <td>2</td>\n",
              "      <td>4</td>\n",
              "      <td>4</td>\n",
              "      <td>10</td>\n",
              "      <td>Silver</td>\n",
              "    </tr>\n",
              "    <tr>\n",
              "      <th>000058a12d5b43e67d225668fa1f8d618c13dc232df0cad8ffe7ad4a1091e318</th>\n",
              "      <td>8</td>\n",
              "      <td>4</td>\n",
              "      <td>0.559085</td>\n",
              "      <td>1</td>\n",
              "      <td>4</td>\n",
              "      <td>4</td>\n",
              "      <td>4</td>\n",
              "      <td>12</td>\n",
              "      <td>Gold</td>\n",
              "    </tr>\n",
              "    <tr>\n",
              "      <th>00006413d8573cd20ed7128e53b7b13819fe5cfc2d801fe7fc0f26dd8d65a85a</th>\n",
              "      <td>42</td>\n",
              "      <td>2</td>\n",
              "      <td>0.255814</td>\n",
              "      <td>2</td>\n",
              "      <td>3</td>\n",
              "      <td>2</td>\n",
              "      <td>3</td>\n",
              "      <td>8</td>\n",
              "      <td>Silver</td>\n",
              "    </tr>\n",
              "    <tr>\n",
              "      <th>0000757967448a6cb83efb3ea7a3fb9d418ac7adf2379d8cd0c725276a467a2a</th>\n",
              "      <td>9</td>\n",
              "      <td>1</td>\n",
              "      <td>0.076237</td>\n",
              "      <td>0</td>\n",
              "      <td>4</td>\n",
              "      <td>1</td>\n",
              "      <td>2</td>\n",
              "      <td>7</td>\n",
              "      <td>Silver</td>\n",
              "    </tr>\n",
              "    <tr>\n",
              "      <th>...</th>\n",
              "      <td>...</td>\n",
              "      <td>...</td>\n",
              "      <td>...</td>\n",
              "      <td>...</td>\n",
              "      <td>...</td>\n",
              "      <td>...</td>\n",
              "      <td>...</td>\n",
              "      <td>...</td>\n",
              "      <td>...</td>\n",
              "    </tr>\n",
              "    <tr>\n",
              "      <th>ffff8f9ecdce722b5bab97fff68a6d1866492209bfe5242c50d2a10a652fb5ef</th>\n",
              "      <td>113</td>\n",
              "      <td>1</td>\n",
              "      <td>0.135542</td>\n",
              "      <td>3</td>\n",
              "      <td>2</td>\n",
              "      <td>1</td>\n",
              "      <td>2</td>\n",
              "      <td>5</td>\n",
              "      <td>Bronze</td>\n",
              "    </tr>\n",
              "    <tr>\n",
              "      <th>ffffbbf78b6eaac697a8a5dfbfd2bfa8113ee5b403e4747568cac33e8c541831</th>\n",
              "      <td>41</td>\n",
              "      <td>3</td>\n",
              "      <td>0.374305</td>\n",
              "      <td>2</td>\n",
              "      <td>3</td>\n",
              "      <td>3</td>\n",
              "      <td>3</td>\n",
              "      <td>9</td>\n",
              "      <td>Silver</td>\n",
              "    </tr>\n",
              "    <tr>\n",
              "      <th>ffffcd5046a6143d29a04fb8c424ce494a76e5cdf4fab53481233731b5c4f8b7</th>\n",
              "      <td>158</td>\n",
              "      <td>6</td>\n",
              "      <td>0.790271</td>\n",
              "      <td>2</td>\n",
              "      <td>1</td>\n",
              "      <td>4</td>\n",
              "      <td>4</td>\n",
              "      <td>9</td>\n",
              "      <td>Silver</td>\n",
              "    </tr>\n",
              "    <tr>\n",
              "      <th>ffffcf35913a0bee60e8741cb2b4e78b8a98ee5ff2e6a1778d0116cffd259264</th>\n",
              "      <td>15</td>\n",
              "      <td>2</td>\n",
              "      <td>0.077864</td>\n",
              "      <td>0</td>\n",
              "      <td>4</td>\n",
              "      <td>2</td>\n",
              "      <td>2</td>\n",
              "      <td>8</td>\n",
              "      <td>Silver</td>\n",
              "    </tr>\n",
              "    <tr>\n",
              "      <th>ffffd7744cebcf3aca44ae7049d2a94b87074c3d4ffe38b2236865d949d4df6a</th>\n",
              "      <td>151</td>\n",
              "      <td>3</td>\n",
              "      <td>0.192271</td>\n",
              "      <td>2</td>\n",
              "      <td>2</td>\n",
              "      <td>3</td>\n",
              "      <td>3</td>\n",
              "      <td>8</td>\n",
              "      <td>Silver</td>\n",
              "    </tr>\n",
              "  </tbody>\n",
              "</table>\n",
              "<p>692745 rows × 9 columns</p>\n",
              "</div>"
            ],
            "text/plain": [
              "                                                    Recency  Frequency  \\\n",
              "customer_id                                                              \n",
              "00000dbacae5abe5e23885899a1fa44253a17956c6d1c3d...      186          1   \n",
              "0000423b00ade91418cceaf3b26c6af3dd342b51fd051ee...      154          4   \n",
              "000058a12d5b43e67d225668fa1f8d618c13dc232df0cad...        8          4   \n",
              "00006413d8573cd20ed7128e53b7b13819fe5cfc2d801fe...       42          2   \n",
              "0000757967448a6cb83efb3ea7a3fb9d418ac7adf2379d8...        9          1   \n",
              "...                                                     ...        ...   \n",
              "ffff8f9ecdce722b5bab97fff68a6d1866492209bfe5242...      113          1   \n",
              "ffffbbf78b6eaac697a8a5dfbfd2bfa8113ee5b403e4747...       41          3   \n",
              "ffffcd5046a6143d29a04fb8c424ce494a76e5cdf4fab53...      158          6   \n",
              "ffffcf35913a0bee60e8741cb2b4e78b8a98ee5ff2e6a17...       15          2   \n",
              "ffffd7744cebcf3aca44ae7049d2a94b87074c3d4ffe38b...      151          3   \n",
              "\n",
              "                                                    Monetary  Clusters  R  F  \\\n",
              "customer_id                                                                    \n",
              "00000dbacae5abe5e23885899a1fa44253a17956c6d1c3d...  0.093644         3  1  1   \n",
              "0000423b00ade91418cceaf3b26c6af3dd342b51fd051ee...  0.787593         2  2  4   \n",
              "000058a12d5b43e67d225668fa1f8d618c13dc232df0cad...  0.559085         1  4  4   \n",
              "00006413d8573cd20ed7128e53b7b13819fe5cfc2d801fe...  0.255814         2  3  2   \n",
              "0000757967448a6cb83efb3ea7a3fb9d418ac7adf2379d8...  0.076237         0  4  1   \n",
              "...                                                      ...       ... .. ..   \n",
              "ffff8f9ecdce722b5bab97fff68a6d1866492209bfe5242...  0.135542         3  2  1   \n",
              "ffffbbf78b6eaac697a8a5dfbfd2bfa8113ee5b403e4747...  0.374305         2  3  3   \n",
              "ffffcd5046a6143d29a04fb8c424ce494a76e5cdf4fab53...  0.790271         2  1  4   \n",
              "ffffcf35913a0bee60e8741cb2b4e78b8a98ee5ff2e6a17...  0.077864         0  4  2   \n",
              "ffffd7744cebcf3aca44ae7049d2a94b87074c3d4ffe38b...  0.192271         2  2  3   \n",
              "\n",
              "                                                    M  RFM_Score   Score  \n",
              "customer_id                                                               \n",
              "00000dbacae5abe5e23885899a1fa44253a17956c6d1c3d...  2          4  Bronze  \n",
              "0000423b00ade91418cceaf3b26c6af3dd342b51fd051ee...  4         10  Silver  \n",
              "000058a12d5b43e67d225668fa1f8d618c13dc232df0cad...  4         12    Gold  \n",
              "00006413d8573cd20ed7128e53b7b13819fe5cfc2d801fe...  3          8  Silver  \n",
              "0000757967448a6cb83efb3ea7a3fb9d418ac7adf2379d8...  2          7  Silver  \n",
              "...                                                ..        ...     ...  \n",
              "ffff8f9ecdce722b5bab97fff68a6d1866492209bfe5242...  2          5  Bronze  \n",
              "ffffbbf78b6eaac697a8a5dfbfd2bfa8113ee5b403e4747...  3          9  Silver  \n",
              "ffffcd5046a6143d29a04fb8c424ce494a76e5cdf4fab53...  4          9  Silver  \n",
              "ffffcf35913a0bee60e8741cb2b4e78b8a98ee5ff2e6a17...  2          8  Silver  \n",
              "ffffd7744cebcf3aca44ae7049d2a94b87074c3d4ffe38b...  3          8  Silver  \n",
              "\n",
              "[692745 rows x 9 columns]"
            ]
          },
          "execution_count": 65,
          "metadata": {},
          "output_type": "execute_result"
        }
      ],
      "source": [
        "rfm"
      ]
    },
    {
      "cell_type": "markdown",
      "metadata": {},
      "source": [
        "Melihat korelasi score, dengan clusters"
      ]
    },
    {
      "cell_type": "code",
      "execution_count": 66,
      "metadata": {},
      "outputs": [
        {
          "data": {
            "text/html": [
              "<div>\n",
              "<style scoped>\n",
              "    .dataframe tbody tr th:only-of-type {\n",
              "        vertical-align: middle;\n",
              "    }\n",
              "\n",
              "    .dataframe tbody tr th {\n",
              "        vertical-align: top;\n",
              "    }\n",
              "\n",
              "    .dataframe thead th {\n",
              "        text-align: right;\n",
              "    }\n",
              "</style>\n",
              "<table border=\"1\" class=\"dataframe\">\n",
              "  <thead>\n",
              "    <tr style=\"text-align: right;\">\n",
              "      <th>Score</th>\n",
              "      <th>Bronze</th>\n",
              "      <th>Gold</th>\n",
              "      <th>Silver</th>\n",
              "    </tr>\n",
              "    <tr>\n",
              "      <th>Clusters</th>\n",
              "      <th></th>\n",
              "      <th></th>\n",
              "      <th></th>\n",
              "    </tr>\n",
              "  </thead>\n",
              "  <tbody>\n",
              "    <tr>\n",
              "      <th>0</th>\n",
              "      <td>26566</td>\n",
              "      <td>1685</td>\n",
              "      <td>57590</td>\n",
              "    </tr>\n",
              "    <tr>\n",
              "      <th>1</th>\n",
              "      <td>0</td>\n",
              "      <td>82427</td>\n",
              "      <td>5294</td>\n",
              "    </tr>\n",
              "    <tr>\n",
              "      <th>2</th>\n",
              "      <td>4587</td>\n",
              "      <td>44354</td>\n",
              "      <td>149022</td>\n",
              "    </tr>\n",
              "    <tr>\n",
              "      <th>3</th>\n",
              "      <td>304599</td>\n",
              "      <td>0</td>\n",
              "      <td>16621</td>\n",
              "    </tr>\n",
              "  </tbody>\n",
              "</table>\n",
              "</div>"
            ],
            "text/plain": [
              "Score     Bronze   Gold  Silver\n",
              "Clusters                       \n",
              "0          26566   1685   57590\n",
              "1              0  82427    5294\n",
              "2           4587  44354  149022\n",
              "3         304599      0   16621"
            ]
          },
          "execution_count": 66,
          "metadata": {},
          "output_type": "execute_result"
        }
      ],
      "source": [
        "pd.crosstab(rfm.Clusters,rfm.Score)"
      ]
    },
    {
      "cell_type": "markdown",
      "metadata": {},
      "source": [
        "### Membuat segmentasi yang lebih user-friendly"
      ]
    },
    {
      "cell_type": "code",
      "execution_count": 67,
      "metadata": {},
      "outputs": [],
      "source": [
        "segt_map = {\n",
        "    r'[1-2][1-2]': 'Hibernating',\n",
        "    r'[1-2][2-3]': 'At risk',\n",
        "    r'[1-2]4': 'Can\\'t loose them',\n",
        "    r'2[1-2]': 'About to sleep',\n",
        "    r'22': 'Need attention',\n",
        "    r'[2-3][3-4]': 'Loyal customers',\n",
        "    r'31': 'Promising',\n",
        "    r'41': 'New customers',\n",
        "    r'[3-4][1-2]': 'Potential loyalists',\n",
        "    r'4[3-4]': 'Champions'\n",
        "}"
      ]
    },
    {
      "cell_type": "code",
      "execution_count": 68,
      "metadata": {},
      "outputs": [],
      "source": [
        "rfm['Segment'] = rfm['R'].map(str) + rfm['F'].map(str)\n",
        "rfm['Segment'] = rfm['Segment'].replace(segt_map, regex=True)"
      ]
    },
    {
      "cell_type": "code",
      "execution_count": 69,
      "metadata": {},
      "outputs": [
        {
          "data": {
            "text/html": [
              "<div>\n",
              "<style scoped>\n",
              "    .dataframe tbody tr th:only-of-type {\n",
              "        vertical-align: middle;\n",
              "    }\n",
              "\n",
              "    .dataframe tbody tr th {\n",
              "        vertical-align: top;\n",
              "    }\n",
              "\n",
              "    .dataframe thead th {\n",
              "        text-align: right;\n",
              "    }\n",
              "</style>\n",
              "<table border=\"1\" class=\"dataframe\">\n",
              "  <thead>\n",
              "    <tr style=\"text-align: right;\">\n",
              "      <th></th>\n",
              "      <th>Recency</th>\n",
              "      <th>Frequency</th>\n",
              "      <th>Monetary</th>\n",
              "      <th>Clusters</th>\n",
              "      <th>R</th>\n",
              "      <th>F</th>\n",
              "      <th>M</th>\n",
              "      <th>RFM_Score</th>\n",
              "      <th>Score</th>\n",
              "      <th>Segment</th>\n",
              "    </tr>\n",
              "    <tr>\n",
              "      <th>customer_id</th>\n",
              "      <th></th>\n",
              "      <th></th>\n",
              "      <th></th>\n",
              "      <th></th>\n",
              "      <th></th>\n",
              "      <th></th>\n",
              "      <th></th>\n",
              "      <th></th>\n",
              "      <th></th>\n",
              "      <th></th>\n",
              "    </tr>\n",
              "  </thead>\n",
              "  <tbody>\n",
              "    <tr>\n",
              "      <th>00000dbacae5abe5e23885899a1fa44253a17956c6d1c3d25f88aa139fdfc657</th>\n",
              "      <td>186</td>\n",
              "      <td>1</td>\n",
              "      <td>0.093644</td>\n",
              "      <td>3</td>\n",
              "      <td>1</td>\n",
              "      <td>1</td>\n",
              "      <td>2</td>\n",
              "      <td>4</td>\n",
              "      <td>Bronze</td>\n",
              "      <td>Hibernating</td>\n",
              "    </tr>\n",
              "    <tr>\n",
              "      <th>0000423b00ade91418cceaf3b26c6af3dd342b51fd051eec9c12fb36984420fa</th>\n",
              "      <td>154</td>\n",
              "      <td>4</td>\n",
              "      <td>0.787593</td>\n",
              "      <td>2</td>\n",
              "      <td>2</td>\n",
              "      <td>4</td>\n",
              "      <td>4</td>\n",
              "      <td>10</td>\n",
              "      <td>Silver</td>\n",
              "      <td>Can't loose them</td>\n",
              "    </tr>\n",
              "    <tr>\n",
              "      <th>000058a12d5b43e67d225668fa1f8d618c13dc232df0cad8ffe7ad4a1091e318</th>\n",
              "      <td>8</td>\n",
              "      <td>4</td>\n",
              "      <td>0.559085</td>\n",
              "      <td>1</td>\n",
              "      <td>4</td>\n",
              "      <td>4</td>\n",
              "      <td>4</td>\n",
              "      <td>12</td>\n",
              "      <td>Gold</td>\n",
              "      <td>Champions</td>\n",
              "    </tr>\n",
              "    <tr>\n",
              "      <th>00006413d8573cd20ed7128e53b7b13819fe5cfc2d801fe7fc0f26dd8d65a85a</th>\n",
              "      <td>42</td>\n",
              "      <td>2</td>\n",
              "      <td>0.255814</td>\n",
              "      <td>2</td>\n",
              "      <td>3</td>\n",
              "      <td>2</td>\n",
              "      <td>3</td>\n",
              "      <td>8</td>\n",
              "      <td>Silver</td>\n",
              "      <td>Potential loyalists</td>\n",
              "    </tr>\n",
              "    <tr>\n",
              "      <th>0000757967448a6cb83efb3ea7a3fb9d418ac7adf2379d8cd0c725276a467a2a</th>\n",
              "      <td>9</td>\n",
              "      <td>1</td>\n",
              "      <td>0.076237</td>\n",
              "      <td>0</td>\n",
              "      <td>4</td>\n",
              "      <td>1</td>\n",
              "      <td>2</td>\n",
              "      <td>7</td>\n",
              "      <td>Silver</td>\n",
              "      <td>New customers</td>\n",
              "    </tr>\n",
              "    <tr>\n",
              "      <th>...</th>\n",
              "      <td>...</td>\n",
              "      <td>...</td>\n",
              "      <td>...</td>\n",
              "      <td>...</td>\n",
              "      <td>...</td>\n",
              "      <td>...</td>\n",
              "      <td>...</td>\n",
              "      <td>...</td>\n",
              "      <td>...</td>\n",
              "      <td>...</td>\n",
              "    </tr>\n",
              "    <tr>\n",
              "      <th>ffff8f9ecdce722b5bab97fff68a6d1866492209bfe5242c50d2a10a652fb5ef</th>\n",
              "      <td>113</td>\n",
              "      <td>1</td>\n",
              "      <td>0.135542</td>\n",
              "      <td>3</td>\n",
              "      <td>2</td>\n",
              "      <td>1</td>\n",
              "      <td>2</td>\n",
              "      <td>5</td>\n",
              "      <td>Bronze</td>\n",
              "      <td>Hibernating</td>\n",
              "    </tr>\n",
              "    <tr>\n",
              "      <th>ffffbbf78b6eaac697a8a5dfbfd2bfa8113ee5b403e4747568cac33e8c541831</th>\n",
              "      <td>41</td>\n",
              "      <td>3</td>\n",
              "      <td>0.374305</td>\n",
              "      <td>2</td>\n",
              "      <td>3</td>\n",
              "      <td>3</td>\n",
              "      <td>3</td>\n",
              "      <td>9</td>\n",
              "      <td>Silver</td>\n",
              "      <td>Loyal customers</td>\n",
              "    </tr>\n",
              "    <tr>\n",
              "      <th>ffffcd5046a6143d29a04fb8c424ce494a76e5cdf4fab53481233731b5c4f8b7</th>\n",
              "      <td>158</td>\n",
              "      <td>6</td>\n",
              "      <td>0.790271</td>\n",
              "      <td>2</td>\n",
              "      <td>1</td>\n",
              "      <td>4</td>\n",
              "      <td>4</td>\n",
              "      <td>9</td>\n",
              "      <td>Silver</td>\n",
              "      <td>Can't loose them</td>\n",
              "    </tr>\n",
              "    <tr>\n",
              "      <th>ffffcf35913a0bee60e8741cb2b4e78b8a98ee5ff2e6a1778d0116cffd259264</th>\n",
              "      <td>15</td>\n",
              "      <td>2</td>\n",
              "      <td>0.077864</td>\n",
              "      <td>0</td>\n",
              "      <td>4</td>\n",
              "      <td>2</td>\n",
              "      <td>2</td>\n",
              "      <td>8</td>\n",
              "      <td>Silver</td>\n",
              "      <td>Potential loyalists</td>\n",
              "    </tr>\n",
              "    <tr>\n",
              "      <th>ffffd7744cebcf3aca44ae7049d2a94b87074c3d4ffe38b2236865d949d4df6a</th>\n",
              "      <td>151</td>\n",
              "      <td>3</td>\n",
              "      <td>0.192271</td>\n",
              "      <td>2</td>\n",
              "      <td>2</td>\n",
              "      <td>3</td>\n",
              "      <td>3</td>\n",
              "      <td>8</td>\n",
              "      <td>Silver</td>\n",
              "      <td>At risk</td>\n",
              "    </tr>\n",
              "  </tbody>\n",
              "</table>\n",
              "<p>692745 rows × 10 columns</p>\n",
              "</div>"
            ],
            "text/plain": [
              "                                                    Recency  Frequency  \\\n",
              "customer_id                                                              \n",
              "00000dbacae5abe5e23885899a1fa44253a17956c6d1c3d...      186          1   \n",
              "0000423b00ade91418cceaf3b26c6af3dd342b51fd051ee...      154          4   \n",
              "000058a12d5b43e67d225668fa1f8d618c13dc232df0cad...        8          4   \n",
              "00006413d8573cd20ed7128e53b7b13819fe5cfc2d801fe...       42          2   \n",
              "0000757967448a6cb83efb3ea7a3fb9d418ac7adf2379d8...        9          1   \n",
              "...                                                     ...        ...   \n",
              "ffff8f9ecdce722b5bab97fff68a6d1866492209bfe5242...      113          1   \n",
              "ffffbbf78b6eaac697a8a5dfbfd2bfa8113ee5b403e4747...       41          3   \n",
              "ffffcd5046a6143d29a04fb8c424ce494a76e5cdf4fab53...      158          6   \n",
              "ffffcf35913a0bee60e8741cb2b4e78b8a98ee5ff2e6a17...       15          2   \n",
              "ffffd7744cebcf3aca44ae7049d2a94b87074c3d4ffe38b...      151          3   \n",
              "\n",
              "                                                    Monetary  Clusters  R  F  \\\n",
              "customer_id                                                                    \n",
              "00000dbacae5abe5e23885899a1fa44253a17956c6d1c3d...  0.093644         3  1  1   \n",
              "0000423b00ade91418cceaf3b26c6af3dd342b51fd051ee...  0.787593         2  2  4   \n",
              "000058a12d5b43e67d225668fa1f8d618c13dc232df0cad...  0.559085         1  4  4   \n",
              "00006413d8573cd20ed7128e53b7b13819fe5cfc2d801fe...  0.255814         2  3  2   \n",
              "0000757967448a6cb83efb3ea7a3fb9d418ac7adf2379d8...  0.076237         0  4  1   \n",
              "...                                                      ...       ... .. ..   \n",
              "ffff8f9ecdce722b5bab97fff68a6d1866492209bfe5242...  0.135542         3  2  1   \n",
              "ffffbbf78b6eaac697a8a5dfbfd2bfa8113ee5b403e4747...  0.374305         2  3  3   \n",
              "ffffcd5046a6143d29a04fb8c424ce494a76e5cdf4fab53...  0.790271         2  1  4   \n",
              "ffffcf35913a0bee60e8741cb2b4e78b8a98ee5ff2e6a17...  0.077864         0  4  2   \n",
              "ffffd7744cebcf3aca44ae7049d2a94b87074c3d4ffe38b...  0.192271         2  2  3   \n",
              "\n",
              "                                                    M  RFM_Score   Score  \\\n",
              "customer_id                                                                \n",
              "00000dbacae5abe5e23885899a1fa44253a17956c6d1c3d...  2          4  Bronze   \n",
              "0000423b00ade91418cceaf3b26c6af3dd342b51fd051ee...  4         10  Silver   \n",
              "000058a12d5b43e67d225668fa1f8d618c13dc232df0cad...  4         12    Gold   \n",
              "00006413d8573cd20ed7128e53b7b13819fe5cfc2d801fe...  3          8  Silver   \n",
              "0000757967448a6cb83efb3ea7a3fb9d418ac7adf2379d8...  2          7  Silver   \n",
              "...                                                ..        ...     ...   \n",
              "ffff8f9ecdce722b5bab97fff68a6d1866492209bfe5242...  2          5  Bronze   \n",
              "ffffbbf78b6eaac697a8a5dfbfd2bfa8113ee5b403e4747...  3          9  Silver   \n",
              "ffffcd5046a6143d29a04fb8c424ce494a76e5cdf4fab53...  4          9  Silver   \n",
              "ffffcf35913a0bee60e8741cb2b4e78b8a98ee5ff2e6a17...  2          8  Silver   \n",
              "ffffd7744cebcf3aca44ae7049d2a94b87074c3d4ffe38b...  3          8  Silver   \n",
              "\n",
              "                                                                Segment  \n",
              "customer_id                                                              \n",
              "00000dbacae5abe5e23885899a1fa44253a17956c6d1c3d...          Hibernating  \n",
              "0000423b00ade91418cceaf3b26c6af3dd342b51fd051ee...     Can't loose them  \n",
              "000058a12d5b43e67d225668fa1f8d618c13dc232df0cad...            Champions  \n",
              "00006413d8573cd20ed7128e53b7b13819fe5cfc2d801fe...  Potential loyalists  \n",
              "0000757967448a6cb83efb3ea7a3fb9d418ac7adf2379d8...        New customers  \n",
              "...                                                                 ...  \n",
              "ffff8f9ecdce722b5bab97fff68a6d1866492209bfe5242...          Hibernating  \n",
              "ffffbbf78b6eaac697a8a5dfbfd2bfa8113ee5b403e4747...      Loyal customers  \n",
              "ffffcd5046a6143d29a04fb8c424ce494a76e5cdf4fab53...     Can't loose them  \n",
              "ffffcf35913a0bee60e8741cb2b4e78b8a98ee5ff2e6a17...  Potential loyalists  \n",
              "ffffd7744cebcf3aca44ae7049d2a94b87074c3d4ffe38b...              At risk  \n",
              "\n",
              "[692745 rows x 10 columns]"
            ]
          },
          "execution_count": 69,
          "metadata": {},
          "output_type": "execute_result"
        }
      ],
      "source": [
        "rfm"
      ]
    },
    {
      "cell_type": "markdown",
      "metadata": {},
      "source": [
        "### Bagaimana hasil peng-clusteran dengan kondisi segmentasinya ?"
      ]
    },
    {
      "cell_type": "markdown",
      "metadata": {},
      "source": [
        "### Cluster 1 : Top of the top"
      ]
    },
    {
      "cell_type": "code",
      "execution_count": 70,
      "metadata": {},
      "outputs": [
        {
          "data": {
            "text/plain": [
              "Champions              84499\n",
              "Potential loyalists     1757\n",
              "Loyal customers         1457\n",
              "New customers              8\n",
              "Name: Segment, dtype: int64"
            ]
          },
          "execution_count": 70,
          "metadata": {},
          "output_type": "execute_result"
        }
      ],
      "source": [
        "x1 = rfm[rfm['Clusters']==1].Segment.value_counts()\n",
        "x1"
      ]
    },
    {
      "cell_type": "markdown",
      "metadata": {},
      "source": [
        "### Cluster 2 : Comeback Customer ?"
      ]
    },
    {
      "cell_type": "code",
      "execution_count": 71,
      "metadata": {},
      "outputs": [
        {
          "data": {
            "text/plain": [
              "Loyal customers        75478\n",
              "Potential loyalists    29243\n",
              "At risk                27733\n",
              "Hibernating            27307\n",
              "Can't loose them       22508\n",
              "Champions              15388\n",
              "Promising                306\n",
              "Name: Segment, dtype: int64"
            ]
          },
          "execution_count": 71,
          "metadata": {},
          "output_type": "execute_result"
        }
      ],
      "source": [
        "x2 = rfm[rfm['Clusters']==2].Segment.value_counts()\n",
        "x2"
      ]
    },
    {
      "cell_type": "markdown",
      "metadata": {},
      "source": [
        "### Cluster 0 : Potential Customer"
      ]
    },
    {
      "cell_type": "code",
      "execution_count": 72,
      "metadata": {},
      "outputs": [
        {
          "data": {
            "text/plain": [
              "New customers          36275\n",
              "Potential loyalists    28817\n",
              "Champions              11406\n",
              "Promising               9301\n",
              "Loyal customers           42\n",
              "Name: Segment, dtype: int64"
            ]
          },
          "execution_count": 72,
          "metadata": {},
          "output_type": "execute_result"
        }
      ],
      "source": [
        "x0 = rfm[rfm['Clusters']==0].Segment.value_counts()\n",
        "x0"
      ]
    },
    {
      "cell_type": "markdown",
      "metadata": {},
      "source": [
        "### Cluster 3 : Far far away"
      ]
    },
    {
      "cell_type": "code",
      "execution_count": 73,
      "metadata": {},
      "outputs": [
        {
          "data": {
            "text/plain": [
              "Hibernating            265288\n",
              "Promising               48374\n",
              "Potential loyalists      6774\n",
              "At risk                   775\n",
              "Loyal customers             9\n",
              "Name: Segment, dtype: int64"
            ]
          },
          "execution_count": 73,
          "metadata": {},
          "output_type": "execute_result"
        }
      ],
      "source": [
        "x3 = rfm[rfm['Clusters']==3].Segment.value_counts()\n",
        "x3"
      ]
    },
    {
      "cell_type": "code",
      "execution_count": 75,
      "metadata": {},
      "outputs": [
        {
          "data": {
            "text/html": [
              "<div>\n",
              "<style scoped>\n",
              "    .dataframe tbody tr th:only-of-type {\n",
              "        vertical-align: middle;\n",
              "    }\n",
              "\n",
              "    .dataframe tbody tr th {\n",
              "        vertical-align: top;\n",
              "    }\n",
              "\n",
              "    .dataframe thead th {\n",
              "        text-align: right;\n",
              "    }\n",
              "</style>\n",
              "<table border=\"1\" class=\"dataframe\">\n",
              "  <thead>\n",
              "    <tr style=\"text-align: right;\">\n",
              "      <th></th>\n",
              "      <th>customer_id</th>\n",
              "      <th>Recency</th>\n",
              "      <th>Frequency</th>\n",
              "      <th>Monetary</th>\n",
              "      <th>Clusters</th>\n",
              "      <th>R</th>\n",
              "      <th>F</th>\n",
              "      <th>M</th>\n",
              "      <th>RFM_Score</th>\n",
              "      <th>Score</th>\n",
              "      <th>Segment</th>\n",
              "    </tr>\n",
              "  </thead>\n",
              "  <tbody>\n",
              "    <tr>\n",
              "      <th>0</th>\n",
              "      <td>00000dbacae5abe5e23885899a1fa44253a17956c6d1c3...</td>\n",
              "      <td>186</td>\n",
              "      <td>1</td>\n",
              "      <td>0.093644</td>\n",
              "      <td>3</td>\n",
              "      <td>1</td>\n",
              "      <td>1</td>\n",
              "      <td>2</td>\n",
              "      <td>4</td>\n",
              "      <td>Bronze</td>\n",
              "      <td>Hibernating</td>\n",
              "    </tr>\n",
              "    <tr>\n",
              "      <th>1</th>\n",
              "      <td>0000423b00ade91418cceaf3b26c6af3dd342b51fd051e...</td>\n",
              "      <td>154</td>\n",
              "      <td>4</td>\n",
              "      <td>0.787593</td>\n",
              "      <td>2</td>\n",
              "      <td>2</td>\n",
              "      <td>4</td>\n",
              "      <td>4</td>\n",
              "      <td>10</td>\n",
              "      <td>Silver</td>\n",
              "      <td>Can't loose them</td>\n",
              "    </tr>\n",
              "    <tr>\n",
              "      <th>2</th>\n",
              "      <td>000058a12d5b43e67d225668fa1f8d618c13dc232df0ca...</td>\n",
              "      <td>8</td>\n",
              "      <td>4</td>\n",
              "      <td>0.559085</td>\n",
              "      <td>1</td>\n",
              "      <td>4</td>\n",
              "      <td>4</td>\n",
              "      <td>4</td>\n",
              "      <td>12</td>\n",
              "      <td>Gold</td>\n",
              "      <td>Champions</td>\n",
              "    </tr>\n",
              "    <tr>\n",
              "      <th>3</th>\n",
              "      <td>00006413d8573cd20ed7128e53b7b13819fe5cfc2d801f...</td>\n",
              "      <td>42</td>\n",
              "      <td>2</td>\n",
              "      <td>0.255814</td>\n",
              "      <td>2</td>\n",
              "      <td>3</td>\n",
              "      <td>2</td>\n",
              "      <td>3</td>\n",
              "      <td>8</td>\n",
              "      <td>Silver</td>\n",
              "      <td>Potential loyalists</td>\n",
              "    </tr>\n",
              "    <tr>\n",
              "      <th>4</th>\n",
              "      <td>0000757967448a6cb83efb3ea7a3fb9d418ac7adf2379d...</td>\n",
              "      <td>9</td>\n",
              "      <td>1</td>\n",
              "      <td>0.076237</td>\n",
              "      <td>0</td>\n",
              "      <td>4</td>\n",
              "      <td>1</td>\n",
              "      <td>2</td>\n",
              "      <td>7</td>\n",
              "      <td>Silver</td>\n",
              "      <td>New customers</td>\n",
              "    </tr>\n",
              "    <tr>\n",
              "      <th>...</th>\n",
              "      <td>...</td>\n",
              "      <td>...</td>\n",
              "      <td>...</td>\n",
              "      <td>...</td>\n",
              "      <td>...</td>\n",
              "      <td>...</td>\n",
              "      <td>...</td>\n",
              "      <td>...</td>\n",
              "      <td>...</td>\n",
              "      <td>...</td>\n",
              "      <td>...</td>\n",
              "    </tr>\n",
              "    <tr>\n",
              "      <th>692740</th>\n",
              "      <td>ffff8f9ecdce722b5bab97fff68a6d1866492209bfe524...</td>\n",
              "      <td>113</td>\n",
              "      <td>1</td>\n",
              "      <td>0.135542</td>\n",
              "      <td>3</td>\n",
              "      <td>2</td>\n",
              "      <td>1</td>\n",
              "      <td>2</td>\n",
              "      <td>5</td>\n",
              "      <td>Bronze</td>\n",
              "      <td>Hibernating</td>\n",
              "    </tr>\n",
              "    <tr>\n",
              "      <th>692741</th>\n",
              "      <td>ffffbbf78b6eaac697a8a5dfbfd2bfa8113ee5b403e474...</td>\n",
              "      <td>41</td>\n",
              "      <td>3</td>\n",
              "      <td>0.374305</td>\n",
              "      <td>2</td>\n",
              "      <td>3</td>\n",
              "      <td>3</td>\n",
              "      <td>3</td>\n",
              "      <td>9</td>\n",
              "      <td>Silver</td>\n",
              "      <td>Loyal customers</td>\n",
              "    </tr>\n",
              "    <tr>\n",
              "      <th>692742</th>\n",
              "      <td>ffffcd5046a6143d29a04fb8c424ce494a76e5cdf4fab5...</td>\n",
              "      <td>158</td>\n",
              "      <td>6</td>\n",
              "      <td>0.790271</td>\n",
              "      <td>2</td>\n",
              "      <td>1</td>\n",
              "      <td>4</td>\n",
              "      <td>4</td>\n",
              "      <td>9</td>\n",
              "      <td>Silver</td>\n",
              "      <td>Can't loose them</td>\n",
              "    </tr>\n",
              "    <tr>\n",
              "      <th>692743</th>\n",
              "      <td>ffffcf35913a0bee60e8741cb2b4e78b8a98ee5ff2e6a1...</td>\n",
              "      <td>15</td>\n",
              "      <td>2</td>\n",
              "      <td>0.077864</td>\n",
              "      <td>0</td>\n",
              "      <td>4</td>\n",
              "      <td>2</td>\n",
              "      <td>2</td>\n",
              "      <td>8</td>\n",
              "      <td>Silver</td>\n",
              "      <td>Potential loyalists</td>\n",
              "    </tr>\n",
              "    <tr>\n",
              "      <th>692744</th>\n",
              "      <td>ffffd7744cebcf3aca44ae7049d2a94b87074c3d4ffe38...</td>\n",
              "      <td>151</td>\n",
              "      <td>3</td>\n",
              "      <td>0.192271</td>\n",
              "      <td>2</td>\n",
              "      <td>2</td>\n",
              "      <td>3</td>\n",
              "      <td>3</td>\n",
              "      <td>8</td>\n",
              "      <td>Silver</td>\n",
              "      <td>At risk</td>\n",
              "    </tr>\n",
              "  </tbody>\n",
              "</table>\n",
              "<p>692745 rows × 11 columns</p>\n",
              "</div>"
            ],
            "text/plain": [
              "                                              customer_id  Recency  Frequency  \\\n",
              "0       00000dbacae5abe5e23885899a1fa44253a17956c6d1c3...      186          1   \n",
              "1       0000423b00ade91418cceaf3b26c6af3dd342b51fd051e...      154          4   \n",
              "2       000058a12d5b43e67d225668fa1f8d618c13dc232df0ca...        8          4   \n",
              "3       00006413d8573cd20ed7128e53b7b13819fe5cfc2d801f...       42          2   \n",
              "4       0000757967448a6cb83efb3ea7a3fb9d418ac7adf2379d...        9          1   \n",
              "...                                                   ...      ...        ...   \n",
              "692740  ffff8f9ecdce722b5bab97fff68a6d1866492209bfe524...      113          1   \n",
              "692741  ffffbbf78b6eaac697a8a5dfbfd2bfa8113ee5b403e474...       41          3   \n",
              "692742  ffffcd5046a6143d29a04fb8c424ce494a76e5cdf4fab5...      158          6   \n",
              "692743  ffffcf35913a0bee60e8741cb2b4e78b8a98ee5ff2e6a1...       15          2   \n",
              "692744  ffffd7744cebcf3aca44ae7049d2a94b87074c3d4ffe38...      151          3   \n",
              "\n",
              "        Monetary  Clusters  R  F  M  RFM_Score   Score              Segment  \n",
              "0       0.093644         3  1  1  2          4  Bronze          Hibernating  \n",
              "1       0.787593         2  2  4  4         10  Silver     Can't loose them  \n",
              "2       0.559085         1  4  4  4         12    Gold            Champions  \n",
              "3       0.255814         2  3  2  3          8  Silver  Potential loyalists  \n",
              "4       0.076237         0  4  1  2          7  Silver        New customers  \n",
              "...          ...       ... .. .. ..        ...     ...                  ...  \n",
              "692740  0.135542         3  2  1  2          5  Bronze          Hibernating  \n",
              "692741  0.374305         2  3  3  3          9  Silver      Loyal customers  \n",
              "692742  0.790271         2  1  4  4          9  Silver     Can't loose them  \n",
              "692743  0.077864         0  4  2  2          8  Silver  Potential loyalists  \n",
              "692744  0.192271         2  2  3  3          8  Silver              At risk  \n",
              "\n",
              "[692745 rows x 11 columns]"
            ]
          },
          "execution_count": 75,
          "metadata": {},
          "output_type": "execute_result"
        }
      ],
      "source": [
        "rfm_reset = rfm.reset_index()\n",
        "rfm_reset"
      ]
    },
    {
      "cell_type": "code",
      "execution_count": 74,
      "metadata": {},
      "outputs": [],
      "source": [
        "rfm_reset.to_csv('rfm_2020.csv')"
      ]
    }
  ],
  "metadata": {
    "accelerator": "GPU",
    "colab": {
      "name": "Data Cleaning.ipynb",
      "provenance": [],
      "toc_visible": true
    },
    "interpreter": {
      "hash": "bfc475a2e745c4122d3276f58695a2ee5c947f5da1ca14d027b370257022f470"
    },
    "kernelspec": {
      "display_name": "Python 3.9.7 ('base')",
      "language": "python",
      "name": "python3"
    },
    "language_info": {
      "codemirror_mode": {
        "name": "ipython",
        "version": 3
      },
      "file_extension": ".py",
      "mimetype": "text/x-python",
      "name": "python",
      "nbconvert_exporter": "python",
      "pygments_lexer": "ipython3",
      "version": "3.9.7"
    }
  },
  "nbformat": 4,
  "nbformat_minor": 0
}
