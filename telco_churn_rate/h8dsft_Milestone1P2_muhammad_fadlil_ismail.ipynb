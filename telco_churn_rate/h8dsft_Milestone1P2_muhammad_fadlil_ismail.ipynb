{
 "cells": [
  {
   "cell_type": "markdown",
   "metadata": {},
   "source": [
    "# Milestone 1 Phase 2\n",
    "- Muhammad Fadlil Ismail\n",
    "- FTDS Batch 10\n",
    "\n",
    "## 1. Pendahuluan\n",
    "\n",
    "### a. Objective\n",
    "Milestones 1 ini dibuat guna mengevaluasi Pembelajaran Phase 2 :\n",
    "\n",
    "    1. Mampu memahami konsep Artificial Neural Network.\n",
    "    2. Mampu mempersiapkan data untuk digunakan dalam model Artificial Neural Network.\n",
    "    3. Mampu mengimplementasikan Artificial Neural Network dengan data yang diberikan.\n",
    "    4. Mampu menganalisis dan menjelaskan layer yang dibuat.\n",
    "\n",
    "### b. Tentang Dataset\n",
    "Context\n",
    "\n",
    "\"Predict behavior to retain customers. You can analyze all relevant customer data and develop focused customer retention programs.\" [IBM Sample Data Sets]\n",
    "Content\n",
    "\n",
    "Each row represents a customer, each column contains customer’s attributes described on the column Metadata.\n",
    "\n",
    "The data set includes information about:\n",
    "\n",
    "    Customers who left within the last month – the column is called Churn\n",
    "    Services that each customer has signed up for – phone, multiple lines, internet, online security, online backup, device protection, tech support, and streaming TV and movies\n",
    "    Customer account information – how long they’ve been a customer, contract, payment method, paperless billing, monthly charges, and total charges\n",
    "    Demographic info about customers – gender, age range, and if they have partners and dependents\n"
   ]
  },
  {
   "cell_type": "markdown",
   "metadata": {},
   "source": [
    "## 2. Import Library"
   ]
  },
  {
   "cell_type": "code",
   "execution_count": 396,
   "metadata": {},
   "outputs": [],
   "source": [
    "import pandas as pd\n",
    "import numpy as np\n",
    "import matplotlib.pyplot as plt\n",
    "import seaborn as sns\n",
    "from scipy import stats\n",
    "from sklearn.model_selection import train_test_split\n",
    "from sklearn.preprocessing import OrdinalEncoder, OneHotEncoder, StandardScaler\n",
    "from sklearn.metrics import classification_report\n",
    "from sklearn.compose import ColumnTransformer\n",
    "from imblearn.over_sampling import SMOTENC\n",
    "import pickle\n",
    "import tensorflow as tf\n",
    "from tensorflow.keras.models import Model, Sequential, load_model\n",
    "from tensorflow.keras.layers import Input, Dense, Flatten, Dropout, BatchNormalization, Activation\n",
    "import warnings\n",
    "warnings.filterwarnings(\"ignore\")"
   ]
  },
  {
   "cell_type": "markdown",
   "metadata": {},
   "source": [
    "## 3. Load Data"
   ]
  },
  {
   "cell_type": "code",
   "execution_count": 268,
   "metadata": {},
   "outputs": [
    {
     "data": {
      "text/html": [
       "<div>\n",
       "<style scoped>\n",
       "    .dataframe tbody tr th:only-of-type {\n",
       "        vertical-align: middle;\n",
       "    }\n",
       "\n",
       "    .dataframe tbody tr th {\n",
       "        vertical-align: top;\n",
       "    }\n",
       "\n",
       "    .dataframe thead th {\n",
       "        text-align: right;\n",
       "    }\n",
       "</style>\n",
       "<table border=\"1\" class=\"dataframe\">\n",
       "  <thead>\n",
       "    <tr style=\"text-align: right;\">\n",
       "      <th></th>\n",
       "      <th>customerID</th>\n",
       "      <th>gender</th>\n",
       "      <th>SeniorCitizen</th>\n",
       "      <th>Partner</th>\n",
       "      <th>Dependents</th>\n",
       "      <th>tenure</th>\n",
       "      <th>PhoneService</th>\n",
       "      <th>MultipleLines</th>\n",
       "      <th>InternetService</th>\n",
       "      <th>OnlineSecurity</th>\n",
       "      <th>...</th>\n",
       "      <th>DeviceProtection</th>\n",
       "      <th>TechSupport</th>\n",
       "      <th>StreamingTV</th>\n",
       "      <th>StreamingMovies</th>\n",
       "      <th>Contract</th>\n",
       "      <th>PaperlessBilling</th>\n",
       "      <th>PaymentMethod</th>\n",
       "      <th>MonthlyCharges</th>\n",
       "      <th>TotalCharges</th>\n",
       "      <th>Churn</th>\n",
       "    </tr>\n",
       "  </thead>\n",
       "  <tbody>\n",
       "    <tr>\n",
       "      <th>0</th>\n",
       "      <td>7590-VHVEG</td>\n",
       "      <td>Female</td>\n",
       "      <td>0</td>\n",
       "      <td>Yes</td>\n",
       "      <td>No</td>\n",
       "      <td>1</td>\n",
       "      <td>No</td>\n",
       "      <td>No phone service</td>\n",
       "      <td>DSL</td>\n",
       "      <td>No</td>\n",
       "      <td>...</td>\n",
       "      <td>No</td>\n",
       "      <td>No</td>\n",
       "      <td>No</td>\n",
       "      <td>No</td>\n",
       "      <td>Month-to-month</td>\n",
       "      <td>Yes</td>\n",
       "      <td>Electronic check</td>\n",
       "      <td>29.85</td>\n",
       "      <td>29.85</td>\n",
       "      <td>No</td>\n",
       "    </tr>\n",
       "    <tr>\n",
       "      <th>1</th>\n",
       "      <td>5575-GNVDE</td>\n",
       "      <td>Male</td>\n",
       "      <td>0</td>\n",
       "      <td>No</td>\n",
       "      <td>No</td>\n",
       "      <td>34</td>\n",
       "      <td>Yes</td>\n",
       "      <td>No</td>\n",
       "      <td>DSL</td>\n",
       "      <td>Yes</td>\n",
       "      <td>...</td>\n",
       "      <td>Yes</td>\n",
       "      <td>No</td>\n",
       "      <td>No</td>\n",
       "      <td>No</td>\n",
       "      <td>One year</td>\n",
       "      <td>No</td>\n",
       "      <td>Mailed check</td>\n",
       "      <td>56.95</td>\n",
       "      <td>1889.5</td>\n",
       "      <td>No</td>\n",
       "    </tr>\n",
       "    <tr>\n",
       "      <th>2</th>\n",
       "      <td>3668-QPYBK</td>\n",
       "      <td>Male</td>\n",
       "      <td>0</td>\n",
       "      <td>No</td>\n",
       "      <td>No</td>\n",
       "      <td>2</td>\n",
       "      <td>Yes</td>\n",
       "      <td>No</td>\n",
       "      <td>DSL</td>\n",
       "      <td>Yes</td>\n",
       "      <td>...</td>\n",
       "      <td>No</td>\n",
       "      <td>No</td>\n",
       "      <td>No</td>\n",
       "      <td>No</td>\n",
       "      <td>Month-to-month</td>\n",
       "      <td>Yes</td>\n",
       "      <td>Mailed check</td>\n",
       "      <td>53.85</td>\n",
       "      <td>108.15</td>\n",
       "      <td>Yes</td>\n",
       "    </tr>\n",
       "    <tr>\n",
       "      <th>3</th>\n",
       "      <td>7795-CFOCW</td>\n",
       "      <td>Male</td>\n",
       "      <td>0</td>\n",
       "      <td>No</td>\n",
       "      <td>No</td>\n",
       "      <td>45</td>\n",
       "      <td>No</td>\n",
       "      <td>No phone service</td>\n",
       "      <td>DSL</td>\n",
       "      <td>Yes</td>\n",
       "      <td>...</td>\n",
       "      <td>Yes</td>\n",
       "      <td>Yes</td>\n",
       "      <td>No</td>\n",
       "      <td>No</td>\n",
       "      <td>One year</td>\n",
       "      <td>No</td>\n",
       "      <td>Bank transfer (automatic)</td>\n",
       "      <td>42.30</td>\n",
       "      <td>1840.75</td>\n",
       "      <td>No</td>\n",
       "    </tr>\n",
       "    <tr>\n",
       "      <th>4</th>\n",
       "      <td>9237-HQITU</td>\n",
       "      <td>Female</td>\n",
       "      <td>0</td>\n",
       "      <td>No</td>\n",
       "      <td>No</td>\n",
       "      <td>2</td>\n",
       "      <td>Yes</td>\n",
       "      <td>No</td>\n",
       "      <td>Fiber optic</td>\n",
       "      <td>No</td>\n",
       "      <td>...</td>\n",
       "      <td>No</td>\n",
       "      <td>No</td>\n",
       "      <td>No</td>\n",
       "      <td>No</td>\n",
       "      <td>Month-to-month</td>\n",
       "      <td>Yes</td>\n",
       "      <td>Electronic check</td>\n",
       "      <td>70.70</td>\n",
       "      <td>151.65</td>\n",
       "      <td>Yes</td>\n",
       "    </tr>\n",
       "  </tbody>\n",
       "</table>\n",
       "<p>5 rows × 21 columns</p>\n",
       "</div>"
      ],
      "text/plain": [
       "   customerID  gender  SeniorCitizen Partner Dependents  tenure PhoneService  \\\n",
       "0  7590-VHVEG  Female              0     Yes         No       1           No   \n",
       "1  5575-GNVDE    Male              0      No         No      34          Yes   \n",
       "2  3668-QPYBK    Male              0      No         No       2          Yes   \n",
       "3  7795-CFOCW    Male              0      No         No      45           No   \n",
       "4  9237-HQITU  Female              0      No         No       2          Yes   \n",
       "\n",
       "      MultipleLines InternetService OnlineSecurity  ... DeviceProtection  \\\n",
       "0  No phone service             DSL             No  ...               No   \n",
       "1                No             DSL            Yes  ...              Yes   \n",
       "2                No             DSL            Yes  ...               No   \n",
       "3  No phone service             DSL            Yes  ...              Yes   \n",
       "4                No     Fiber optic             No  ...               No   \n",
       "\n",
       "  TechSupport StreamingTV StreamingMovies        Contract PaperlessBilling  \\\n",
       "0          No          No              No  Month-to-month              Yes   \n",
       "1          No          No              No        One year               No   \n",
       "2          No          No              No  Month-to-month              Yes   \n",
       "3         Yes          No              No        One year               No   \n",
       "4          No          No              No  Month-to-month              Yes   \n",
       "\n",
       "               PaymentMethod MonthlyCharges  TotalCharges Churn  \n",
       "0           Electronic check          29.85         29.85    No  \n",
       "1               Mailed check          56.95        1889.5    No  \n",
       "2               Mailed check          53.85        108.15   Yes  \n",
       "3  Bank transfer (automatic)          42.30       1840.75    No  \n",
       "4           Electronic check          70.70        151.65   Yes  \n",
       "\n",
       "[5 rows x 21 columns]"
      ]
     },
     "execution_count": 268,
     "metadata": {},
     "output_type": "execute_result"
    }
   ],
   "source": [
    "df = pd.read_csv('WA_Fn-UseC_-Telco-Customer-Churn.csv')\n",
    "df.head()"
   ]
  },
  {
   "cell_type": "markdown",
   "metadata": {},
   "source": [
    "### Cek bentuk dataset"
   ]
  },
  {
   "cell_type": "code",
   "execution_count": 269,
   "metadata": {},
   "outputs": [
    {
     "data": {
      "text/plain": [
       "(7043, 21)"
      ]
     },
     "execution_count": 269,
     "metadata": {},
     "output_type": "execute_result"
    }
   ],
   "source": [
    "df.shape"
   ]
  },
  {
   "cell_type": "code",
   "execution_count": 270,
   "metadata": {},
   "outputs": [
    {
     "name": "stdout",
     "output_type": "stream",
     "text": [
      "<class 'pandas.core.frame.DataFrame'>\n",
      "RangeIndex: 7043 entries, 0 to 7042\n",
      "Data columns (total 21 columns):\n",
      " #   Column            Non-Null Count  Dtype  \n",
      "---  ------            --------------  -----  \n",
      " 0   customerID        7043 non-null   object \n",
      " 1   gender            7043 non-null   object \n",
      " 2   SeniorCitizen     7043 non-null   int64  \n",
      " 3   Partner           7043 non-null   object \n",
      " 4   Dependents        7043 non-null   object \n",
      " 5   tenure            7043 non-null   int64  \n",
      " 6   PhoneService      7043 non-null   object \n",
      " 7   MultipleLines     7043 non-null   object \n",
      " 8   InternetService   7043 non-null   object \n",
      " 9   OnlineSecurity    7043 non-null   object \n",
      " 10  OnlineBackup      7043 non-null   object \n",
      " 11  DeviceProtection  7043 non-null   object \n",
      " 12  TechSupport       7043 non-null   object \n",
      " 13  StreamingTV       7043 non-null   object \n",
      " 14  StreamingMovies   7043 non-null   object \n",
      " 15  Contract          7043 non-null   object \n",
      " 16  PaperlessBilling  7043 non-null   object \n",
      " 17  PaymentMethod     7043 non-null   object \n",
      " 18  MonthlyCharges    7043 non-null   float64\n",
      " 19  TotalCharges      7043 non-null   object \n",
      " 20  Churn             7043 non-null   object \n",
      "dtypes: float64(1), int64(2), object(18)\n",
      "memory usage: 1.1+ MB\n"
     ]
    }
   ],
   "source": [
    "df.info()"
   ]
  },
  {
   "cell_type": "markdown",
   "metadata": {},
   "source": [
    "Dataset terdiri dari 7043 baris, 21 kolom. Dimana terdapat 3 kolom yang menyimpan data numerik dan 18 kolom yang menyimpan data string."
   ]
  },
  {
   "cell_type": "markdown",
   "metadata": {},
   "source": [
    "### Cek statistik"
   ]
  },
  {
   "cell_type": "code",
   "execution_count": 271,
   "metadata": {},
   "outputs": [
    {
     "data": {
      "text/html": [
       "<div>\n",
       "<style scoped>\n",
       "    .dataframe tbody tr th:only-of-type {\n",
       "        vertical-align: middle;\n",
       "    }\n",
       "\n",
       "    .dataframe tbody tr th {\n",
       "        vertical-align: top;\n",
       "    }\n",
       "\n",
       "    .dataframe thead th {\n",
       "        text-align: right;\n",
       "    }\n",
       "</style>\n",
       "<table border=\"1\" class=\"dataframe\">\n",
       "  <thead>\n",
       "    <tr style=\"text-align: right;\">\n",
       "      <th></th>\n",
       "      <th>SeniorCitizen</th>\n",
       "      <th>tenure</th>\n",
       "      <th>MonthlyCharges</th>\n",
       "    </tr>\n",
       "  </thead>\n",
       "  <tbody>\n",
       "    <tr>\n",
       "      <th>count</th>\n",
       "      <td>7043.000000</td>\n",
       "      <td>7043.000000</td>\n",
       "      <td>7043.000000</td>\n",
       "    </tr>\n",
       "    <tr>\n",
       "      <th>mean</th>\n",
       "      <td>0.162147</td>\n",
       "      <td>32.371149</td>\n",
       "      <td>64.761692</td>\n",
       "    </tr>\n",
       "    <tr>\n",
       "      <th>std</th>\n",
       "      <td>0.368612</td>\n",
       "      <td>24.559481</td>\n",
       "      <td>30.090047</td>\n",
       "    </tr>\n",
       "    <tr>\n",
       "      <th>min</th>\n",
       "      <td>0.000000</td>\n",
       "      <td>0.000000</td>\n",
       "      <td>18.250000</td>\n",
       "    </tr>\n",
       "    <tr>\n",
       "      <th>25%</th>\n",
       "      <td>0.000000</td>\n",
       "      <td>9.000000</td>\n",
       "      <td>35.500000</td>\n",
       "    </tr>\n",
       "    <tr>\n",
       "      <th>50%</th>\n",
       "      <td>0.000000</td>\n",
       "      <td>29.000000</td>\n",
       "      <td>70.350000</td>\n",
       "    </tr>\n",
       "    <tr>\n",
       "      <th>75%</th>\n",
       "      <td>0.000000</td>\n",
       "      <td>55.000000</td>\n",
       "      <td>89.850000</td>\n",
       "    </tr>\n",
       "    <tr>\n",
       "      <th>max</th>\n",
       "      <td>1.000000</td>\n",
       "      <td>72.000000</td>\n",
       "      <td>118.750000</td>\n",
       "    </tr>\n",
       "  </tbody>\n",
       "</table>\n",
       "</div>"
      ],
      "text/plain": [
       "       SeniorCitizen       tenure  MonthlyCharges\n",
       "count    7043.000000  7043.000000     7043.000000\n",
       "mean        0.162147    32.371149       64.761692\n",
       "std         0.368612    24.559481       30.090047\n",
       "min         0.000000     0.000000       18.250000\n",
       "25%         0.000000     9.000000       35.500000\n",
       "50%         0.000000    29.000000       70.350000\n",
       "75%         0.000000    55.000000       89.850000\n",
       "max         1.000000    72.000000      118.750000"
      ]
     },
     "execution_count": 271,
     "metadata": {},
     "output_type": "execute_result"
    }
   ],
   "source": [
    "df.describe()"
   ]
  },
  {
   "cell_type": "markdown",
   "metadata": {},
   "source": [
    "### Cek missing value"
   ]
  },
  {
   "cell_type": "code",
   "execution_count": 272,
   "metadata": {},
   "outputs": [
    {
     "data": {
      "text/plain": [
       "customerID          0\n",
       "gender              0\n",
       "SeniorCitizen       0\n",
       "Partner             0\n",
       "Dependents          0\n",
       "tenure              0\n",
       "PhoneService        0\n",
       "MultipleLines       0\n",
       "InternetService     0\n",
       "OnlineSecurity      0\n",
       "OnlineBackup        0\n",
       "DeviceProtection    0\n",
       "TechSupport         0\n",
       "StreamingTV         0\n",
       "StreamingMovies     0\n",
       "Contract            0\n",
       "PaperlessBilling    0\n",
       "PaymentMethod       0\n",
       "MonthlyCharges      0\n",
       "TotalCharges        0\n",
       "Churn               0\n",
       "dtype: int64"
      ]
     },
     "execution_count": 272,
     "metadata": {},
     "output_type": "execute_result"
    }
   ],
   "source": [
    "df.isna().sum()"
   ]
  },
  {
   "cell_type": "markdown",
   "metadata": {},
   "source": [
    "Tidak terdapat missing value di semua kolom dataset."
   ]
  },
  {
   "cell_type": "markdown",
   "metadata": {},
   "source": [
    "## 4. Exploratory Data Analysis"
   ]
  },
  {
   "cell_type": "markdown",
   "metadata": {},
   "source": [
    "### Lihat distribusi target\n",
    "Target pada dataset ini adalah kolom Churn"
   ]
  },
  {
   "cell_type": "code",
   "execution_count": 273,
   "metadata": {},
   "outputs": [
    {
     "data": {
      "text/plain": [
       "No     5174\n",
       "Yes    1869\n",
       "Name: Churn, dtype: int64"
      ]
     },
     "execution_count": 273,
     "metadata": {},
     "output_type": "execute_result"
    }
   ],
   "source": [
    "df.Churn.value_counts()"
   ]
  },
  {
   "cell_type": "code",
   "execution_count": 274,
   "metadata": {},
   "outputs": [
    {
     "data": {
      "text/plain": [
       "<AxesSubplot:>"
      ]
     },
     "execution_count": 274,
     "metadata": {},
     "output_type": "execute_result"
    },
    {
     "data": {
      "image/png": "[encoded data removed]",
      "text/plain": [
       "<Figure size 432x288 with 1 Axes>"
      ]
     },
     "metadata": {
      "needs_background": "light"
     },
     "output_type": "display_data"
    }
   ],
   "source": [
    "df.Churn.value_counts().plot(kind='bar')"
   ]
  },
  {
   "cell_type": "markdown",
   "metadata": {},
   "source": [
    "Jumlah customer yang 'churn' (nilai kolom Churn = Yes) lebih sedikit dibandingkan jumlah customer yang tidak 'churn'."
   ]
  },
  {
   "cell_type": "markdown",
   "metadata": {},
   "source": [
    "### Drop kolom customerID\n",
    "Kolom customerID memiliki cardinality yang sangat tinggi karena merupakan unique value untuk tiap-tiap customer."
   ]
  },
  {
   "cell_type": "code",
   "execution_count": 275,
   "metadata": {},
   "outputs": [],
   "source": [
    "df.drop('customerID', axis=1, inplace=True)"
   ]
  },
  {
   "cell_type": "markdown",
   "metadata": {},
   "source": [
    "### Ubah format kolom\n",
    "Kolom TotalCharges berisi data numerik, namun pada df.info() terlihat formatnya object sehingga perlu diubah ke numerik."
   ]
  },
  {
   "cell_type": "code",
   "execution_count": 276,
   "metadata": {},
   "outputs": [],
   "source": [
    "hasil = []\n",
    "for i in df['TotalCharges']:\n",
    "    try:\n",
    "        a = float(i)\n",
    "        hasil.append(a)\n",
    "    except:\n",
    "        hasil.append(a)\n",
    "df['TotalCharges'] = hasil"
   ]
  },
  {
   "cell_type": "code",
   "execution_count": 277,
   "metadata": {},
   "outputs": [
    {
     "data": {
      "text/plain": [
       "2285.169963083916"
      ]
     },
     "execution_count": 277,
     "metadata": {},
     "output_type": "execute_result"
    }
   ],
   "source": [
    "df['TotalCharges'].mean()"
   ]
  },
  {
   "cell_type": "markdown",
   "metadata": {},
   "source": [
    "### Pisahkan kolom numerik dan kategorik\n",
    "Hal ini perlu dilakukan untuk memudahkan analisis berikutnya."
   ]
  },
  {
   "cell_type": "code",
   "execution_count": 278,
   "metadata": {},
   "outputs": [],
   "source": [
    "num_col = ['tenure', 'MonthlyCharges', 'TotalCharges']\n",
    "cat_col = df.columns.tolist()\n",
    "cat_col.remove('tenure')\n",
    "cat_col.remove('MonthlyCharges')\n",
    "cat_col.remove('TotalCharges')"
   ]
  },
  {
   "cell_type": "markdown",
   "metadata": {},
   "source": [
    "### Analisa pada kolom numerik"
   ]
  },
  {
   "cell_type": "markdown",
   "metadata": {},
   "source": [
    "Berikut rata-rata value pada kolom numerik untuk tiap-tiap kelas target:"
   ]
  },
  {
   "cell_type": "code",
   "execution_count": 279,
   "metadata": {},
   "outputs": [
    {
     "data": {
      "text/html": [
       "<div>\n",
       "<style scoped>\n",
       "    .dataframe tbody tr th:only-of-type {\n",
       "        vertical-align: middle;\n",
       "    }\n",
       "\n",
       "    .dataframe tbody tr th {\n",
       "        vertical-align: top;\n",
       "    }\n",
       "\n",
       "    .dataframe thead th {\n",
       "        text-align: right;\n",
       "    }\n",
       "</style>\n",
       "<table border=\"1\" class=\"dataframe\">\n",
       "  <thead>\n",
       "    <tr style=\"text-align: right;\">\n",
       "      <th></th>\n",
       "      <th>tenure</th>\n",
       "      <th>MonthlyCharges</th>\n",
       "      <th>TotalCharges</th>\n",
       "    </tr>\n",
       "    <tr>\n",
       "      <th>Churn</th>\n",
       "      <th></th>\n",
       "      <th></th>\n",
       "      <th></th>\n",
       "    </tr>\n",
       "  </thead>\n",
       "  <tbody>\n",
       "    <tr>\n",
       "      <th>No</th>\n",
       "      <td>37.569965</td>\n",
       "      <td>61.265124</td>\n",
       "      <td>2557.310620</td>\n",
       "    </tr>\n",
       "    <tr>\n",
       "      <th>Yes</th>\n",
       "      <td>17.979133</td>\n",
       "      <td>74.441332</td>\n",
       "      <td>1531.796094</td>\n",
       "    </tr>\n",
       "  </tbody>\n",
       "</table>\n",
       "</div>"
      ],
      "text/plain": [
       "          tenure  MonthlyCharges  TotalCharges\n",
       "Churn                                         \n",
       "No     37.569965       61.265124   2557.310620\n",
       "Yes    17.979133       74.441332   1531.796094"
      ]
     },
     "execution_count": 279,
     "metadata": {},
     "output_type": "execute_result"
    }
   ],
   "source": [
    "df.groupby('Churn').mean()[num_col]"
   ]
  },
  {
   "cell_type": "markdown",
   "metadata": {},
   "source": [
    "Terdapat perbedaan rata-rata yang cukup jauh untuk value pada kelas Yes dan No, baik pada kolom tenure, TotalCharges maupun kolom MonthlyCharges. Pada proses selanjutnya akan dilakukan two sample two tailed t-test untuk mengonfirmasi perbedaan ini. Adapun distribusi untuk kolom numerik berdasarkan tiap-tiap kelas target adalah sebagai berikut :"
   ]
  },
  {
   "cell_type": "code",
   "execution_count": 280,
   "metadata": {},
   "outputs": [
    {
     "data": {
      "image/png": "[encoded data removed]",
      "text/plain": [
       "<Figure size 432x288 with 1 Axes>"
      ]
     },
     "metadata": {
      "needs_background": "light"
     },
     "output_type": "display_data"
    },
    {
     "data": {
      "image/png": "[encoded data removed]",
      "text/plain": [
       "<Figure size 432x288 with 1 Axes>"
      ]
     },
     "metadata": {
      "needs_background": "light"
     },
     "output_type": "display_data"
    },
    {
     "data": {
      "image/png": "[encoded data removed]",
      "text/plain": [
       "<Figure size 432x288 with 1 Axes>"
      ]
     },
     "metadata": {
      "needs_background": "light"
     },
     "output_type": "display_data"
    }
   ],
   "source": [
    "for i in num_col:\n",
    "    a = df[df.Churn=='Yes'][i]\n",
    "    b = df[df.Churn=='No'][i]\n",
    "    plt.hist(a, alpha=0.5, label='Churn')\n",
    "    plt.hist(b, alpha=0.5, label='Not Churn')\n",
    "    plt.title('Distribusi kolom '+ i)\n",
    "    plt.legend()\n",
    "    plt.show()"
   ]
  },
  {
   "cell_type": "markdown",
   "metadata": {},
   "source": [
    "Dari histogram di atas bisa disimpulkan bahwa :\n",
    "1. Pada kolom tenure terlihat bahwa mayoritas customer yang churn memiliki tenure yang pendek, adapun customer yang tidak churn mayoritas memiliki tenure yang panjang walaupun banyak juga yang memiliki tenure pendek.\n",
    "2. Pada kolom MonthlyCharges, customer yang tidak churn mayoritas memiliki MonthlyCharges yang rendah, adapun customer yang churn mayoritas memiliki MonthlyCharges yang tinggi.\n",
    "3. Terlihat distribusi yang mirip pada kolom TotalCharges baik untuk customer yang churn maupun tidak."
   ]
  },
  {
   "cell_type": "markdown",
   "metadata": {},
   "source": [
    "Hubungan antar tiap-tiap kolom numerik menggunakan heatmap adalah sebagai berikut :"
   ]
  },
  {
   "cell_type": "code",
   "execution_count": 281,
   "metadata": {},
   "outputs": [
    {
     "data": {
      "text/plain": [
       "<AxesSubplot:>"
      ]
     },
     "execution_count": 281,
     "metadata": {},
     "output_type": "execute_result"
    },
    {
     "data": {
      "image/png": "[encoded data removed]",
      "text/plain": [
       "<Figure size 1080x864 with 2 Axes>"
      ]
     },
     "metadata": {
      "needs_background": "light"
     },
     "output_type": "display_data"
    }
   ],
   "source": [
    "corr1 = df[num_col].corr()\n",
    "plt.figure(figsize=(15,12))\n",
    "sns.heatmap(corr1,cmap='Blues',annot=True)"
   ]
  },
  {
   "cell_type": "markdown",
   "metadata": {},
   "source": [
    "Terlihat nilai korelasi >0.5 untuk pasangan kolom :\n",
    "1. tenure dan TotalCharges, dengan korelasi sebesar 0.82.\n",
    "2. MonthlyCharges dan TotalCharges, dengan korelasi sebesar 0.65."
   ]
  },
  {
   "cell_type": "markdown",
   "metadata": {},
   "source": [
    "### Analisa pada kolom kategorik"
   ]
  },
  {
   "cell_type": "markdown",
   "metadata": {},
   "source": [
    "Lihat hubungan tiap-tiap kategorik dengan tiap-tiap kelas target dengan bantuan visualisasi:"
   ]
  },
  {
   "cell_type": "code",
   "execution_count": 282,
   "metadata": {},
   "outputs": [
    {
     "data": {
      "image/png": "[encoded data removed]",
      "text/plain": [
       "<Figure size 432x288 with 1 Axes>"
      ]
     },
     "metadata": {
      "needs_background": "light"
     },
     "output_type": "display_data"
    },
    {
     "data": {
      "image/png": "[encoded data removed]",
      "text/plain": [
       "<Figure size 432x288 with 1 Axes>"
      ]
     },
     "metadata": {
      "needs_background": "light"
     },
     "output_type": "display_data"
    },
    {
     "data": {
      "image/png": "[encoded data removed]",
      "text/plain": [
       "<Figure size 432x288 with 1 Axes>"
      ]
     },
     "metadata": {
      "needs_background": "light"
     },
     "output_type": "display_data"
    },
    {
     "data": {
      "image/png": "[encoded data removed]",
      "text/plain": [
       "<Figure size 432x288 with 1 Axes>"
      ]
     },
     "metadata": {
      "needs_background": "light"
     },
     "output_type": "display_data"
    },
    {
     "data": {
      "image/png": "[encoded data removed]",
      "text/plain": [
       "<Figure size 432x288 with 1 Axes>"
      ]
     },
     "metadata": {
      "needs_background": "light"
     },
     "output_type": "display_data"
    },
    {
     "data": {
      "image/png": "[encoded data removed]",
      "text/plain": [
       "<Figure size 432x288 with 1 Axes>"
      ]
     },
     "metadata": {
      "needs_background": "light"
     },
     "output_type": "display_data"
    },
    {
     "data": {
      "image/png": "[encoded data removed]",
      "text/plain": [
       "<Figure size 432x288 with 1 Axes>"
      ]
     },
     "metadata": {
      "needs_background": "light"
     },
     "output_type": "display_data"
    },
    {
     "data": {
      "image/png": "[encoded data removed]",
      "text/plain": [
       "<Figure size 432x288 with 1 Axes>"
      ]
     },
     "metadata": {
      "needs_background": "light"
     },
     "output_type": "display_data"
    },
    {
     "data": {
      "image/png": "[encoded data removed]",
      "text/plain": [
       "<Figure size 432x288 with 1 Axes>"
      ]
     },
     "metadata": {
      "needs_background": "light"
     },
     "output_type": "display_data"
    },
    {
     "data": {
      "image/png": "[encoded data removed]",
      "text/plain": [
       "<Figure size 432x288 with 1 Axes>"
      ]
     },
     "metadata": {
      "needs_background": "light"
     },
     "output_type": "display_data"
    },
    {
     "data": {
      "image/png": "[encoded data removed]",
      "text/plain": [
       "<Figure size 432x288 with 1 Axes>"
      ]
     },
     "metadata": {
      "needs_background": "light"
     },
     "output_type": "display_data"
    },
    {
     "data": {
      "image/png": "[encoded data removed]",
      "text/plain": [
       "<Figure size 432x288 with 1 Axes>"
      ]
     },
     "metadata": {
      "needs_background": "light"
     },
     "output_type": "display_data"
    },
    {
     "data": {
      "image/png": "[encoded data removed]",
      "text/plain": [
       "<Figure size 432x288 with 1 Axes>"
      ]
     },
     "metadata": {
      "needs_background": "light"
     },
     "output_type": "display_data"
    },
    {
     "data": {
      "image/png": "[encoded data removed]",
      "text/plain": [
       "<Figure size 432x288 with 1 Axes>"
      ]
     },
     "metadata": {
      "needs_background": "light"
     },
     "output_type": "display_data"
    },
    {
     "data": {
      "image/png": "[encoded data removed]",
      "text/plain": [
       "<Figure size 432x288 with 1 Axes>"
      ]
     },
     "metadata": {
      "needs_background": "light"
     },
     "output_type": "display_data"
    },
    {
     "data": {
      "image/png": "[encoded data removed]",
      "text/plain": [
       "<Figure size 432x288 with 1 Axes>"
      ]
     },
     "metadata": {
      "needs_background": "light"
     },
     "output_type": "display_data"
    },
    {
     "data": {
      "image/png": "[encoded data removed]",
      "text/plain": [
       "<Figure size 432x288 with 1 Axes>"
      ]
     },
     "metadata": {
      "needs_background": "light"
     },
     "output_type": "display_data"
    }
   ],
   "source": [
    "for i in cat_col:\n",
    "    pd.crosstab(df[i], df['Churn']).plot(kind='bar')\n",
    "    plt.show()"
   ]
  },
  {
   "cell_type": "markdown",
   "metadata": {},
   "source": [
    "Terlihat churn rate yang tinggi untuk customer dengan :\n",
    "1. Senior Citizen = 1\n",
    "2. InternetService = Fiber Optic\n",
    "3. OnlineSecurity = No\n",
    "4. OnlineBackup = No\n",
    "5. DeviceProtection  = No\n",
    "6. TechSupport = No\n",
    "7. Contract = Month to month\n",
    "8. PaymentMethod = Electronic check"
   ]
  },
  {
   "cell_type": "markdown",
   "metadata": {},
   "source": [
    "## 5. Data Preprocessing\n",
    "\n",
    "### a. Data Inference"
   ]
  },
  {
   "cell_type": "code",
   "execution_count": 283,
   "metadata": {},
   "outputs": [],
   "source": [
    "#Ambil inference\n",
    "df_inf = df.sample(5, random_state=69)\n",
    "\n",
    "#Pisahkan inference dari semua data\n",
    "df_train_test = df.drop(df_inf.index)\n",
    "\n",
    "#Reset index\n",
    "df_train_test.reset_index(drop=True, inplace=True)\n",
    "df_inf.reset_index(drop=True, inplace=True)"
   ]
  },
  {
   "cell_type": "markdown",
   "metadata": {},
   "source": [
    "Diambil data inference secara random sebanyak 5 data."
   ]
  },
  {
   "cell_type": "markdown",
   "metadata": {},
   "source": [
    "### b. Split Feature (X) dan Target (y)"
   ]
  },
  {
   "cell_type": "code",
   "execution_count": 284,
   "metadata": {},
   "outputs": [],
   "source": [
    "X = df_train_test.drop('Churn', axis=1)\n",
    "y = df_train_test['Churn']"
   ]
  },
  {
   "cell_type": "markdown",
   "metadata": {},
   "source": [
    "kolom target adalah kolom Churn, sedangkan feature adalah kolom selain kolom tersebut."
   ]
  },
  {
   "cell_type": "markdown",
   "metadata": {},
   "source": [
    "### c. Split Data Train, Data Validation dan Data Test"
   ]
  },
  {
   "cell_type": "markdown",
   "metadata": {},
   "source": [
    "Split data train_val dengan data test:"
   ]
  },
  {
   "cell_type": "code",
   "execution_count": 285,
   "metadata": {},
   "outputs": [],
   "source": [
    "X_train_val, X_test, y_train_val, y_test = train_test_split(X, y, test_size=0.15, stratify=y, random_state=69)"
   ]
  },
  {
   "cell_type": "markdown",
   "metadata": {},
   "source": [
    "Split data train dengan data val:"
   ]
  },
  {
   "cell_type": "code",
   "execution_count": 286,
   "metadata": {},
   "outputs": [],
   "source": [
    "X_train, X_val, y_train, y_val = train_test_split(X_train_val, y_train_val, test_size=0.1, stratify=y_train_val, random_state=69)"
   ]
  },
  {
   "cell_type": "markdown",
   "metadata": {},
   "source": [
    "Cek dimensi:"
   ]
  },
  {
   "cell_type": "code",
   "execution_count": 287,
   "metadata": {},
   "outputs": [
    {
     "name": "stdout",
     "output_type": "stream",
     "text": [
      "dimensi x-train: (5383, 19)\n",
      "dimensi x-train: (599, 19)\n",
      "dimensi x-test : (1056, 19)\n",
      "dimensi y-train: (5383,)\n",
      "dimensi y-train: (599,)\n",
      "dimensi y-test : (1056,)\n"
     ]
    }
   ],
   "source": [
    "#Reset index\n",
    "X_train.reset_index(inplace=True, drop=True)\n",
    "y_train.reset_index(inplace=True, drop=True)\n",
    "X_val.reset_index(inplace=True, drop=True)\n",
    "y_val.reset_index(inplace=True, drop=True)\n",
    "X_test.reset_index(inplace=True, drop=True)\n",
    "y_test.reset_index(inplace=True, drop=True)\n",
    "\n",
    "#Cek dimensi\n",
    "print(f'dimensi x-train: {X_train.shape}')\n",
    "print(f'dimensi x-train: {X_val.shape}')\n",
    "print(f'dimensi x-test : {X_test.shape}')\n",
    "print(f'dimensi y-train: {y_train.shape}')\n",
    "print(f'dimensi y-train: {y_val.shape}')\n",
    "print(f'dimensi y-test : {y_test.shape}')"
   ]
  },
  {
   "cell_type": "markdown",
   "metadata": {},
   "source": [
    "Dimensi data train, val dan test sudah sesuai."
   ]
  },
  {
   "cell_type": "markdown",
   "metadata": {},
   "source": [
    "### d. Handling Outlier\n",
    "Cek skewness untuk tiap-tiap kolom numerik:"
   ]
  },
  {
   "cell_type": "code",
   "execution_count": 288,
   "metadata": {},
   "outputs": [],
   "source": [
    "#Cek Skewness\n",
    "skew = []\n",
    "for i in num_col:\n",
    "    skew.append(abs(X_train[i].skew()))"
   ]
  },
  {
   "cell_type": "markdown",
   "metadata": {},
   "source": [
    "Tampilkan hasilnya dalam dataframe:"
   ]
  },
  {
   "cell_type": "code",
   "execution_count": 289,
   "metadata": {},
   "outputs": [
    {
     "data": {
      "text/html": [
       "<div>\n",
       "<style scoped>\n",
       "    .dataframe tbody tr th:only-of-type {\n",
       "        vertical-align: middle;\n",
       "    }\n",
       "\n",
       "    .dataframe tbody tr th {\n",
       "        vertical-align: top;\n",
       "    }\n",
       "\n",
       "    .dataframe thead th {\n",
       "        text-align: right;\n",
       "    }\n",
       "</style>\n",
       "<table border=\"1\" class=\"dataframe\">\n",
       "  <thead>\n",
       "    <tr style=\"text-align: right;\">\n",
       "      <th></th>\n",
       "      <th>Kolom</th>\n",
       "      <th>Skewness_abs</th>\n",
       "      <th>normal</th>\n",
       "    </tr>\n",
       "  </thead>\n",
       "  <tbody>\n",
       "    <tr>\n",
       "      <th>0</th>\n",
       "      <td>tenure</td>\n",
       "      <td>0.230185</td>\n",
       "      <td>True</td>\n",
       "    </tr>\n",
       "    <tr>\n",
       "      <th>1</th>\n",
       "      <td>MonthlyCharges</td>\n",
       "      <td>0.223690</td>\n",
       "      <td>True</td>\n",
       "    </tr>\n",
       "    <tr>\n",
       "      <th>2</th>\n",
       "      <td>TotalCharges</td>\n",
       "      <td>0.939295</td>\n",
       "      <td>False</td>\n",
       "    </tr>\n",
       "  </tbody>\n",
       "</table>\n",
       "</div>"
      ],
      "text/plain": [
       "            Kolom  Skewness_abs  normal\n",
       "0          tenure      0.230185    True\n",
       "1  MonthlyCharges      0.223690    True\n",
       "2    TotalCharges      0.939295   False"
      ]
     },
     "execution_count": 289,
     "metadata": {},
     "output_type": "execute_result"
    }
   ],
   "source": [
    "df_skew = pd.DataFrame({'Kolom':num_col, 'Skewness_abs':skew})\n",
    "df_skew['normal'] = df_skew.Skewness_abs.apply(lambda x: True if x<=0.5 else False)\n",
    "df_skew"
   ]
  },
  {
   "cell_type": "markdown",
   "metadata": {},
   "source": [
    "Buat list berisi kolom terdistribusi normal dan kolom tidak terdistribusi normal:"
   ]
  },
  {
   "cell_type": "code",
   "execution_count": 290,
   "metadata": {},
   "outputs": [],
   "source": [
    "skew_col = list(df_skew[df_skew.normal==False]['Kolom'])\n",
    "normal_col = list(df_skew[df_skew.normal==True]['Kolom'])"
   ]
  },
  {
   "cell_type": "markdown",
   "metadata": {},
   "source": [
    "Lakukan pengecekan jumlah outlier pada kolom yang tidak terdistribusi normal dan tampilkan hasilnya ke dalam dataframe:"
   ]
  },
  {
   "cell_type": "code",
   "execution_count": 291,
   "metadata": {},
   "outputs": [],
   "source": [
    "jumlah_outliers = []\n",
    "percent_outliers = []\n",
    "lower1_lst = []\n",
    "upper1_lst = []\n",
    "for i in skew_col:\n",
    "    num = 3\n",
    "    q1 = np.nanquantile(X_train[i], 0.25)\n",
    "    q3 = np.nanquantile(X_train[i], 0.75)\n",
    "    iqr = q3 - q1\n",
    "    upper1 = q3 + num*iqr\n",
    "    lower1 = q1 - num*iqr\n",
    "    upper1_lst.append(upper1)\n",
    "    lower1_lst.append(lower1)\n",
    "    jumlah = len(X_train[(X_train[i]>upper1)|(X_train[i]<lower1)])\n",
    "    jumlah_outliers.append(jumlah)\n",
    "    percent = len(X_train[(X_train[i]>upper1)|(X_train[i]<lower1)])*100/len(X_train)\n",
    "    percent_outliers.append(percent)"
   ]
  },
  {
   "cell_type": "code",
   "execution_count": 292,
   "metadata": {},
   "outputs": [
    {
     "data": {
      "text/html": [
       "<div>\n",
       "<style scoped>\n",
       "    .dataframe tbody tr th:only-of-type {\n",
       "        vertical-align: middle;\n",
       "    }\n",
       "\n",
       "    .dataframe tbody tr th {\n",
       "        vertical-align: top;\n",
       "    }\n",
       "\n",
       "    .dataframe thead th {\n",
       "        text-align: right;\n",
       "    }\n",
       "</style>\n",
       "<table border=\"1\" class=\"dataframe\">\n",
       "  <thead>\n",
       "    <tr style=\"text-align: right;\">\n",
       "      <th></th>\n",
       "      <th>kolom</th>\n",
       "      <th>jumlah_outlier</th>\n",
       "      <th>persen_outlier</th>\n",
       "      <th>upper</th>\n",
       "      <th>lower</th>\n",
       "    </tr>\n",
       "  </thead>\n",
       "  <tbody>\n",
       "    <tr>\n",
       "      <th>0</th>\n",
       "      <td>TotalCharges</td>\n",
       "      <td>0</td>\n",
       "      <td>0.0</td>\n",
       "      <td>14214.45</td>\n",
       "      <td>-9959.7</td>\n",
       "    </tr>\n",
       "  </tbody>\n",
       "</table>\n",
       "</div>"
      ],
      "text/plain": [
       "          kolom  jumlah_outlier  persen_outlier     upper   lower\n",
       "0  TotalCharges               0             0.0  14214.45 -9959.7"
      ]
     },
     "execution_count": 292,
     "metadata": {},
     "output_type": "execute_result"
    }
   ],
   "source": [
    "pd.DataFrame({'kolom':skew_col, 'jumlah_outlier':jumlah_outliers, 'persen_outlier':percent_outliers, 'upper': upper1_lst, 'lower': lower1_lst})"
   ]
  },
  {
   "cell_type": "markdown",
   "metadata": {},
   "source": [
    "Tidak terdapat outlier pada kolom yang tidak terdistribusi normal."
   ]
  },
  {
   "cell_type": "markdown",
   "metadata": {},
   "source": [
    "Lakukan pengecekan jumlah outlier pada kolom yang terdistribusi normal dan tampilkan hasilnya ke dalam dataframe:"
   ]
  },
  {
   "cell_type": "code",
   "execution_count": 293,
   "metadata": {},
   "outputs": [],
   "source": [
    "percent_outliers1 = []\n",
    "jumlah_outliers1 = []\n",
    "upper_lst = []\n",
    "lower_lst = []\n",
    "for i in normal_col:\n",
    "    std = X_train[i].std()\n",
    "    upper = X_train[i].mean() + 3*std\n",
    "    lower = X_train[i].mean() - 3*std\n",
    "    upper_lst.append(upper)\n",
    "    lower_lst.append(lower)\n",
    "    jumlah = len(X_train[(X_train[i]>upper)|(X_train[i]<lower)])\n",
    "    jumlah_outliers1.append(jumlah)\n",
    "    percent = len(X_train[(X_train[i]>upper)|(X_train[i]<lower)])*100/len(X_train)\n",
    "    percent_outliers1.append(percent)"
   ]
  },
  {
   "cell_type": "code",
   "execution_count": 294,
   "metadata": {},
   "outputs": [
    {
     "data": {
      "text/html": [
       "<div>\n",
       "<style scoped>\n",
       "    .dataframe tbody tr th:only-of-type {\n",
       "        vertical-align: middle;\n",
       "    }\n",
       "\n",
       "    .dataframe tbody tr th {\n",
       "        vertical-align: top;\n",
       "    }\n",
       "\n",
       "    .dataframe thead th {\n",
       "        text-align: right;\n",
       "    }\n",
       "</style>\n",
       "<table border=\"1\" class=\"dataframe\">\n",
       "  <thead>\n",
       "    <tr style=\"text-align: right;\">\n",
       "      <th></th>\n",
       "      <th>kolom</th>\n",
       "      <th>jumlah_outlier</th>\n",
       "      <th>persen_outlier</th>\n",
       "      <th>upper</th>\n",
       "      <th>lower</th>\n",
       "    </tr>\n",
       "  </thead>\n",
       "  <tbody>\n",
       "    <tr>\n",
       "      <th>0</th>\n",
       "      <td>tenure</td>\n",
       "      <td>0</td>\n",
       "      <td>0.0</td>\n",
       "      <td>106.597294</td>\n",
       "      <td>-41.464840</td>\n",
       "    </tr>\n",
       "    <tr>\n",
       "      <th>1</th>\n",
       "      <td>MonthlyCharges</td>\n",
       "      <td>0</td>\n",
       "      <td>0.0</td>\n",
       "      <td>155.263913</td>\n",
       "      <td>-25.519347</td>\n",
       "    </tr>\n",
       "  </tbody>\n",
       "</table>\n",
       "</div>"
      ],
      "text/plain": [
       "            kolom  jumlah_outlier  persen_outlier       upper      lower\n",
       "0          tenure               0             0.0  106.597294 -41.464840\n",
       "1  MonthlyCharges               0             0.0  155.263913 -25.519347"
      ]
     },
     "execution_count": 294,
     "metadata": {},
     "output_type": "execute_result"
    }
   ],
   "source": [
    "pd.DataFrame({'kolom':normal_col, 'jumlah_outlier':jumlah_outliers1, 'persen_outlier':percent_outliers1, 'upper':upper_lst, 'lower':lower_lst})"
   ]
  },
  {
   "cell_type": "markdown",
   "metadata": {},
   "source": [
    "Tidak terdapat outlier pada kolom yang terdistribusi normal. Karena tidak terdapat outlier pada semua kolom, maka tidak dilakukan handling outlier."
   ]
  },
  {
   "cell_type": "markdown",
   "metadata": {},
   "source": [
    "### e. Handling Missing Value"
   ]
  },
  {
   "cell_type": "markdown",
   "metadata": {},
   "source": [
    "Cek missing value pada data train, data val dan data test:"
   ]
  },
  {
   "cell_type": "code",
   "execution_count": 295,
   "metadata": {},
   "outputs": [
    {
     "data": {
      "text/plain": [
       "gender              0\n",
       "SeniorCitizen       0\n",
       "Partner             0\n",
       "Dependents          0\n",
       "tenure              0\n",
       "PhoneService        0\n",
       "MultipleLines       0\n",
       "InternetService     0\n",
       "OnlineSecurity      0\n",
       "OnlineBackup        0\n",
       "DeviceProtection    0\n",
       "TechSupport         0\n",
       "StreamingTV         0\n",
       "StreamingMovies     0\n",
       "Contract            0\n",
       "PaperlessBilling    0\n",
       "PaymentMethod       0\n",
       "MonthlyCharges      0\n",
       "TotalCharges        0\n",
       "dtype: int64"
      ]
     },
     "execution_count": 295,
     "metadata": {},
     "output_type": "execute_result"
    }
   ],
   "source": [
    "X_train.isna().sum()"
   ]
  },
  {
   "cell_type": "code",
   "execution_count": 296,
   "metadata": {},
   "outputs": [
    {
     "data": {
      "text/plain": [
       "gender              0\n",
       "SeniorCitizen       0\n",
       "Partner             0\n",
       "Dependents          0\n",
       "tenure              0\n",
       "PhoneService        0\n",
       "MultipleLines       0\n",
       "InternetService     0\n",
       "OnlineSecurity      0\n",
       "OnlineBackup        0\n",
       "DeviceProtection    0\n",
       "TechSupport         0\n",
       "StreamingTV         0\n",
       "StreamingMovies     0\n",
       "Contract            0\n",
       "PaperlessBilling    0\n",
       "PaymentMethod       0\n",
       "MonthlyCharges      0\n",
       "TotalCharges        0\n",
       "dtype: int64"
      ]
     },
     "execution_count": 296,
     "metadata": {},
     "output_type": "execute_result"
    }
   ],
   "source": [
    "X_val.isna().sum()"
   ]
  },
  {
   "cell_type": "code",
   "execution_count": 297,
   "metadata": {},
   "outputs": [
    {
     "data": {
      "text/plain": [
       "gender              0\n",
       "SeniorCitizen       0\n",
       "Partner             0\n",
       "Dependents          0\n",
       "tenure              0\n",
       "PhoneService        0\n",
       "MultipleLines       0\n",
       "InternetService     0\n",
       "OnlineSecurity      0\n",
       "OnlineBackup        0\n",
       "DeviceProtection    0\n",
       "TechSupport         0\n",
       "StreamingTV         0\n",
       "StreamingMovies     0\n",
       "Contract            0\n",
       "PaperlessBilling    0\n",
       "PaymentMethod       0\n",
       "MonthlyCharges      0\n",
       "TotalCharges        0\n",
       "dtype: int64"
      ]
     },
     "execution_count": 297,
     "metadata": {},
     "output_type": "execute_result"
    }
   ],
   "source": [
    "X_test.isna().sum()"
   ]
  },
  {
   "cell_type": "markdown",
   "metadata": {},
   "source": [
    "Tidak terdapat missing value pada data train, data val dan data test, sehingga tidak perlu dilakukan handling outlier."
   ]
  },
  {
   "cell_type": "markdown",
   "metadata": {},
   "source": [
    "### f. Feature Selection"
   ]
  },
  {
   "cell_type": "markdown",
   "metadata": {},
   "source": [
    "#### Kolom kategorik\n",
    "\n",
    "Pada kolom kategorik, dilakukan chi square test untuk menentukan apakah kolom tersebut berhubungan dengan kolom target atau tidak. Apabila nilai p-value dari chi square test lebih besar dari 0.05 maka kolom tersebut tidak berhubungan dengan target sehingga dapat di-drop."
   ]
  },
  {
   "cell_type": "code",
   "execution_count": 298,
   "metadata": {},
   "outputs": [],
   "source": [
    "cat_col.remove('Churn')"
   ]
  },
  {
   "cell_type": "markdown",
   "metadata": {},
   "source": [
    "Hitung p-value untuk tiap-tiap kolom :"
   ]
  },
  {
   "cell_type": "code",
   "execution_count": 299,
   "metadata": {},
   "outputs": [
    {
     "data": {
      "text/html": [
       "<div>\n",
       "<style scoped>\n",
       "    .dataframe tbody tr th:only-of-type {\n",
       "        vertical-align: middle;\n",
       "    }\n",
       "\n",
       "    .dataframe tbody tr th {\n",
       "        vertical-align: top;\n",
       "    }\n",
       "\n",
       "    .dataframe thead th {\n",
       "        text-align: right;\n",
       "    }\n",
       "</style>\n",
       "<table border=\"1\" class=\"dataframe\">\n",
       "  <thead>\n",
       "    <tr style=\"text-align: right;\">\n",
       "      <th></th>\n",
       "      <th>Kolom</th>\n",
       "      <th>p-value</th>\n",
       "      <th>drop</th>\n",
       "    </tr>\n",
       "  </thead>\n",
       "  <tbody>\n",
       "    <tr>\n",
       "      <th>0</th>\n",
       "      <td>gender</td>\n",
       "      <td>3.320848e-01</td>\n",
       "      <td>True</td>\n",
       "    </tr>\n",
       "    <tr>\n",
       "      <th>1</th>\n",
       "      <td>SeniorCitizen</td>\n",
       "      <td>1.437889e-29</td>\n",
       "      <td>False</td>\n",
       "    </tr>\n",
       "    <tr>\n",
       "      <th>2</th>\n",
       "      <td>Partner</td>\n",
       "      <td>4.600274e-29</td>\n",
       "      <td>False</td>\n",
       "    </tr>\n",
       "    <tr>\n",
       "      <th>3</th>\n",
       "      <td>Dependents</td>\n",
       "      <td>3.416345e-33</td>\n",
       "      <td>False</td>\n",
       "    </tr>\n",
       "    <tr>\n",
       "      <th>4</th>\n",
       "      <td>PhoneService</td>\n",
       "      <td>2.249733e-01</td>\n",
       "      <td>True</td>\n",
       "    </tr>\n",
       "    <tr>\n",
       "      <th>5</th>\n",
       "      <td>MultipleLines</td>\n",
       "      <td>3.517035e-02</td>\n",
       "      <td>False</td>\n",
       "    </tr>\n",
       "    <tr>\n",
       "      <th>6</th>\n",
       "      <td>InternetService</td>\n",
       "      <td>1.218140e-118</td>\n",
       "      <td>False</td>\n",
       "    </tr>\n",
       "    <tr>\n",
       "      <th>7</th>\n",
       "      <td>OnlineSecurity</td>\n",
       "      <td>8.839157e-136</td>\n",
       "      <td>False</td>\n",
       "    </tr>\n",
       "    <tr>\n",
       "      <th>8</th>\n",
       "      <td>OnlineBackup</td>\n",
       "      <td>1.228702e-102</td>\n",
       "      <td>False</td>\n",
       "    </tr>\n",
       "    <tr>\n",
       "      <th>9</th>\n",
       "      <td>DeviceProtection</td>\n",
       "      <td>1.380227e-93</td>\n",
       "      <td>False</td>\n",
       "    </tr>\n",
       "    <tr>\n",
       "      <th>10</th>\n",
       "      <td>TechSupport</td>\n",
       "      <td>1.941962e-140</td>\n",
       "      <td>False</td>\n",
       "    </tr>\n",
       "    <tr>\n",
       "      <th>11</th>\n",
       "      <td>StreamingTV</td>\n",
       "      <td>1.601086e-61</td>\n",
       "      <td>False</td>\n",
       "    </tr>\n",
       "    <tr>\n",
       "      <th>12</th>\n",
       "      <td>StreamingMovies</td>\n",
       "      <td>5.469131e-62</td>\n",
       "      <td>False</td>\n",
       "    </tr>\n",
       "    <tr>\n",
       "      <th>13</th>\n",
       "      <td>Contract</td>\n",
       "      <td>8.711321e-195</td>\n",
       "      <td>False</td>\n",
       "    </tr>\n",
       "    <tr>\n",
       "      <th>14</th>\n",
       "      <td>PaperlessBilling</td>\n",
       "      <td>7.200438e-46</td>\n",
       "      <td>False</td>\n",
       "    </tr>\n",
       "    <tr>\n",
       "      <th>15</th>\n",
       "      <td>PaymentMethod</td>\n",
       "      <td>1.290292e-109</td>\n",
       "      <td>False</td>\n",
       "    </tr>\n",
       "  </tbody>\n",
       "</table>\n",
       "</div>"
      ],
      "text/plain": [
       "               Kolom        p-value   drop\n",
       "0             gender   3.320848e-01   True\n",
       "1      SeniorCitizen   1.437889e-29  False\n",
       "2            Partner   4.600274e-29  False\n",
       "3         Dependents   3.416345e-33  False\n",
       "4       PhoneService   2.249733e-01   True\n",
       "5      MultipleLines   3.517035e-02  False\n",
       "6    InternetService  1.218140e-118  False\n",
       "7     OnlineSecurity  8.839157e-136  False\n",
       "8       OnlineBackup  1.228702e-102  False\n",
       "9   DeviceProtection   1.380227e-93  False\n",
       "10       TechSupport  1.941962e-140  False\n",
       "11       StreamingTV   1.601086e-61  False\n",
       "12   StreamingMovies   5.469131e-62  False\n",
       "13          Contract  8.711321e-195  False\n",
       "14  PaperlessBilling   7.200438e-46  False\n",
       "15     PaymentMethod  1.290292e-109  False"
      ]
     },
     "execution_count": 299,
     "metadata": {},
     "output_type": "execute_result"
    }
   ],
   "source": [
    "pval1 = []\n",
    "for i in cat_col:\n",
    "    xtab = pd.crosstab(y_train, X_train[i])\n",
    "    chi2, p, dof, ex = stats.chi2_contingency(xtab)\n",
    "    pval1.append(p)\n",
    "a = pd.DataFrame({'Kolom':cat_col, 'p-value':pval1})\n",
    "a['drop'] = a['p-value']>0.05\n",
    "a"
   ]
  },
  {
   "cell_type": "markdown",
   "metadata": {},
   "source": [
    "Kolom gender dan PhoneService memiliki pvalue > 0.05."
   ]
  },
  {
   "cell_type": "markdown",
   "metadata": {},
   "source": [
    "#### Kolom numerik\n",
    "\n",
    "Pada kolom numerik, dilakukan two sample two tailed t-test untuk menentukan apakah ada perbedaan rata-rata yang signifikan antara value pada target Churn='Yes' dan target Churn='No' untuk tiap-tiap kolom numerik. Apabila nilai p-value dari two sample two tailed t-test lebih besar dari 0.05 maka kolom tersebut tidak berhubungan dengan target sehingga dapat di-drop."
   ]
  },
  {
   "cell_type": "code",
   "execution_count": 300,
   "metadata": {},
   "outputs": [
    {
     "data": {
      "text/html": [
       "<div>\n",
       "<style scoped>\n",
       "    .dataframe tbody tr th:only-of-type {\n",
       "        vertical-align: middle;\n",
       "    }\n",
       "\n",
       "    .dataframe tbody tr th {\n",
       "        vertical-align: top;\n",
       "    }\n",
       "\n",
       "    .dataframe thead th {\n",
       "        text-align: right;\n",
       "    }\n",
       "</style>\n",
       "<table border=\"1\" class=\"dataframe\">\n",
       "  <thead>\n",
       "    <tr style=\"text-align: right;\">\n",
       "      <th></th>\n",
       "      <th>Kolom</th>\n",
       "      <th>p-value</th>\n",
       "      <th>drop</th>\n",
       "    </tr>\n",
       "  </thead>\n",
       "  <tbody>\n",
       "    <tr>\n",
       "      <th>0</th>\n",
       "      <td>tenure</td>\n",
       "      <td>5.040061e-156</td>\n",
       "      <td>False</td>\n",
       "    </tr>\n",
       "    <tr>\n",
       "      <th>1</th>\n",
       "      <td>MonthlyCharges</td>\n",
       "      <td>2.365611e-44</td>\n",
       "      <td>False</td>\n",
       "    </tr>\n",
       "    <tr>\n",
       "      <th>2</th>\n",
       "      <td>TotalCharges</td>\n",
       "      <td>7.686341e-51</td>\n",
       "      <td>False</td>\n",
       "    </tr>\n",
       "  </tbody>\n",
       "</table>\n",
       "</div>"
      ],
      "text/plain": [
       "            Kolom        p-value   drop\n",
       "0          tenure  5.040061e-156  False\n",
       "1  MonthlyCharges   2.365611e-44  False\n",
       "2    TotalCharges   7.686341e-51  False"
      ]
     },
     "execution_count": 300,
     "metadata": {},
     "output_type": "execute_result"
    }
   ],
   "source": [
    "pval2 = []\n",
    "for i in num_col:\n",
    "    a = X_train[y_train=='Yes'][i]\n",
    "    b = X_train[y_train=='No'][i]\n",
    "    tstat, pval = stats.ttest_ind(a,b)\n",
    "    pval2.append(pval)\n",
    "b = pd.DataFrame({'Kolom':num_col, 'p-value':pval2})\n",
    "b['drop'] = b['p-value']>0.05\n",
    "b"
   ]
  },
  {
   "cell_type": "markdown",
   "metadata": {},
   "source": [
    "Tidak terdapat kolom numerik dengan pvalue > 0.05, selanjutnya akan dilakukan pengecekan korelasi antar feature :"
   ]
  },
  {
   "cell_type": "code",
   "execution_count": 301,
   "metadata": {},
   "outputs": [
    {
     "data": {
      "text/plain": [
       "<AxesSubplot:>"
      ]
     },
     "execution_count": 301,
     "metadata": {},
     "output_type": "execute_result"
    },
    {
     "data": {
      "image/png": "[encoded data removed]",
      "text/plain": [
       "<Figure size 1080x864 with 2 Axes>"
      ]
     },
     "metadata": {
      "needs_background": "light"
     },
     "output_type": "display_data"
    }
   ],
   "source": [
    "corr1 = X_train[num_col].corr()\n",
    "plt.figure(figsize=(15,12))\n",
    "sns.heatmap(corr1,cmap='Blues',annot=True)"
   ]
  },
  {
   "cell_type": "markdown",
   "metadata": {},
   "source": [
    "Dari heatmap terlihat bahwa:\n",
    "1. Kolom TotalCharges dan tenure memiliki korelasi 0.82.\n",
    "2. Kolom TotalCharges dan MonthlyCharges memiliki korelasi 0.65.\n",
    "3. Kolom MonthlyCharges dan tenure memiliki korelasi 0.26.\n",
    "\n",
    "Kolom TotalCharges memiliki korelasi lebih dari 0.5 terhadap dua kolom sehingga diputuskan kolom ini didrop.\n",
    "Kolom-kolom yang di-drop adalah:\n",
    "1. gender\n",
    "2. PhoneService\n",
    "3. TotalCharges\n",
    "\n",
    "Lakukan drop terhadap ketiga kolom tersebut terhadap X_train, X_val dan X_test :"
   ]
  },
  {
   "cell_type": "code",
   "execution_count": 302,
   "metadata": {},
   "outputs": [
    {
     "name": "stdout",
     "output_type": "stream",
     "text": [
      "(5383, 16)\n",
      "(599, 16)\n",
      "(1056, 16)\n"
     ]
    }
   ],
   "source": [
    "X_train.drop(['gender', 'PhoneService', 'TotalCharges'], axis=1, inplace=True)\n",
    "X_val.drop(['gender', 'PhoneService', 'TotalCharges'], axis=1, inplace=True)\n",
    "X_test.drop(['gender', 'PhoneService', 'TotalCharges'], axis=1, inplace=True)\n",
    "\n",
    "print(X_train.shape)\n",
    "print(X_val.shape)\n",
    "print(X_test.shape)"
   ]
  },
  {
   "cell_type": "markdown",
   "metadata": {},
   "source": [
    "Dimensi X_train, X_val, X_test setelah ketiga kolom di-drop sudah sesuai."
   ]
  },
  {
   "cell_type": "markdown",
   "metadata": {},
   "source": [
    "### g. Pisahkan kolom numerik dan kategorik\n"
   ]
  },
  {
   "cell_type": "code",
   "execution_count": 303,
   "metadata": {},
   "outputs": [],
   "source": [
    "num_col_fix = ['tenure', 'MonthlyCharges']\n",
    "ohe_col_fix = ['MultipleLines', 'InternetService', 'OnlineSecurity', 'OnlineBackup', 'DeviceProtection',\n",
    "               'TechSupport', 'StreamingTV', 'StreamingMovies', 'Contract', 'PaymentMethod']\n",
    "le_col_fix = ['SeniorCitizen', 'Partner', 'Dependents', 'PaperlessBilling']"
   ]
  },
  {
   "cell_type": "code",
   "execution_count": 307,
   "metadata": {},
   "outputs": [],
   "source": [
    "X_train_num = X_train[num_col_fix]\n",
    "X_val_num = X_val[num_col_fix]\n",
    "X_test_num = X_test[num_col_fix]\n",
    "\n",
    "X_train_ohe = X_train[ohe_col_fix]\n",
    "X_val_ohe = X_val[ohe_col_fix]\n",
    "X_test_ohe = X_test[ohe_col_fix]\n",
    "\n",
    "X_train_le = X_train[le_col_fix]\n",
    "X_val_le = X_val[le_col_fix]\n",
    "X_test_le = X_test[le_col_fix]"
   ]
  },
  {
   "cell_type": "markdown",
   "metadata": {},
   "source": [
    "### h. Feature Scaling\n",
    "Akan dilakukan scaling terhadap kolom numerik menggunakan StandardScaler sebagai berikut:"
   ]
  },
  {
   "cell_type": "code",
   "execution_count": 308,
   "metadata": {},
   "outputs": [],
   "source": [
    "#Definisikan scaler\n",
    "scaler = StandardScaler()\n",
    "\n",
    "#scaling data train, val dan test\n",
    "X_train_num_scaled = scaler.fit_transform(X_train_num)\n",
    "X_val_num_scaled = scaler.transform(X_val_num)\n",
    "X_test_num_scaled = scaler.transform(X_test_num)"
   ]
  },
  {
   "cell_type": "markdown",
   "metadata": {},
   "source": [
    "Cek dimensi hasil scaling :"
   ]
  },
  {
   "cell_type": "code",
   "execution_count": 309,
   "metadata": {},
   "outputs": [
    {
     "name": "stdout",
     "output_type": "stream",
     "text": [
      "(5383, 2)\n",
      "(599, 2)\n",
      "(1056, 2)\n"
     ]
    }
   ],
   "source": [
    "print(X_train_num_scaled.shape)\n",
    "print(X_val_num_scaled.shape)\n",
    "print(X_test_num_scaled.shape)"
   ]
  },
  {
   "cell_type": "markdown",
   "metadata": {},
   "source": [
    "Dimensi hasil scaling untuk kolom numerik sudah sesuai."
   ]
  },
  {
   "cell_type": "markdown",
   "metadata": {},
   "source": [
    "### i. Label Encoding\n",
    "Lakukan encoding terhadap target (y_train, y_val dan y_test), dimana Yes = 1 dan No = 0 :"
   ]
  },
  {
   "cell_type": "code",
   "execution_count": 310,
   "metadata": {},
   "outputs": [],
   "source": [
    "y_train = y_train.map({'Yes':1, 'No':0})\n",
    "y_val = y_val.map({'Yes':1, 'No':0})\n",
    "y_test = y_test.map({'Yes':1, 'No':0})"
   ]
  },
  {
   "cell_type": "markdown",
   "metadata": {},
   "source": [
    "Pada kolom SeniorCitizen, nilai 1 berarti pelanggan yang sudah tua, 0 berarti pelanggan yang masih muda. Karena semua kolom kategorik akan di OneHotEncoding, maka nilai 1 pada kolom tersebut diganti dengan Yes dan 0 diganti dengan No."
   ]
  },
  {
   "cell_type": "code",
   "execution_count": 311,
   "metadata": {},
   "outputs": [],
   "source": [
    "X_train_le['SeniorCitizen'] = X_train_le.SeniorCitizen.apply(lambda x: 'Yes' if x==1 else 'No')\n",
    "X_val_le['SeniorCitizen'] = X_val_le.SeniorCitizen.apply(lambda x: 'Yes' if x==1 else 'No')\n",
    "X_test_le['SeniorCitizen'] = X_test_le.SeniorCitizen.apply(lambda x: 'Yes' if x==1 else 'No')"
   ]
  },
  {
   "cell_type": "markdown",
   "metadata": {},
   "source": [
    "Lakukan OneHotEncoding"
   ]
  },
  {
   "cell_type": "code",
   "execution_count": 312,
   "metadata": {},
   "outputs": [],
   "source": [
    "encoder = OneHotEncoder(sparse=False)\n",
    "X_train_ohe_enc = encoder.fit_transform(X_train_ohe)\n",
    "X_val_ohe_enc = encoder.transform(X_val_ohe)\n",
    "X_test_ohe_enc = encoder.transform(X_test_ohe)"
   ]
  },
  {
   "cell_type": "markdown",
   "metadata": {},
   "source": [
    "Cek dimensi hasil encoding:"
   ]
  },
  {
   "cell_type": "code",
   "execution_count": 314,
   "metadata": {},
   "outputs": [
    {
     "name": "stdout",
     "output_type": "stream",
     "text": [
      "(5383, 31)\n",
      "(599, 31)\n",
      "(1056, 31)\n"
     ]
    }
   ],
   "source": [
    "print(X_train_ohe_enc.shape)\n",
    "print(X_val_ohe_enc.shape)\n",
    "print(X_test_ohe_enc.shape)"
   ]
  },
  {
   "cell_type": "markdown",
   "metadata": {},
   "source": [
    "Dimensi setelah one hot encoding telah sesuai. Lakukan OrdinalEncoder untuk kolom yang lain:"
   ]
  },
  {
   "cell_type": "code",
   "execution_count": 317,
   "metadata": {},
   "outputs": [],
   "source": [
    "ordencoder = OrdinalEncoder()\n",
    "ordencoder.fit(X_train_le)\n",
    "X_train_le_enc = ordencoder.transform(X_train_le)\n",
    "X_val_le_enc = ordencoder.transform(X_val_le)\n",
    "X_test_le_enc = ordencoder.transform(X_test_le)"
   ]
  },
  {
   "cell_type": "markdown",
   "metadata": {},
   "source": [
    "Cek dimensi hasil label encoder:"
   ]
  },
  {
   "cell_type": "code",
   "execution_count": 320,
   "metadata": {},
   "outputs": [
    {
     "name": "stdout",
     "output_type": "stream",
     "text": [
      "(5383, 4)\n",
      "(599, 4)\n",
      "(1056, 4)\n"
     ]
    }
   ],
   "source": [
    "print(X_train_le_enc.shape)\n",
    "print(X_val_le_enc.shape)\n",
    "print(X_test_le_enc.shape)"
   ]
  },
  {
   "cell_type": "markdown",
   "metadata": {},
   "source": [
    "Dimensi hasil label encoder telah sesuai."
   ]
  },
  {
   "cell_type": "markdown",
   "metadata": {},
   "source": [
    "### j. Pipeline Preprocessing\n",
    "Akan dibuat pipeline sesuai dari langkah pada data preprocessing."
   ]
  },
  {
   "cell_type": "code",
   "execution_count": 321,
   "metadata": {},
   "outputs": [],
   "source": [
    "prep_pipeline = ColumnTransformer([\n",
    "    ('num', StandardScaler(), num_col_fix),\n",
    "    ('le', OrdinalEncoder(), le_col_fix),\n",
    "    ('cat', OneHotEncoder(sparse=False), ohe_col_fix)\n",
    "])"
   ]
  },
  {
   "cell_type": "markdown",
   "metadata": {},
   "source": [
    "Pipeline akan diujicoba pada data train, val dan test sehingga perlu penyesuaian terlebih dahulu yaitu inputasi Yes/No untuk kolom SeniorCitizen."
   ]
  },
  {
   "cell_type": "code",
   "execution_count": 322,
   "metadata": {},
   "outputs": [],
   "source": [
    "X_train['SeniorCitizen'] = X_train.SeniorCitizen.apply(lambda x: 'Yes' if x==1 else 'No')\n",
    "X_val['SeniorCitizen'] = X_val.SeniorCitizen.apply(lambda x: 'Yes' if x==1 else 'No')\n",
    "X_test['SeniorCitizen'] = X_test.SeniorCitizen.apply(lambda x: 'Yes' if x==1 else 'No')"
   ]
  },
  {
   "cell_type": "markdown",
   "metadata": {},
   "source": [
    "Lakukan training pipeline preprocessing terhadap X_train, gunakan untuk mentransform X_train, X_val dan X_test."
   ]
  },
  {
   "cell_type": "code",
   "execution_count": 323,
   "metadata": {},
   "outputs": [],
   "source": [
    "prep_pipeline.fit(X_train)\n",
    "X_train_final = prep_pipeline.transform(X_train)\n",
    "X_val_final = prep_pipeline.transform(X_val)\n",
    "X_test_final = prep_pipeline.transform(X_test)"
   ]
  },
  {
   "cell_type": "markdown",
   "metadata": {},
   "source": [
    "Cek dimensi output dari pipeline :"
   ]
  },
  {
   "cell_type": "code",
   "execution_count": 331,
   "metadata": {},
   "outputs": [
    {
     "name": "stdout",
     "output_type": "stream",
     "text": [
      "(5383, 37)\n",
      "(599, 37)\n",
      "(1056, 37)\n",
      "(5383,)\n",
      "(599,)\n",
      "(1056,)\n"
     ]
    }
   ],
   "source": [
    "print(X_train_final.shape)\n",
    "print(X_val_final.shape)\n",
    "print(X_test_final.shape)\n",
    "print(y_train.shape)\n",
    "print(y_val.shape)\n",
    "print(y_test.shape)"
   ]
  },
  {
   "cell_type": "markdown",
   "metadata": {},
   "source": [
    "Dimensi data train, val dan test telah sesuai semuanya."
   ]
  },
  {
   "cell_type": "markdown",
   "metadata": {},
   "source": [
    "### k. SMOTE\n",
    "Jumlah kelas target pada dataset tidak seimbang dimana data kelas 1 (Churn=Yes) lebih sedikit daripada data kelas 0 (Churn=No), sehingga akan dilakukan oversample untuk data kelas 1 menggunakan SMOTENC, dikarenakan terdapat kolom kategorikal pada dataset."
   ]
  },
  {
   "cell_type": "code",
   "execution_count": 327,
   "metadata": {},
   "outputs": [
    {
     "data": {
      "text/plain": [
       "1    3953\n",
       "0    3953\n",
       "Name: Churn, dtype: int64"
      ]
     },
     "execution_count": 327,
     "metadata": {},
     "output_type": "execute_result"
    }
   ],
   "source": [
    "smotenc = SMOTENC([i for i in range(2,37)], random_state = 42)\n",
    "X_train_balanced, y_train_balanced = smotenc.fit_resample(X_train_final, y_train)\n",
    "y_train_balanced.value_counts()"
   ]
  },
  {
   "cell_type": "markdown",
   "metadata": {},
   "source": [
    "### l. Tensorflow Dataset\n",
    "Dataset akan diubah ke bentuk Tensorflow Dataset sebelum masuk ke dalam model Neural Network"
   ]
  },
  {
   "cell_type": "code",
   "execution_count": 332,
   "metadata": {},
   "outputs": [],
   "source": [
    "train_dataset = tf.data.Dataset.from_tensor_slices((X_train_balanced, y_train_balanced)).batch(32)\n",
    "val_dataset = tf.data.Dataset.from_tensor_slices((X_val_final, y_val)).batch(32)\n",
    "test_dataset = tf.data.Dataset.from_tensor_slices((X_test_final, y_test)).batch(32)"
   ]
  },
  {
   "cell_type": "markdown",
   "metadata": {},
   "source": [
    "## 6. Model Definition\n",
    "Akan dibuat 2 buah model Neural Network dengan arsitektur yang sama, menggunakan Sequential API dan Functional API."
   ]
  },
  {
   "cell_type": "markdown",
   "metadata": {},
   "source": [
    "### a. Sequential API"
   ]
  },
  {
   "cell_type": "code",
   "execution_count": 333,
   "metadata": {},
   "outputs": [],
   "source": [
    "model = Sequential()\n",
    "model.add(Dense(20, activation='relu', input_shape=(X_train_final.shape[1],))) # hidden layer 1\n",
    "model.add(Dropout(0.25))\n",
    "model.add(Dense(10, activation='relu')) # hidden layer 2\n",
    "model.add(Dropout(0.25))\n",
    "model.add(Dense(5, activation='relu')) # hidden layer 3\n",
    "model.add(Dropout(0.25))\n",
    "model.add(Dense(2, activation='relu')) # hidden layer 4\n",
    "model.add(Dropout(0.25))\n",
    "model.add(Dense(1, activation='sigmoid')) # output layer\n",
    "\n",
    "model.compile(loss='binary_crossentropy',\n",
    "              optimizer='adam', \n",
    "              metrics=['Recall'])\n"
   ]
  },
  {
   "cell_type": "markdown",
   "metadata": {},
   "source": [
    "### b. Functional API"
   ]
  },
  {
   "cell_type": "code",
   "execution_count": 334,
   "metadata": {},
   "outputs": [],
   "source": [
    "data_in = Input(shape=(X_train_final.shape[1],))\n",
    "hidden_1 = Dense(20, activation='relu')(data_in)\n",
    "drop1 = Dropout(0.25)(hidden_1)\n",
    "hidden_2 = Dense(10, activation='relu')(drop1)\n",
    "drop2 = Dropout(0.25)(hidden_2)\n",
    "hidden_3 = Dense(5, activation='relu')(drop2)\n",
    "drop3 = Dropout(0.25)(hidden_3)\n",
    "hidden_4 = Dense(2, activation='relu')(drop3)\n",
    "drop4 = Dropout(0.25)(hidden_4)\n",
    "out = Dense(1, activation='sigmoid')(drop4)\n",
    "model2 = Model(inputs=data_in, outputs=out)\n",
    "\n",
    "model2.compile(loss='binary_crossentropy',\n",
    "              optimizer='adam',\n",
    "              metrics=['Recall'])\n"
   ]
  },
  {
   "cell_type": "markdown",
   "metadata": {},
   "source": [
    "## 7. Model Training\n",
    "Akan dilakukan training model yang sudah dibuat dengan data train yang tersimpan dalam bentuk Tensorflow Dataset. Data train tersebut akan dibandingkan dengan data validation."
   ]
  },
  {
   "cell_type": "markdown",
   "metadata": {},
   "source": [
    "### a. Sequential API"
   ]
  },
  {
   "cell_type": "code",
   "execution_count": 352,
   "metadata": {},
   "outputs": [
    {
     "name": "stdout",
     "output_type": "stream",
     "text": [
      "Epoch 1/100\n",
      "248/248 [==============================] - 1s 3ms/step - loss: 0.4895 - recall: 0.9137 - val_loss: 0.6191 - val_recall: 0.9497\n",
      "Epoch 2/100\n",
      "248/248 [==============================] - 1s 3ms/step - loss: 0.4823 - recall: 0.9094 - val_loss: 0.6173 - val_recall: 0.9560\n",
      "Epoch 3/100\n",
      "248/248 [==============================] - 1s 3ms/step - loss: 0.4846 - recall: 0.9112 - val_loss: 0.6236 - val_recall: 0.9686\n",
      "Epoch 4/100\n",
      "248/248 [==============================] - 1s 3ms/step - loss: 0.4875 - recall: 0.9155 - val_loss: 0.6201 - val_recall: 0.9623\n",
      "Epoch 5/100\n",
      "248/248 [==============================] - 1s 3ms/step - loss: 0.4894 - recall: 0.9135 - val_loss: 0.6106 - val_recall: 0.9560\n",
      "Epoch 6/100\n",
      "248/248 [==============================] - 1s 3ms/step - loss: 0.4909 - recall: 0.9099 - val_loss: 0.6146 - val_recall: 0.9560\n",
      "Epoch 7/100\n",
      "248/248 [==============================] - 1s 3ms/step - loss: 0.4901 - recall: 0.9155 - val_loss: 0.6186 - val_recall: 0.9623\n",
      "Epoch 8/100\n",
      "248/248 [==============================] - 1s 3ms/step - loss: 0.4804 - recall: 0.9104 - val_loss: 0.5992 - val_recall: 0.9497\n",
      "Epoch 9/100\n",
      "248/248 [==============================] - 1s 2ms/step - loss: 0.4764 - recall: 0.9127 - val_loss: 0.6211 - val_recall: 0.9560\n",
      "Epoch 10/100\n",
      "248/248 [==============================] - 1s 2ms/step - loss: 0.4856 - recall: 0.9061 - val_loss: 0.6116 - val_recall: 0.9560\n",
      "Epoch 11/100\n",
      "248/248 [==============================] - 1s 2ms/step - loss: 0.4867 - recall: 0.9155 - val_loss: 0.6176 - val_recall: 0.9560\n",
      "Epoch 12/100\n",
      "248/248 [==============================] - 1s 3ms/step - loss: 0.4788 - recall: 0.9165 - val_loss: 0.6106 - val_recall: 0.9560\n",
      "Epoch 13/100\n",
      "248/248 [==============================] - 1s 3ms/step - loss: 0.4827 - recall: 0.9112 - val_loss: 0.6058 - val_recall: 0.9560\n",
      "Epoch 14/100\n",
      "248/248 [==============================] - 1s 3ms/step - loss: 0.4931 - recall: 0.9135 - val_loss: 0.6112 - val_recall: 0.9623\n",
      "Epoch 15/100\n",
      "248/248 [==============================] - 1s 3ms/step - loss: 0.4906 - recall: 0.9213 - val_loss: 0.5926 - val_recall: 0.9560\n",
      "Epoch 16/100\n",
      "248/248 [==============================] - 1s 3ms/step - loss: 0.4838 - recall: 0.9142 - val_loss: 0.6060 - val_recall: 0.9497\n",
      "Epoch 17/100\n",
      "248/248 [==============================] - 1s 3ms/step - loss: 0.4862 - recall: 0.9163 - val_loss: 0.6031 - val_recall: 0.9560\n",
      "Epoch 18/100\n",
      "248/248 [==============================] - 1s 3ms/step - loss: 0.4861 - recall: 0.9115 - val_loss: 0.6053 - val_recall: 0.9497\n",
      "Epoch 19/100\n",
      "248/248 [==============================] - 1s 3ms/step - loss: 0.4731 - recall: 0.9165 - val_loss: 0.6124 - val_recall: 0.9497\n",
      "Epoch 20/100\n",
      "248/248 [==============================] - 1s 3ms/step - loss: 0.4793 - recall: 0.9145 - val_loss: 0.6000 - val_recall: 0.9497\n",
      "Epoch 21/100\n",
      "248/248 [==============================] - 1s 3ms/step - loss: 0.4793 - recall: 0.9153 - val_loss: 0.6036 - val_recall: 0.9497\n",
      "Epoch 22/100\n",
      "248/248 [==============================] - 1s 3ms/step - loss: 0.4897 - recall: 0.9188 - val_loss: 0.5994 - val_recall: 0.9497\n",
      "Epoch 23/100\n",
      "248/248 [==============================] - 1s 3ms/step - loss: 0.4904 - recall: 0.9132 - val_loss: 0.6037 - val_recall: 0.9560\n",
      "Epoch 24/100\n",
      "248/248 [==============================] - 1s 4ms/step - loss: 0.4816 - recall: 0.9193 - val_loss: 0.6064 - val_recall: 0.9560\n",
      "Epoch 25/100\n",
      "248/248 [==============================] - 1s 2ms/step - loss: 0.4823 - recall: 0.9137 - val_loss: 0.6190 - val_recall: 0.9623\n",
      "Epoch 26/100\n",
      "248/248 [==============================] - 1s 3ms/step - loss: 0.4798 - recall: 0.9135 - val_loss: 0.6059 - val_recall: 0.9560\n",
      "Epoch 27/100\n",
      "248/248 [==============================] - 1s 3ms/step - loss: 0.4874 - recall: 0.9107 - val_loss: 0.6057 - val_recall: 0.9560\n",
      "Epoch 28/100\n",
      "248/248 [==============================] - 1s 3ms/step - loss: 0.4866 - recall: 0.9127 - val_loss: 0.5836 - val_recall: 0.9434\n",
      "Epoch 29/100\n",
      "248/248 [==============================] - 1s 3ms/step - loss: 0.4801 - recall: 0.9168 - val_loss: 0.5935 - val_recall: 0.9497\n",
      "Epoch 30/100\n",
      "248/248 [==============================] - 1s 3ms/step - loss: 0.4808 - recall: 0.9145 - val_loss: 0.6005 - val_recall: 0.9497\n",
      "Epoch 31/100\n",
      "248/248 [==============================] - 1s 3ms/step - loss: 0.4861 - recall: 0.9163 - val_loss: 0.6067 - val_recall: 0.9497\n",
      "Epoch 32/100\n",
      "248/248 [==============================] - 1s 3ms/step - loss: 0.4803 - recall: 0.9137 - val_loss: 0.6018 - val_recall: 0.9497\n",
      "Epoch 33/100\n",
      "248/248 [==============================] - 1s 3ms/step - loss: 0.4857 - recall: 0.9135 - val_loss: 0.5936 - val_recall: 0.9434\n",
      "Epoch 34/100\n",
      "248/248 [==============================] - 1s 3ms/step - loss: 0.4816 - recall: 0.9142 - val_loss: 0.5948 - val_recall: 0.9497\n",
      "Epoch 35/100\n",
      "248/248 [==============================] - 1s 3ms/step - loss: 0.4920 - recall: 0.9150 - val_loss: 0.5924 - val_recall: 0.9497\n",
      "Epoch 36/100\n",
      "248/248 [==============================] - 1s 2ms/step - loss: 0.4749 - recall: 0.9150 - val_loss: 0.5918 - val_recall: 0.9560\n",
      "Epoch 37/100\n",
      "248/248 [==============================] - 1s 3ms/step - loss: 0.4814 - recall: 0.9142 - val_loss: 0.6001 - val_recall: 0.9560\n",
      "Epoch 38/100\n",
      "248/248 [==============================] - 1s 3ms/step - loss: 0.4771 - recall: 0.9145 - val_loss: 0.5998 - val_recall: 0.9560\n",
      "Epoch 39/100\n",
      "248/248 [==============================] - 1s 3ms/step - loss: 0.4880 - recall: 0.9183 - val_loss: 0.5929 - val_recall: 0.9560\n",
      "Epoch 40/100\n",
      "248/248 [==============================] - 1s 3ms/step - loss: 0.4908 - recall: 0.9188 - val_loss: 0.5996 - val_recall: 0.9560\n",
      "Epoch 41/100\n",
      "248/248 [==============================] - 1s 3ms/step - loss: 0.4801 - recall: 0.9135 - val_loss: 0.5996 - val_recall: 0.9560\n",
      "Epoch 42/100\n",
      "248/248 [==============================] - 1s 3ms/step - loss: 0.4855 - recall: 0.9190 - val_loss: 0.5919 - val_recall: 0.9497\n",
      "Epoch 43/100\n",
      "248/248 [==============================] - 1s 3ms/step - loss: 0.4782 - recall: 0.9173 - val_loss: 0.5925 - val_recall: 0.9560\n",
      "Epoch 44/100\n",
      "248/248 [==============================] - 1s 2ms/step - loss: 0.4856 - recall: 0.9178 - val_loss: 0.5953 - val_recall: 0.9560\n",
      "Epoch 45/100\n",
      "248/248 [==============================] - 1s 2ms/step - loss: 0.4795 - recall: 0.9137 - val_loss: 0.5861 - val_recall: 0.9497\n",
      "Epoch 46/100\n",
      "248/248 [==============================] - 1s 3ms/step - loss: 0.4798 - recall: 0.9185 - val_loss: 0.5903 - val_recall: 0.9497\n",
      "Epoch 47/100\n",
      "248/248 [==============================] - 1s 3ms/step - loss: 0.4880 - recall: 0.9135 - val_loss: 0.5832 - val_recall: 0.9560\n",
      "Epoch 48/100\n",
      "248/248 [==============================] - 1s 3ms/step - loss: 0.4817 - recall: 0.9160 - val_loss: 0.5862 - val_recall: 0.9497\n",
      "Epoch 49/100\n",
      "248/248 [==============================] - 1s 4ms/step - loss: 0.4830 - recall: 0.9170 - val_loss: 0.5960 - val_recall: 0.9560\n",
      "Epoch 50/100\n",
      "248/248 [==============================] - 1s 3ms/step - loss: 0.4857 - recall: 0.9206 - val_loss: 0.5839 - val_recall: 0.9371\n",
      "Epoch 51/100\n",
      "248/248 [==============================] - 1s 3ms/step - loss: 0.4780 - recall: 0.9165 - val_loss: 0.5882 - val_recall: 0.9434\n",
      "Epoch 52/100\n",
      "248/248 [==============================] - 1s 3ms/step - loss: 0.4793 - recall: 0.9127 - val_loss: 0.5899 - val_recall: 0.9371\n",
      "Epoch 53/100\n",
      "248/248 [==============================] - 1s 3ms/step - loss: 0.4823 - recall: 0.9183 - val_loss: 0.5877 - val_recall: 0.9434\n",
      "Epoch 54/100\n",
      "248/248 [==============================] - 1s 3ms/step - loss: 0.4765 - recall: 0.9145 - val_loss: 0.5905 - val_recall: 0.9371\n",
      "Epoch 55/100\n",
      "248/248 [==============================] - 1s 3ms/step - loss: 0.4793 - recall: 0.9142 - val_loss: 0.5860 - val_recall: 0.9434\n",
      "Epoch 56/100\n",
      "248/248 [==============================] - 1s 3ms/step - loss: 0.4784 - recall: 0.9246 - val_loss: 0.5796 - val_recall: 0.9434\n",
      "Epoch 57/100\n",
      "248/248 [==============================] - 1s 3ms/step - loss: 0.4741 - recall: 0.9173 - val_loss: 0.5830 - val_recall: 0.9308\n",
      "Epoch 58/100\n",
      "248/248 [==============================] - 1s 3ms/step - loss: 0.4886 - recall: 0.9188 - val_loss: 0.5897 - val_recall: 0.9434\n",
      "Epoch 59/100\n",
      "248/248 [==============================] - 1s 2ms/step - loss: 0.4795 - recall: 0.9130 - val_loss: 0.5833 - val_recall: 0.9245\n",
      "Epoch 60/100\n",
      "248/248 [==============================] - 1s 3ms/step - loss: 0.4721 - recall: 0.9168 - val_loss: 0.5671 - val_recall: 0.9245\n",
      "Epoch 61/100\n",
      "248/248 [==============================] - 1s 2ms/step - loss: 0.4717 - recall: 0.9142 - val_loss: 0.5825 - val_recall: 0.9308\n",
      "Epoch 62/100\n",
      "248/248 [==============================] - 1s 3ms/step - loss: 0.4785 - recall: 0.9180 - val_loss: 0.5746 - val_recall: 0.9245\n",
      "Epoch 63/100\n",
      "248/248 [==============================] - 1s 3ms/step - loss: 0.4849 - recall: 0.9206 - val_loss: 0.5912 - val_recall: 0.9371\n",
      "Epoch 64/100\n",
      "248/248 [==============================] - 1s 3ms/step - loss: 0.4815 - recall: 0.9190 - val_loss: 0.5986 - val_recall: 0.9434\n",
      "Epoch 65/100\n",
      "248/248 [==============================] - 1s 3ms/step - loss: 0.4786 - recall: 0.9188 - val_loss: 0.5880 - val_recall: 0.9434\n",
      "Epoch 66/100\n",
      "248/248 [==============================] - 1s 2ms/step - loss: 0.4800 - recall: 0.9203 - val_loss: 0.5884 - val_recall: 0.9434\n",
      "Epoch 67/100\n",
      "248/248 [==============================] - 1s 3ms/step - loss: 0.4789 - recall: 0.9198 - val_loss: 0.5843 - val_recall: 0.9371\n",
      "Epoch 68/100\n",
      "248/248 [==============================] - 1s 2ms/step - loss: 0.4766 - recall: 0.9170 - val_loss: 0.5877 - val_recall: 0.9371\n",
      "Epoch 69/100\n",
      "248/248 [==============================] - 1s 2ms/step - loss: 0.4794 - recall: 0.9213 - val_loss: 0.5815 - val_recall: 0.9245\n",
      "Epoch 70/100\n",
      "248/248 [==============================] - 1s 2ms/step - loss: 0.4870 - recall: 0.9188 - val_loss: 0.5901 - val_recall: 0.9308\n",
      "Epoch 71/100\n",
      "248/248 [==============================] - 1s 3ms/step - loss: 0.4719 - recall: 0.9175 - val_loss: 0.5752 - val_recall: 0.9245\n",
      "Epoch 72/100\n",
      "248/248 [==============================] - 1s 3ms/step - loss: 0.4835 - recall: 0.9178 - val_loss: 0.5728 - val_recall: 0.9182\n",
      "Epoch 73/100\n",
      "248/248 [==============================] - 1s 3ms/step - loss: 0.4779 - recall: 0.9175 - val_loss: 0.5797 - val_recall: 0.9371\n",
      "Epoch 74/100\n",
      "248/248 [==============================] - 1s 2ms/step - loss: 0.4876 - recall: 0.9185 - val_loss: 0.5789 - val_recall: 0.9434\n",
      "Epoch 75/100\n",
      "248/248 [==============================] - 1s 2ms/step - loss: 0.4763 - recall: 0.9249 - val_loss: 0.5779 - val_recall: 0.9371\n",
      "Epoch 76/100\n",
      "248/248 [==============================] - 1s 3ms/step - loss: 0.4799 - recall: 0.9183 - val_loss: 0.5965 - val_recall: 0.9497\n",
      "Epoch 77/100\n",
      "248/248 [==============================] - 1s 3ms/step - loss: 0.4745 - recall: 0.9145 - val_loss: 0.5788 - val_recall: 0.9371\n",
      "Epoch 78/100\n",
      "248/248 [==============================] - 1s 3ms/step - loss: 0.4819 - recall: 0.9163 - val_loss: 0.5827 - val_recall: 0.9371\n",
      "Epoch 79/100\n",
      "248/248 [==============================] - 1s 2ms/step - loss: 0.4825 - recall: 0.9158 - val_loss: 0.5902 - val_recall: 0.9371\n",
      "Epoch 80/100\n",
      "248/248 [==============================] - 1s 3ms/step - loss: 0.4812 - recall: 0.9196 - val_loss: 0.5830 - val_recall: 0.9245\n",
      "Epoch 81/100\n",
      "248/248 [==============================] - 1s 3ms/step - loss: 0.4783 - recall: 0.9228 - val_loss: 0.5785 - val_recall: 0.9308\n",
      "Epoch 82/100\n",
      "248/248 [==============================] - 1s 3ms/step - loss: 0.4783 - recall: 0.9153 - val_loss: 0.5808 - val_recall: 0.9245\n",
      "Epoch 83/100\n",
      "248/248 [==============================] - 1s 2ms/step - loss: 0.4762 - recall: 0.9208 - val_loss: 0.5816 - val_recall: 0.9308\n",
      "Epoch 84/100\n",
      "248/248 [==============================] - 1s 2ms/step - loss: 0.4764 - recall: 0.9226 - val_loss: 0.5852 - val_recall: 0.9308\n",
      "Epoch 85/100\n",
      "248/248 [==============================] - 1s 3ms/step - loss: 0.4796 - recall: 0.9132 - val_loss: 0.5920 - val_recall: 0.9371\n",
      "Epoch 86/100\n",
      "248/248 [==============================] - 1s 3ms/step - loss: 0.4803 - recall: 0.9206 - val_loss: 0.5848 - val_recall: 0.9308\n",
      "Epoch 87/100\n",
      "248/248 [==============================] - 1s 2ms/step - loss: 0.4692 - recall: 0.9168 - val_loss: 0.5758 - val_recall: 0.9308\n",
      "Epoch 88/100\n",
      "248/248 [==============================] - 1s 2ms/step - loss: 0.4760 - recall: 0.9193 - val_loss: 0.5897 - val_recall: 0.9434\n",
      "Epoch 89/100\n",
      "248/248 [==============================] - 1s 3ms/step - loss: 0.4714 - recall: 0.9168 - val_loss: 0.5788 - val_recall: 0.9245\n",
      "Epoch 90/100\n",
      "248/248 [==============================] - 1s 3ms/step - loss: 0.4800 - recall: 0.9216 - val_loss: 0.5868 - val_recall: 0.9245\n",
      "Epoch 91/100\n",
      "248/248 [==============================] - 1s 3ms/step - loss: 0.4741 - recall: 0.9206 - val_loss: 0.5693 - val_recall: 0.9182\n",
      "Epoch 92/100\n",
      "248/248 [==============================] - 1s 3ms/step - loss: 0.4723 - recall: 0.9241 - val_loss: 0.5852 - val_recall: 0.9182\n",
      "Epoch 93/100\n",
      "248/248 [==============================] - 1s 2ms/step - loss: 0.4734 - recall: 0.9173 - val_loss: 0.5856 - val_recall: 0.9371\n",
      "Epoch 94/100\n",
      "248/248 [==============================] - 1s 3ms/step - loss: 0.4807 - recall: 0.9218 - val_loss: 0.5862 - val_recall: 0.9182\n",
      "Epoch 95/100\n",
      "248/248 [==============================] - 1s 3ms/step - loss: 0.4678 - recall: 0.9226 - val_loss: 0.5640 - val_recall: 0.9119\n",
      "Epoch 96/100\n",
      "248/248 [==============================] - 1s 3ms/step - loss: 0.4749 - recall: 0.9241 - val_loss: 0.5706 - val_recall: 0.9245\n",
      "Epoch 97/100\n",
      "248/248 [==============================] - 1s 4ms/step - loss: 0.4745 - recall: 0.9196 - val_loss: 0.5780 - val_recall: 0.9182\n",
      "Epoch 98/100\n",
      "248/248 [==============================] - 1s 3ms/step - loss: 0.4793 - recall: 0.9206 - val_loss: 0.5807 - val_recall: 0.9182\n",
      "Epoch 99/100\n",
      "248/248 [==============================] - 1s 3ms/step - loss: 0.4664 - recall: 0.9236 - val_loss: 0.5732 - val_recall: 0.9182\n",
      "Epoch 100/100\n",
      "248/248 [==============================] - 1s 3ms/step - loss: 0.4783 - recall: 0.9228 - val_loss: 0.5825 - val_recall: 0.9308\n"
     ]
    }
   ],
   "source": [
    "history = model.fit(train_dataset, epochs=100, validation_data=(val_dataset))"
   ]
  },
  {
   "cell_type": "markdown",
   "metadata": {},
   "source": [
    "### b. Functional API"
   ]
  },
  {
   "cell_type": "code",
   "execution_count": 353,
   "metadata": {},
   "outputs": [
    {
     "name": "stdout",
     "output_type": "stream",
     "text": [
      "Epoch 1/100\n",
      "248/248 [==============================] - 1s 3ms/step - loss: 0.5158 - recall: 0.6350 - val_loss: 0.5438 - val_recall: 0.7987\n",
      "Epoch 2/100\n",
      "248/248 [==============================] - 1s 3ms/step - loss: 0.5136 - recall: 0.6352 - val_loss: 0.5554 - val_recall: 0.8050\n",
      "Epoch 3/100\n",
      "248/248 [==============================] - 1s 3ms/step - loss: 0.5267 - recall: 0.5998 - val_loss: 0.5422 - val_recall: 0.7987\n",
      "Epoch 4/100\n",
      "248/248 [==============================] - 1s 3ms/step - loss: 0.5222 - recall: 0.6132 - val_loss: 0.5420 - val_recall: 0.7862\n",
      "Epoch 5/100\n",
      "248/248 [==============================] - 1s 3ms/step - loss: 0.5216 - recall: 0.6276 - val_loss: 0.5391 - val_recall: 0.7673\n",
      "Epoch 6/100\n",
      "248/248 [==============================] - 1s 2ms/step - loss: 0.5161 - recall: 0.6259 - val_loss: 0.5300 - val_recall: 0.8050\n",
      "Epoch 7/100\n",
      "248/248 [==============================] - 1s 3ms/step - loss: 0.5169 - recall: 0.6256 - val_loss: 0.5380 - val_recall: 0.8113\n",
      "Epoch 8/100\n",
      "248/248 [==============================] - 1s 3ms/step - loss: 0.5225 - recall: 0.6251 - val_loss: 0.5423 - val_recall: 0.7673\n",
      "Epoch 9/100\n",
      "248/248 [==============================] - 1s 3ms/step - loss: 0.5106 - recall: 0.6466 - val_loss: 0.5428 - val_recall: 0.7925\n",
      "Epoch 10/100\n",
      "248/248 [==============================] - 1s 3ms/step - loss: 0.5199 - recall: 0.6365 - val_loss: 0.5364 - val_recall: 0.7862\n",
      "Epoch 11/100\n",
      "248/248 [==============================] - 1s 3ms/step - loss: 0.5095 - recall: 0.6415 - val_loss: 0.5342 - val_recall: 0.7799\n",
      "Epoch 12/100\n",
      "248/248 [==============================] - 1s 3ms/step - loss: 0.5137 - recall: 0.6372 - val_loss: 0.5406 - val_recall: 0.7736\n",
      "Epoch 13/100\n",
      "248/248 [==============================] - 1s 3ms/step - loss: 0.5087 - recall: 0.6560 - val_loss: 0.5432 - val_recall: 0.7987\n",
      "Epoch 14/100\n",
      "248/248 [==============================] - 1s 3ms/step - loss: 0.5192 - recall: 0.6372 - val_loss: 0.5273 - val_recall: 0.7987\n",
      "Epoch 15/100\n",
      "248/248 [==============================] - 1s 4ms/step - loss: 0.5091 - recall: 0.6413 - val_loss: 0.5295 - val_recall: 0.7987\n",
      "Epoch 16/100\n",
      "248/248 [==============================] - 1s 3ms/step - loss: 0.5208 - recall: 0.6362 - val_loss: 0.5297 - val_recall: 0.8050\n",
      "Epoch 17/100\n",
      "248/248 [==============================] - 1s 3ms/step - loss: 0.5107 - recall: 0.6385 - val_loss: 0.5351 - val_recall: 0.7925\n",
      "Epoch 18/100\n",
      "248/248 [==============================] - 1s 3ms/step - loss: 0.5246 - recall: 0.6284 - val_loss: 0.5256 - val_recall: 0.7925\n",
      "Epoch 19/100\n",
      "248/248 [==============================] - 1s 3ms/step - loss: 0.5115 - recall: 0.6420 - val_loss: 0.5411 - val_recall: 0.7925\n",
      "Epoch 20/100\n",
      "248/248 [==============================] - 1s 3ms/step - loss: 0.5116 - recall: 0.6304 - val_loss: 0.5395 - val_recall: 0.8050\n",
      "Epoch 21/100\n",
      "248/248 [==============================] - 1s 3ms/step - loss: 0.5197 - recall: 0.6208 - val_loss: 0.5307 - val_recall: 0.7925\n",
      "Epoch 22/100\n",
      "248/248 [==============================] - 1s 3ms/step - loss: 0.5152 - recall: 0.6226 - val_loss: 0.5054 - val_recall: 0.7862\n",
      "Epoch 23/100\n",
      "248/248 [==============================] - 1s 3ms/step - loss: 0.5113 - recall: 0.6274 - val_loss: 0.5310 - val_recall: 0.7987\n",
      "Epoch 24/100\n",
      "248/248 [==============================] - 1s 3ms/step - loss: 0.5130 - recall: 0.6410 - val_loss: 0.5318 - val_recall: 0.7925\n",
      "Epoch 25/100\n",
      "248/248 [==============================] - 1s 3ms/step - loss: 0.5126 - recall: 0.6372 - val_loss: 0.5311 - val_recall: 0.7925\n",
      "Epoch 26/100\n",
      "248/248 [==============================] - 1s 4ms/step - loss: 0.5126 - recall: 0.6425 - val_loss: 0.5256 - val_recall: 0.7925\n",
      "Epoch 27/100\n",
      "248/248 [==============================] - 1s 3ms/step - loss: 0.5106 - recall: 0.6582 - val_loss: 0.5303 - val_recall: 0.7799\n",
      "Epoch 28/100\n",
      "248/248 [==============================] - 1s 3ms/step - loss: 0.5085 - recall: 0.6549 - val_loss: 0.5218 - val_recall: 0.7925\n",
      "Epoch 29/100\n",
      "248/248 [==============================] - 1s 3ms/step - loss: 0.5051 - recall: 0.6501 - val_loss: 0.5260 - val_recall: 0.8113\n",
      "Epoch 30/100\n",
      "248/248 [==============================] - 1s 3ms/step - loss: 0.5096 - recall: 0.6527 - val_loss: 0.5263 - val_recall: 0.7987\n",
      "Epoch 31/100\n",
      "248/248 [==============================] - 1s 3ms/step - loss: 0.5113 - recall: 0.6474 - val_loss: 0.5269 - val_recall: 0.8113\n",
      "Epoch 32/100\n",
      "248/248 [==============================] - 1s 3ms/step - loss: 0.5108 - recall: 0.6198 - val_loss: 0.5303 - val_recall: 0.7987\n",
      "Epoch 33/100\n",
      "248/248 [==============================] - 1s 3ms/step - loss: 0.5177 - recall: 0.6112 - val_loss: 0.5227 - val_recall: 0.8050\n",
      "Epoch 34/100\n",
      "248/248 [==============================] - 1s 3ms/step - loss: 0.5064 - recall: 0.6337 - val_loss: 0.5154 - val_recall: 0.7987\n",
      "Epoch 35/100\n",
      "248/248 [==============================] - 1s 3ms/step - loss: 0.5174 - recall: 0.6203 - val_loss: 0.5203 - val_recall: 0.7925\n",
      "Epoch 36/100\n",
      "248/248 [==============================] - 1s 3ms/step - loss: 0.5152 - recall: 0.6183 - val_loss: 0.5162 - val_recall: 0.7925\n",
      "Epoch 37/100\n",
      "248/248 [==============================] - 1s 3ms/step - loss: 0.5104 - recall: 0.6296 - val_loss: 0.5246 - val_recall: 0.8113\n",
      "Epoch 38/100\n",
      "248/248 [==============================] - 1s 3ms/step - loss: 0.5138 - recall: 0.6428 - val_loss: 0.5117 - val_recall: 0.7862\n",
      "Epoch 39/100\n",
      "248/248 [==============================] - 1s 3ms/step - loss: 0.5134 - recall: 0.6562 - val_loss: 0.5220 - val_recall: 0.7987\n",
      "Epoch 40/100\n",
      "248/248 [==============================] - 1s 3ms/step - loss: 0.5134 - recall: 0.6747 - val_loss: 0.5226 - val_recall: 0.7925\n",
      "Epoch 41/100\n",
      "248/248 [==============================] - 1s 3ms/step - loss: 0.5146 - recall: 0.6635 - val_loss: 0.5260 - val_recall: 0.8050\n",
      "Epoch 42/100\n",
      "248/248 [==============================] - 1s 3ms/step - loss: 0.5077 - recall: 0.6517 - val_loss: 0.5194 - val_recall: 0.7925\n",
      "Epoch 43/100\n",
      "248/248 [==============================] - 1s 3ms/step - loss: 0.5117 - recall: 0.6653 - val_loss: 0.5039 - val_recall: 0.7862\n",
      "Epoch 44/100\n",
      "248/248 [==============================] - 1s 3ms/step - loss: 0.5105 - recall: 0.6605 - val_loss: 0.5161 - val_recall: 0.7799\n",
      "Epoch 45/100\n",
      "248/248 [==============================] - 1s 3ms/step - loss: 0.5139 - recall: 0.6628 - val_loss: 0.5192 - val_recall: 0.7987\n",
      "Epoch 46/100\n",
      "248/248 [==============================] - 1s 3ms/step - loss: 0.5100 - recall: 0.6529 - val_loss: 0.5126 - val_recall: 0.8176\n",
      "Epoch 47/100\n",
      "248/248 [==============================] - 1s 3ms/step - loss: 0.5158 - recall: 0.6284 - val_loss: 0.5188 - val_recall: 0.7925\n",
      "Epoch 48/100\n",
      "248/248 [==============================] - 1s 3ms/step - loss: 0.5151 - recall: 0.6499 - val_loss: 0.5188 - val_recall: 0.8176\n",
      "Epoch 49/100\n",
      "248/248 [==============================] - 1s 3ms/step - loss: 0.5084 - recall: 0.6673 - val_loss: 0.5073 - val_recall: 0.7987\n",
      "Epoch 50/100\n",
      "248/248 [==============================] - 1s 3ms/step - loss: 0.5108 - recall: 0.6678 - val_loss: 0.5096 - val_recall: 0.7799\n",
      "Epoch 51/100\n",
      "248/248 [==============================] - 1s 3ms/step - loss: 0.5061 - recall: 0.6790 - val_loss: 0.5283 - val_recall: 0.7987\n",
      "Epoch 52/100\n",
      "248/248 [==============================] - 1s 3ms/step - loss: 0.5056 - recall: 0.6603 - val_loss: 0.5172 - val_recall: 0.7925\n",
      "Epoch 53/100\n",
      "248/248 [==============================] - 1s 3ms/step - loss: 0.5153 - recall: 0.6643 - val_loss: 0.5188 - val_recall: 0.7862\n",
      "Epoch 54/100\n",
      "248/248 [==============================] - 1s 3ms/step - loss: 0.5081 - recall: 0.6630 - val_loss: 0.5046 - val_recall: 0.7862\n",
      "Epoch 55/100\n",
      "248/248 [==============================] - 1s 3ms/step - loss: 0.5100 - recall: 0.6724 - val_loss: 0.5151 - val_recall: 0.7987\n",
      "Epoch 56/100\n",
      "248/248 [==============================] - 1s 3ms/step - loss: 0.5123 - recall: 0.6537 - val_loss: 0.5159 - val_recall: 0.8050\n",
      "Epoch 57/100\n",
      "248/248 [==============================] - 1s 3ms/step - loss: 0.5118 - recall: 0.6608 - val_loss: 0.5162 - val_recall: 0.7987\n",
      "Epoch 58/100\n",
      "248/248 [==============================] - 1s 3ms/step - loss: 0.5121 - recall: 0.6648 - val_loss: 0.5179 - val_recall: 0.7987\n",
      "Epoch 59/100\n",
      "248/248 [==============================] - 1s 3ms/step - loss: 0.5040 - recall: 0.6732 - val_loss: 0.5174 - val_recall: 0.8113\n",
      "Epoch 60/100\n",
      "248/248 [==============================] - 1s 3ms/step - loss: 0.5135 - recall: 0.6527 - val_loss: 0.5111 - val_recall: 0.7862\n",
      "Epoch 61/100\n",
      "248/248 [==============================] - 1s 3ms/step - loss: 0.4998 - recall: 0.6648 - val_loss: 0.5108 - val_recall: 0.7673\n",
      "Epoch 62/100\n",
      "248/248 [==============================] - 1s 3ms/step - loss: 0.5081 - recall: 0.6489 - val_loss: 0.5210 - val_recall: 0.7925\n",
      "Epoch 63/100\n",
      "248/248 [==============================] - 1s 3ms/step - loss: 0.5085 - recall: 0.6512 - val_loss: 0.5144 - val_recall: 0.7925\n",
      "Epoch 64/100\n",
      "248/248 [==============================] - 1s 3ms/step - loss: 0.5074 - recall: 0.6522 - val_loss: 0.5177 - val_recall: 0.8113\n",
      "Epoch 65/100\n",
      "248/248 [==============================] - 1s 3ms/step - loss: 0.5165 - recall: 0.6436 - val_loss: 0.5052 - val_recall: 0.7799\n",
      "Epoch 66/100\n",
      "248/248 [==============================] - 1s 3ms/step - loss: 0.5048 - recall: 0.6458 - val_loss: 0.5071 - val_recall: 0.7862\n",
      "Epoch 67/100\n",
      "248/248 [==============================] - 1s 3ms/step - loss: 0.5079 - recall: 0.6595 - val_loss: 0.5048 - val_recall: 0.7925\n",
      "Epoch 68/100\n",
      "248/248 [==============================] - 1s 3ms/step - loss: 0.5132 - recall: 0.6390 - val_loss: 0.5002 - val_recall: 0.7925\n",
      "Epoch 69/100\n",
      "248/248 [==============================] - 1s 3ms/step - loss: 0.5004 - recall: 0.6615 - val_loss: 0.5064 - val_recall: 0.7987\n",
      "Epoch 70/100\n",
      "248/248 [==============================] - 1s 3ms/step - loss: 0.5052 - recall: 0.6491 - val_loss: 0.5081 - val_recall: 0.7736\n",
      "Epoch 71/100\n",
      "248/248 [==============================] - 1s 3ms/step - loss: 0.5039 - recall: 0.6491 - val_loss: 0.5172 - val_recall: 0.8113\n",
      "Epoch 72/100\n",
      "248/248 [==============================] - 1s 3ms/step - loss: 0.5118 - recall: 0.6446 - val_loss: 0.5069 - val_recall: 0.7799\n",
      "Epoch 73/100\n",
      "248/248 [==============================] - 1s 3ms/step - loss: 0.5163 - recall: 0.6360 - val_loss: 0.5078 - val_recall: 0.7799\n",
      "Epoch 74/100\n",
      "248/248 [==============================] - 1s 3ms/step - loss: 0.5109 - recall: 0.6544 - val_loss: 0.5022 - val_recall: 0.8050\n",
      "Epoch 75/100\n",
      "248/248 [==============================] - 1s 3ms/step - loss: 0.5042 - recall: 0.6441 - val_loss: 0.5037 - val_recall: 0.7987\n",
      "Epoch 76/100\n",
      "248/248 [==============================] - 1s 3ms/step - loss: 0.5066 - recall: 0.6420 - val_loss: 0.4994 - val_recall: 0.7736\n",
      "Epoch 77/100\n",
      "248/248 [==============================] - 1s 3ms/step - loss: 0.5063 - recall: 0.6479 - val_loss: 0.5083 - val_recall: 0.7862\n",
      "Epoch 78/100\n",
      "248/248 [==============================] - 1s 3ms/step - loss: 0.5069 - recall: 0.6423 - val_loss: 0.5126 - val_recall: 0.7862\n",
      "Epoch 79/100\n",
      "248/248 [==============================] - 1s 3ms/step - loss: 0.5138 - recall: 0.6433 - val_loss: 0.5077 - val_recall: 0.7925\n",
      "Epoch 80/100\n",
      "248/248 [==============================] - 1s 3ms/step - loss: 0.5070 - recall: 0.6453 - val_loss: 0.5265 - val_recall: 0.7862\n",
      "Epoch 81/100\n",
      "248/248 [==============================] - 1s 4ms/step - loss: 0.5122 - recall: 0.6466 - val_loss: 0.5107 - val_recall: 0.7673\n",
      "Epoch 82/100\n",
      "248/248 [==============================] - 1s 3ms/step - loss: 0.5042 - recall: 0.6572 - val_loss: 0.5051 - val_recall: 0.7862\n",
      "Epoch 83/100\n",
      "248/248 [==============================] - 1s 3ms/step - loss: 0.5040 - recall: 0.6630 - val_loss: 0.5174 - val_recall: 0.8050\n",
      "Epoch 84/100\n",
      "248/248 [==============================] - 1s 3ms/step - loss: 0.5064 - recall: 0.6562 - val_loss: 0.5121 - val_recall: 0.7862\n",
      "Epoch 85/100\n",
      "248/248 [==============================] - 1s 3ms/step - loss: 0.5089 - recall: 0.6532 - val_loss: 0.5072 - val_recall: 0.7799\n",
      "Epoch 86/100\n",
      "248/248 [==============================] - 1s 3ms/step - loss: 0.4998 - recall: 0.6775 - val_loss: 0.5017 - val_recall: 0.7673\n",
      "Epoch 87/100\n",
      "248/248 [==============================] - 1s 4ms/step - loss: 0.5090 - recall: 0.6759 - val_loss: 0.5103 - val_recall: 0.7799\n",
      "Epoch 88/100\n",
      "248/248 [==============================] - 1s 3ms/step - loss: 0.5118 - recall: 0.6752 - val_loss: 0.5021 - val_recall: 0.7673\n",
      "Epoch 89/100\n",
      "248/248 [==============================] - 1s 3ms/step - loss: 0.5099 - recall: 0.6838 - val_loss: 0.5080 - val_recall: 0.7799\n",
      "Epoch 90/100\n",
      "248/248 [==============================] - 1s 3ms/step - loss: 0.5092 - recall: 0.6891 - val_loss: 0.5126 - val_recall: 0.7925\n",
      "Epoch 91/100\n",
      "248/248 [==============================] - 1s 3ms/step - loss: 0.5150 - recall: 0.6666 - val_loss: 0.5026 - val_recall: 0.7673\n",
      "Epoch 92/100\n",
      "248/248 [==============================] - 1s 3ms/step - loss: 0.5071 - recall: 0.6914 - val_loss: 0.5169 - val_recall: 0.7799\n",
      "Epoch 93/100\n",
      "248/248 [==============================] - 1s 3ms/step - loss: 0.5131 - recall: 0.6825 - val_loss: 0.5099 - val_recall: 0.7987\n",
      "Epoch 94/100\n",
      "248/248 [==============================] - 1s 3ms/step - loss: 0.5105 - recall: 0.6843 - val_loss: 0.5108 - val_recall: 0.7987\n",
      "Epoch 95/100\n",
      "248/248 [==============================] - 1s 3ms/step - loss: 0.5085 - recall: 0.6810 - val_loss: 0.4976 - val_recall: 0.7925\n",
      "Epoch 96/100\n",
      "248/248 [==============================] - 1s 3ms/step - loss: 0.5094 - recall: 0.6772 - val_loss: 0.4983 - val_recall: 0.8050\n",
      "Epoch 97/100\n",
      "248/248 [==============================] - 1s 3ms/step - loss: 0.5105 - recall: 0.6904 - val_loss: 0.5069 - val_recall: 0.8050\n",
      "Epoch 98/100\n",
      "248/248 [==============================] - 1s 3ms/step - loss: 0.5118 - recall: 0.6871 - val_loss: 0.5055 - val_recall: 0.7987\n",
      "Epoch 99/100\n",
      "248/248 [==============================] - 1s 3ms/step - loss: 0.5044 - recall: 0.6909 - val_loss: 0.5100 - val_recall: 0.8050\n",
      "Epoch 100/100\n",
      "248/248 [==============================] - 1s 3ms/step - loss: 0.5108 - recall: 0.6633 - val_loss: 0.5041 - val_recall: 0.8050\n"
     ]
    }
   ],
   "source": [
    "history2 = model2.fit(train_dataset, epochs=100, validation_data=(val_dataset))"
   ]
  },
  {
   "cell_type": "markdown",
   "metadata": {},
   "source": [
    "## 8. Model Evaluation\n",
    "Akan dilakukan prediksi terhadap data test menggunakan model Neural Network yang telah di-train menggunakan data train. Metriks yang digunakan untuk mengukur baik tidaknya suatu model adalah recall untuk kelas positif sama dengan kelas 1 (Churn=Yes). Definisi dari recall untuk kelas positif sama dengan 1 adalah jumlah customer churn yang ditebak model dengan benar (True Positive) dibanding dengan jumlah customer churn secara real (True Positive + False Negative). Model ini akan digunakan untuk memprediksi apakah seorang customer akan churn atau tidak, customer yang diprediksi churn oleh model akan diberikan promo atau keringanan tertentu oleh perusahaan agar customer tersebut membatalkan niatnya untuk churn. Semakin tinggi nilai recall dari model maka semakin banyak customer yang berpotensi churn mendapat perhatian dari perusahaan sehingga harapannya mereka membatalkan niatnya untuk churn dan nilai customer churn rate dari perusahaan pun menjadi turun atau lebih baik."
   ]
  },
  {
   "cell_type": "markdown",
   "metadata": {},
   "source": [
    "### a. Sequential API"
   ]
  },
  {
   "cell_type": "code",
   "execution_count": 400,
   "metadata": {},
   "outputs": [
    {
     "data": {
      "text/plain": [
       "<AxesSubplot:title={'center':'Recall vs Epoch'}, xlabel='Epoch', ylabel='Recall'>"
      ]
     },
     "execution_count": 400,
     "metadata": {},
     "output_type": "execute_result"
    },
    {
     "data": {
      "image/png": "[encoded data removed]",
      "text/plain": [
       "<Figure size 432x288 with 1 Axes>"
      ]
     },
     "metadata": {
      "needs_background": "light"
     },
     "output_type": "display_data"
    },
    {
     "data": {
      "image/png": "[encoded data removed]",
      "text/plain": [
       "<Figure size 432x288 with 1 Axes>"
      ]
     },
     "metadata": {
      "needs_background": "light"
     },
     "output_type": "display_data"
    }
   ],
   "source": [
    "metrics = pd.DataFrame(history.history)\n",
    "metrics[['loss', 'val_loss']].plot(title='Loss vs Epoch', xlabel='Epoch', ylabel='Loss')\n",
    "metrics[['recall', 'val_recall']].plot(title='Recall vs Epoch', xlabel='Epoch', ylabel='Recall')"
   ]
  },
  {
   "cell_type": "markdown",
   "metadata": {},
   "source": [
    "Dari grafik loss vs epoch untuk model sequential API didapat selisih nilai loss yang cukup jauh antara data train dengan data validation, selisih tersebut sekitar 0.20 point adapun pada grafik recall vs epoch terlihat selisih yang kecil antara nilai recall data train dan nilai recall data validation, selisih tersebut sekitar 0.01 point."
   ]
  },
  {
   "cell_type": "code",
   "execution_count": 355,
   "metadata": {},
   "outputs": [
    {
     "name": "stdout",
     "output_type": "stream",
     "text": [
      "33/33 [==============================] - 0s 2ms/step\n",
      "              precision    recall  f1-score   support\n",
      "\n",
      "           0       0.91      0.55      0.69       776\n",
      "           1       0.41      0.85      0.55       280\n",
      "\n",
      "    accuracy                           0.63      1056\n",
      "   macro avg       0.66      0.70      0.62      1056\n",
      "weighted avg       0.78      0.63      0.65      1056\n",
      "\n"
     ]
    }
   ],
   "source": [
    "y_pred = model.predict(X_test_final)\n",
    "y_pred = np.where(y_pred >= 0.5, 1, 0)\n",
    "print(classification_report(y_test, y_pred))"
   ]
  },
  {
   "cell_type": "markdown",
   "metadata": {},
   "source": [
    "Didapat nilai recall untuk kelas positif = kelas 1 sebesar 0.85, artinya model berhasil memprediksi 85% customer yang churn (True Positive) dari semua customer yang churn secara real (True Positive + False Negative). Adapun nilai precision (kelas positif = kelas 1) untuk model ini cukup rendah yaitu sebesar 0.41 yang artinya dari seluruh customer yang diprediksi churn (True Positive + False Positive) hanya 41% saja yang benar-benar churn (True Positive)."
   ]
  },
  {
   "cell_type": "markdown",
   "metadata": {},
   "source": [
    "### b. Functional API"
   ]
  },
  {
   "cell_type": "code",
   "execution_count": 401,
   "metadata": {},
   "outputs": [
    {
     "data": {
      "text/plain": [
       "<AxesSubplot:title={'center':'Recall vs Epoch'}, xlabel='Epoch', ylabel='Recall'>"
      ]
     },
     "execution_count": 401,
     "metadata": {},
     "output_type": "execute_result"
    },
    {
     "data": {
      "image/png": "[encoded data removed]",
      "text/plain": [
       "<Figure size 432x288 with 1 Axes>"
      ]
     },
     "metadata": {
      "needs_background": "light"
     },
     "output_type": "display_data"
    },
    {
     "data": {
      "image/png": "[encoded data removed]",
      "text/plain": [
       "<Figure size 432x288 with 1 Axes>"
      ]
     },
     "metadata": {
      "needs_background": "light"
     },
     "output_type": "display_data"
    }
   ],
   "source": [
    "metrics2 = pd.DataFrame(history2.history)\n",
    "metrics2[['loss', 'val_loss']].plot(title='Loss vs Epoch', xlabel='Epoch', ylabel='Loss')\n",
    "metrics2[['recall', 'val_recall']].plot(title='Recall vs Epoch', xlabel='Epoch', ylabel='Recall')"
   ]
  },
  {
   "cell_type": "markdown",
   "metadata": {},
   "source": [
    "Dari grafik loss vs epoch untuk model sequential API didapat selisih nilai loss yang cukup kecil antara data train dengan data validation, selisih tersebut sekitar 0.05 point adapun pada grafik recall vs epoch terlihat selisih yang besar antara nilai recall data train dan nilai recall data validation, selisih tersebut sekitar 0.15 point."
   ]
  },
  {
   "cell_type": "code",
   "execution_count": 357,
   "metadata": {},
   "outputs": [
    {
     "name": "stdout",
     "output_type": "stream",
     "text": [
      "33/33 [==============================] - 0s 2ms/step\n",
      "              precision    recall  f1-score   support\n",
      "\n",
      "           0       0.89      0.70      0.78       776\n",
      "           1       0.48      0.77      0.59       280\n",
      "\n",
      "    accuracy                           0.72      1056\n",
      "   macro avg       0.69      0.73      0.69      1056\n",
      "weighted avg       0.78      0.72      0.73      1056\n",
      "\n"
     ]
    }
   ],
   "source": [
    "y_pred2 = model2.predict(X_test_final)\n",
    "y_pred2 = np.where(y_pred2 >= 0.5, 1, 0)\n",
    "print(classification_report(y_test, y_pred2))"
   ]
  },
  {
   "cell_type": "markdown",
   "metadata": {},
   "source": [
    "Didapat nilai recall untuk kelas positif = kelas 1 sebesar 0.77, artinya model berhasil memprediksi 77% customer yang churn (True Positive) dari semua customer yang churn secara real (True Positive + False Negative). Adapun nilai precision (kelas positif = kelas 1) untuk model ini cukup rendah yaitu sebesar 0.48 yang artinya dari seluruh customer yang diprediksi churn (True Positive + False Positive) hanya 48% saja yang benar-benar churn (True Positive)."
   ]
  },
  {
   "cell_type": "markdown",
   "metadata": {},
   "source": [
    "Kedua model Neural Network di atas disusun dengan arsitektur yang sama, yang berbeda hanya API-nya saja, akan tetapi keduanya menghasilkan performa yang berbeda. Hal ini dikarenakan nilai tebakan awal dari tiep-tiap model tersebut berbeda sehingga keduanya menghasilkan performa yang berbeda."
   ]
  },
  {
   "cell_type": "markdown",
   "metadata": {},
   "source": [
    "### c. Model Improvement\n",
    "Dilakukan model improvement terhadap model Neural Network yang sudah dibuat yaitu dengan:\n",
    "1. Mengurangi jumlah hidden layer\n",
    "2. Mengubah nilai neuron pada tiap-tiap hidden layer\n",
    "3. Mengubah activation function pada hidden layer\n",
    "\n",
    "Didapatkan model Neural Network dengan arsitektur sebagai berikut :"
   ]
  },
  {
   "cell_type": "code",
   "execution_count": 391,
   "metadata": {},
   "outputs": [],
   "source": [
    "model3 = Sequential()\n",
    "model3.add(Dense(18, input_shape=(X_train_final.shape[1],))) # hidden layer 1\n",
    "model3.add(Activation('elu'))\n",
    "model3.add(Dropout(0.3))\n",
    "model3.add(Dense(6)) # hidden layer 2\n",
    "model3.add(Activation('elu'))\n",
    "model3.add(Dropout(0.3))\n",
    "model3.add(Dense(2)) # hidden layer 3\n",
    "model3.add(Activation('elu'))\n",
    "model3.add(Dropout(0.3))\n",
    "model3.add(Dense(1, activation='sigmoid')) # output layer\n",
    "\n",
    "model3.compile(loss='binary_crossentropy',\n",
    "              optimizer='adam', \n",
    "              metrics=['Recall'])"
   ]
  },
  {
   "cell_type": "markdown",
   "metadata": {},
   "source": [
    "Selanjutnya dilakukan training terhadap model hasil improvement menggunakan data train :"
   ]
  },
  {
   "cell_type": "code",
   "execution_count": 392,
   "metadata": {},
   "outputs": [
    {
     "name": "stdout",
     "output_type": "stream",
     "text": [
      "Epoch 1/100\n",
      "248/248 [==============================] - 2s 4ms/step - loss: 0.5380 - recall: 0.6891 - val_loss: 0.9250 - val_recall: 0.9937\n",
      "Epoch 2/100\n",
      "248/248 [==============================] - 1s 3ms/step - loss: 0.5505 - recall: 0.7708 - val_loss: 0.7904 - val_recall: 0.9937\n",
      "Epoch 3/100\n",
      "248/248 [==============================] - 1s 3ms/step - loss: 0.5308 - recall: 0.8007 - val_loss: 0.7651 - val_recall: 0.9874\n",
      "Epoch 4/100\n",
      "248/248 [==============================] - 1s 4ms/step - loss: 0.5264 - recall: 0.8032 - val_loss: 0.7298 - val_recall: 0.9874\n",
      "Epoch 5/100\n",
      "248/248 [==============================] - 1s 3ms/step - loss: 0.5234 - recall: 0.8120 - val_loss: 0.7055 - val_recall: 0.9874\n",
      "Epoch 6/100\n",
      "248/248 [==============================] - 1s 3ms/step - loss: 0.5135 - recall: 0.8353 - val_loss: 0.6874 - val_recall: 0.9811\n",
      "Epoch 7/100\n",
      "248/248 [==============================] - 1s 3ms/step - loss: 0.5184 - recall: 0.8424 - val_loss: 0.6794 - val_recall: 0.9748\n",
      "Epoch 8/100\n",
      "248/248 [==============================] - 1s 4ms/step - loss: 0.5185 - recall: 0.8462 - val_loss: 0.6889 - val_recall: 0.9811\n",
      "Epoch 9/100\n",
      "248/248 [==============================] - 1s 3ms/step - loss: 0.5152 - recall: 0.8439 - val_loss: 0.6656 - val_recall: 0.9748\n",
      "Epoch 10/100\n",
      "248/248 [==============================] - 1s 3ms/step - loss: 0.5163 - recall: 0.8439 - val_loss: 0.6655 - val_recall: 0.9748\n",
      "Epoch 11/100\n",
      "248/248 [==============================] - 1s 3ms/step - loss: 0.5133 - recall: 0.8507 - val_loss: 0.6552 - val_recall: 0.9686\n",
      "Epoch 12/100\n",
      "248/248 [==============================] - 1s 3ms/step - loss: 0.5117 - recall: 0.8500 - val_loss: 0.6584 - val_recall: 0.9748\n",
      "Epoch 13/100\n",
      "248/248 [==============================] - 1s 4ms/step - loss: 0.5136 - recall: 0.8457 - val_loss: 0.6571 - val_recall: 0.9811\n",
      "Epoch 14/100\n",
      "248/248 [==============================] - 1s 3ms/step - loss: 0.5125 - recall: 0.8502 - val_loss: 0.6486 - val_recall: 0.9686\n",
      "Epoch 15/100\n",
      "248/248 [==============================] - 1s 3ms/step - loss: 0.5125 - recall: 0.8472 - val_loss: 0.6401 - val_recall: 0.9686\n",
      "Epoch 16/100\n",
      "248/248 [==============================] - 1s 3ms/step - loss: 0.5134 - recall: 0.8520 - val_loss: 0.6531 - val_recall: 0.9811\n",
      "Epoch 17/100\n",
      "248/248 [==============================] - 1s 3ms/step - loss: 0.5161 - recall: 0.8533 - val_loss: 0.6360 - val_recall: 0.9497\n",
      "Epoch 18/100\n",
      "248/248 [==============================] - 1s 3ms/step - loss: 0.5099 - recall: 0.8434 - val_loss: 0.6369 - val_recall: 0.9497\n",
      "Epoch 19/100\n",
      "248/248 [==============================] - 1s 3ms/step - loss: 0.5172 - recall: 0.8437 - val_loss: 0.6276 - val_recall: 0.9497\n",
      "Epoch 20/100\n",
      "248/248 [==============================] - 1s 3ms/step - loss: 0.5112 - recall: 0.8457 - val_loss: 0.6350 - val_recall: 0.9560\n",
      "Epoch 21/100\n",
      "248/248 [==============================] - 1s 3ms/step - loss: 0.5096 - recall: 0.8563 - val_loss: 0.6348 - val_recall: 0.9560\n",
      "Epoch 22/100\n",
      "248/248 [==============================] - 1s 3ms/step - loss: 0.5107 - recall: 0.8480 - val_loss: 0.6323 - val_recall: 0.9560\n",
      "Epoch 23/100\n",
      "248/248 [==============================] - 1s 3ms/step - loss: 0.5095 - recall: 0.8442 - val_loss: 0.6304 - val_recall: 0.9497\n",
      "Epoch 24/100\n",
      "248/248 [==============================] - 1s 2ms/step - loss: 0.5150 - recall: 0.8464 - val_loss: 0.6314 - val_recall: 0.9560\n",
      "Epoch 25/100\n",
      "248/248 [==============================] - 1s 3ms/step - loss: 0.5079 - recall: 0.8535 - val_loss: 0.6183 - val_recall: 0.9497\n",
      "Epoch 26/100\n",
      "248/248 [==============================] - 1s 2ms/step - loss: 0.5183 - recall: 0.8475 - val_loss: 0.6241 - val_recall: 0.9560\n",
      "Epoch 27/100\n",
      "248/248 [==============================] - 1s 3ms/step - loss: 0.5024 - recall: 0.8480 - val_loss: 0.6245 - val_recall: 0.9560\n",
      "Epoch 28/100\n",
      "248/248 [==============================] - 1s 2ms/step - loss: 0.5057 - recall: 0.8490 - val_loss: 0.6186 - val_recall: 0.9560\n",
      "Epoch 29/100\n",
      "248/248 [==============================] - 1s 2ms/step - loss: 0.5042 - recall: 0.8543 - val_loss: 0.6120 - val_recall: 0.9560\n",
      "Epoch 30/100\n",
      "248/248 [==============================] - 1s 2ms/step - loss: 0.5104 - recall: 0.8427 - val_loss: 0.6176 - val_recall: 0.9623\n",
      "Epoch 31/100\n",
      "248/248 [==============================] - 1s 2ms/step - loss: 0.5063 - recall: 0.8449 - val_loss: 0.6191 - val_recall: 0.9686\n",
      "Epoch 32/100\n",
      "248/248 [==============================] - 1s 2ms/step - loss: 0.5051 - recall: 0.8530 - val_loss: 0.6159 - val_recall: 0.9623\n",
      "Epoch 33/100\n",
      "248/248 [==============================] - 1s 2ms/step - loss: 0.5099 - recall: 0.8437 - val_loss: 0.6117 - val_recall: 0.9560\n",
      "Epoch 34/100\n",
      "248/248 [==============================] - 1s 2ms/step - loss: 0.5091 - recall: 0.8427 - val_loss: 0.5991 - val_recall: 0.9434\n",
      "Epoch 35/100\n",
      "248/248 [==============================] - 1s 2ms/step - loss: 0.5080 - recall: 0.8449 - val_loss: 0.6034 - val_recall: 0.9497\n",
      "Epoch 36/100\n",
      "248/248 [==============================] - 1s 3ms/step - loss: 0.5047 - recall: 0.8462 - val_loss: 0.6096 - val_recall: 0.9560\n",
      "Epoch 37/100\n",
      "248/248 [==============================] - 1s 2ms/step - loss: 0.5057 - recall: 0.8525 - val_loss: 0.6000 - val_recall: 0.9560\n",
      "Epoch 38/100\n",
      "248/248 [==============================] - 1s 2ms/step - loss: 0.5058 - recall: 0.8495 - val_loss: 0.6076 - val_recall: 0.9497\n",
      "Epoch 39/100\n",
      "248/248 [==============================] - 1s 2ms/step - loss: 0.5102 - recall: 0.8429 - val_loss: 0.5956 - val_recall: 0.9434\n",
      "Epoch 40/100\n",
      "248/248 [==============================] - 1s 2ms/step - loss: 0.5029 - recall: 0.8432 - val_loss: 0.6077 - val_recall: 0.9560\n",
      "Epoch 41/100\n",
      "248/248 [==============================] - 1s 2ms/step - loss: 0.5014 - recall: 0.8528 - val_loss: 0.5992 - val_recall: 0.9371\n",
      "Epoch 42/100\n",
      "248/248 [==============================] - 1s 2ms/step - loss: 0.5170 - recall: 0.8429 - val_loss: 0.5966 - val_recall: 0.9371\n",
      "Epoch 43/100\n",
      "248/248 [==============================] - 1s 2ms/step - loss: 0.5099 - recall: 0.8434 - val_loss: 0.5988 - val_recall: 0.9560\n",
      "Epoch 44/100\n",
      "248/248 [==============================] - 1s 2ms/step - loss: 0.5102 - recall: 0.8414 - val_loss: 0.5935 - val_recall: 0.9497\n",
      "Epoch 45/100\n",
      "248/248 [==============================] - 1s 3ms/step - loss: 0.5092 - recall: 0.8459 - val_loss: 0.5915 - val_recall: 0.9497\n",
      "Epoch 46/100\n",
      "248/248 [==============================] - 1s 2ms/step - loss: 0.5006 - recall: 0.8421 - val_loss: 0.6025 - val_recall: 0.9560\n",
      "Epoch 47/100\n",
      "248/248 [==============================] - 1s 2ms/step - loss: 0.5056 - recall: 0.8482 - val_loss: 0.5893 - val_recall: 0.9497\n",
      "Epoch 48/100\n",
      "248/248 [==============================] - 1s 2ms/step - loss: 0.5061 - recall: 0.8513 - val_loss: 0.5892 - val_recall: 0.9497\n",
      "Epoch 49/100\n",
      "248/248 [==============================] - 1s 2ms/step - loss: 0.5058 - recall: 0.8414 - val_loss: 0.5821 - val_recall: 0.9371\n",
      "Epoch 50/100\n",
      "248/248 [==============================] - 1s 2ms/step - loss: 0.5046 - recall: 0.8482 - val_loss: 0.5896 - val_recall: 0.9497\n",
      "Epoch 51/100\n",
      "248/248 [==============================] - 1s 2ms/step - loss: 0.5129 - recall: 0.8452 - val_loss: 0.5878 - val_recall: 0.9560\n",
      "Epoch 52/100\n",
      "248/248 [==============================] - 1s 2ms/step - loss: 0.5041 - recall: 0.8462 - val_loss: 0.5834 - val_recall: 0.9434\n",
      "Epoch 53/100\n",
      "248/248 [==============================] - 1s 2ms/step - loss: 0.5030 - recall: 0.8427 - val_loss: 0.5794 - val_recall: 0.9371\n",
      "Epoch 54/100\n",
      "248/248 [==============================] - 1s 3ms/step - loss: 0.5002 - recall: 0.8480 - val_loss: 0.5883 - val_recall: 0.9497\n",
      "Epoch 55/100\n",
      "248/248 [==============================] - 1s 2ms/step - loss: 0.4999 - recall: 0.8449 - val_loss: 0.5821 - val_recall: 0.9434\n",
      "Epoch 56/100\n",
      "248/248 [==============================] - 1s 2ms/step - loss: 0.5039 - recall: 0.8401 - val_loss: 0.5804 - val_recall: 0.9371\n",
      "Epoch 57/100\n",
      "248/248 [==============================] - 1s 2ms/step - loss: 0.5039 - recall: 0.8442 - val_loss: 0.5871 - val_recall: 0.9371\n",
      "Epoch 58/100\n",
      "248/248 [==============================] - 1s 2ms/step - loss: 0.5094 - recall: 0.8429 - val_loss: 0.5761 - val_recall: 0.9434\n",
      "Epoch 59/100\n",
      "248/248 [==============================] - 1s 3ms/step - loss: 0.5061 - recall: 0.8363 - val_loss: 0.5766 - val_recall: 0.9434\n",
      "Epoch 60/100\n",
      "248/248 [==============================] - 1s 3ms/step - loss: 0.4975 - recall: 0.8424 - val_loss: 0.5800 - val_recall: 0.9308\n",
      "Epoch 61/100\n",
      "248/248 [==============================] - 1s 2ms/step - loss: 0.4995 - recall: 0.8396 - val_loss: 0.5766 - val_recall: 0.9371\n",
      "Epoch 62/100\n",
      "248/248 [==============================] - 1s 2ms/step - loss: 0.4974 - recall: 0.8429 - val_loss: 0.5745 - val_recall: 0.9308\n",
      "Epoch 63/100\n",
      "248/248 [==============================] - 1s 3ms/step - loss: 0.5071 - recall: 0.8404 - val_loss: 0.5746 - val_recall: 0.9245\n",
      "Epoch 64/100\n",
      "248/248 [==============================] - 1s 2ms/step - loss: 0.4993 - recall: 0.8442 - val_loss: 0.5711 - val_recall: 0.9308\n",
      "Epoch 65/100\n",
      "248/248 [==============================] - 1s 2ms/step - loss: 0.5001 - recall: 0.8384 - val_loss: 0.5741 - val_recall: 0.9371\n",
      "Epoch 66/100\n",
      "248/248 [==============================] - 1s 2ms/step - loss: 0.5053 - recall: 0.8421 - val_loss: 0.5735 - val_recall: 0.9371\n",
      "Epoch 67/100\n",
      "248/248 [==============================] - 1s 2ms/step - loss: 0.4973 - recall: 0.8381 - val_loss: 0.5713 - val_recall: 0.9434\n",
      "Epoch 68/100\n",
      "248/248 [==============================] - 1s 2ms/step - loss: 0.4929 - recall: 0.8432 - val_loss: 0.5780 - val_recall: 0.9434\n",
      "Epoch 69/100\n",
      "248/248 [==============================] - 1s 2ms/step - loss: 0.5009 - recall: 0.8459 - val_loss: 0.5734 - val_recall: 0.9245\n",
      "Epoch 70/100\n",
      "248/248 [==============================] - 1s 2ms/step - loss: 0.4983 - recall: 0.8454 - val_loss: 0.5748 - val_recall: 0.9308\n",
      "Epoch 71/100\n",
      "248/248 [==============================] - 1s 2ms/step - loss: 0.5070 - recall: 0.8386 - val_loss: 0.5726 - val_recall: 0.9371\n",
      "Epoch 72/100\n",
      "248/248 [==============================] - 1s 2ms/step - loss: 0.5034 - recall: 0.8406 - val_loss: 0.5744 - val_recall: 0.9371\n",
      "Epoch 73/100\n",
      "248/248 [==============================] - 1s 3ms/step - loss: 0.5000 - recall: 0.8447 - val_loss: 0.5736 - val_recall: 0.9308\n",
      "Epoch 74/100\n",
      "248/248 [==============================] - 1s 2ms/step - loss: 0.4994 - recall: 0.8361 - val_loss: 0.5720 - val_recall: 0.9308\n",
      "Epoch 75/100\n",
      "248/248 [==============================] - 1s 2ms/step - loss: 0.5061 - recall: 0.8429 - val_loss: 0.5680 - val_recall: 0.9308\n",
      "Epoch 76/100\n",
      "248/248 [==============================] - 1s 2ms/step - loss: 0.4974 - recall: 0.8472 - val_loss: 0.5643 - val_recall: 0.9308\n",
      "Epoch 77/100\n",
      "248/248 [==============================] - 1s 2ms/step - loss: 0.4968 - recall: 0.8419 - val_loss: 0.5697 - val_recall: 0.9371\n",
      "Epoch 78/100\n",
      "248/248 [==============================] - 1s 2ms/step - loss: 0.5042 - recall: 0.8429 - val_loss: 0.5611 - val_recall: 0.9308\n",
      "Epoch 79/100\n",
      "248/248 [==============================] - 1s 2ms/step - loss: 0.4989 - recall: 0.8467 - val_loss: 0.5693 - val_recall: 0.9308\n",
      "Epoch 80/100\n",
      "248/248 [==============================] - 1s 2ms/step - loss: 0.4997 - recall: 0.8442 - val_loss: 0.5624 - val_recall: 0.9245\n",
      "Epoch 81/100\n",
      "248/248 [==============================] - 1s 3ms/step - loss: 0.4947 - recall: 0.8419 - val_loss: 0.5606 - val_recall: 0.9308\n",
      "Epoch 82/100\n",
      "248/248 [==============================] - 1s 3ms/step - loss: 0.5006 - recall: 0.8432 - val_loss: 0.5629 - val_recall: 0.9245\n",
      "Epoch 83/100\n",
      "248/248 [==============================] - 1s 3ms/step - loss: 0.4975 - recall: 0.8394 - val_loss: 0.5682 - val_recall: 0.9245\n",
      "Epoch 84/100\n",
      "248/248 [==============================] - 1s 3ms/step - loss: 0.5032 - recall: 0.8472 - val_loss: 0.5642 - val_recall: 0.9245\n",
      "Epoch 85/100\n",
      "248/248 [==============================] - 1s 2ms/step - loss: 0.5037 - recall: 0.8384 - val_loss: 0.5580 - val_recall: 0.9245\n",
      "Epoch 86/100\n",
      "248/248 [==============================] - 1s 2ms/step - loss: 0.4996 - recall: 0.8411 - val_loss: 0.5640 - val_recall: 0.9308\n",
      "Epoch 87/100\n",
      "248/248 [==============================] - 1s 2ms/step - loss: 0.5019 - recall: 0.8462 - val_loss: 0.5581 - val_recall: 0.9308\n",
      "Epoch 88/100\n",
      "248/248 [==============================] - 1s 2ms/step - loss: 0.4992 - recall: 0.8490 - val_loss: 0.5620 - val_recall: 0.9308\n",
      "Epoch 89/100\n",
      "248/248 [==============================] - 1s 2ms/step - loss: 0.5004 - recall: 0.8404 - val_loss: 0.5571 - val_recall: 0.9245\n",
      "Epoch 90/100\n",
      "248/248 [==============================] - 1s 3ms/step - loss: 0.4999 - recall: 0.8429 - val_loss: 0.5612 - val_recall: 0.9308\n",
      "Epoch 91/100\n",
      "248/248 [==============================] - 1s 2ms/step - loss: 0.5017 - recall: 0.8424 - val_loss: 0.5598 - val_recall: 0.9308\n",
      "Epoch 92/100\n",
      "248/248 [==============================] - 1s 2ms/step - loss: 0.4999 - recall: 0.8416 - val_loss: 0.5568 - val_recall: 0.9308\n",
      "Epoch 93/100\n",
      "248/248 [==============================] - 1s 2ms/step - loss: 0.4943 - recall: 0.8421 - val_loss: 0.5583 - val_recall: 0.9308\n",
      "Epoch 94/100\n",
      "248/248 [==============================] - 1s 2ms/step - loss: 0.4942 - recall: 0.8399 - val_loss: 0.5572 - val_recall: 0.9308\n",
      "Epoch 95/100\n",
      "248/248 [==============================] - 1s 2ms/step - loss: 0.5003 - recall: 0.8470 - val_loss: 0.5646 - val_recall: 0.9371\n",
      "Epoch 96/100\n",
      "248/248 [==============================] - 1s 2ms/step - loss: 0.4930 - recall: 0.8437 - val_loss: 0.5666 - val_recall: 0.9371\n",
      "Epoch 97/100\n",
      "248/248 [==============================] - 1s 2ms/step - loss: 0.5022 - recall: 0.8480 - val_loss: 0.5564 - val_recall: 0.9308\n",
      "Epoch 98/100\n",
      "248/248 [==============================] - 1s 3ms/step - loss: 0.5017 - recall: 0.8437 - val_loss: 0.5531 - val_recall: 0.9308\n",
      "Epoch 99/100\n",
      "248/248 [==============================] - 1s 2ms/step - loss: 0.4996 - recall: 0.8371 - val_loss: 0.5560 - val_recall: 0.9245\n",
      "Epoch 100/100\n",
      "248/248 [==============================] - 1s 2ms/step - loss: 0.4971 - recall: 0.8452 - val_loss: 0.5585 - val_recall: 0.9371\n"
     ]
    }
   ],
   "source": [
    "history3 = model3.fit(train_dataset, epochs=100, validation_data=(val_dataset))"
   ]
  },
  {
   "cell_type": "markdown",
   "metadata": {},
   "source": [
    "Didapatkan hasil sebagai berikut :"
   ]
  },
  {
   "cell_type": "code",
   "execution_count": 402,
   "metadata": {},
   "outputs": [
    {
     "data": {
      "text/plain": [
       "<AxesSubplot:title={'center':'Recall vs Epoch'}, xlabel='Epoch', ylabel='Recall'>"
      ]
     },
     "execution_count": 402,
     "metadata": {},
     "output_type": "execute_result"
    },
    {
     "data": {
      "image/png": "[encoded data removed]",
      "text/plain": [
       "<Figure size 432x288 with 1 Axes>"
      ]
     },
     "metadata": {
      "needs_background": "light"
     },
     "output_type": "display_data"
    },
    {
     "data": {
      "image/png": "[encoded data removed]",
      "text/plain": [
       "<Figure size 432x288 with 1 Axes>"
      ]
     },
     "metadata": {
      "needs_background": "light"
     },
     "output_type": "display_data"
    }
   ],
   "source": [
    "metrics3 = pd.DataFrame(history3.history)\n",
    "metrics3[['loss', 'val_loss']].plot(title='Loss vs Epoch', xlabel='Epoch', ylabel='Loss')\n",
    "metrics3[['recall', 'val_recall']].plot(title='Recall vs Epoch', xlabel='Epoch', ylabel='Recall')"
   ]
  },
  {
   "cell_type": "markdown",
   "metadata": {},
   "source": [
    "Dari grafik loss vs epoch untuk model sequential API didapat selisih nilai loss yang cukup kecil antara data train dengan data validation, selisih tersebut sekitar 0.06 point adapun pada grafik recall vs epoch terlihat selisih yang besar antara nilai recall data train dan nilai recall data validation, selisih tersebut sekitar 0.1 point."
   ]
  },
  {
   "cell_type": "code",
   "execution_count": 394,
   "metadata": {},
   "outputs": [
    {
     "name": "stdout",
     "output_type": "stream",
     "text": [
      "33/33 [==============================] - 0s 2ms/step\n",
      "              precision    recall  f1-score   support\n",
      "\n",
      "           0       0.93      0.60      0.73       776\n",
      "           1       0.44      0.88      0.59       280\n",
      "\n",
      "    accuracy                           0.67      1056\n",
      "   macro avg       0.69      0.74      0.66      1056\n",
      "weighted avg       0.80      0.67      0.69      1056\n",
      "\n"
     ]
    }
   ],
   "source": [
    "y_pred3 = model3.predict(X_test_final)\n",
    "y_pred3 = np.where(y_pred3 >= 0.5, 1, 0)\n",
    "print(classification_report(y_test, y_pred3))"
   ]
  },
  {
   "cell_type": "markdown",
   "metadata": {},
   "source": [
    "Didapat nilai recall untuk kelas positif = kelas 1 sebesar 0.88, artinya model berhasil memprediksi 88% customer yang churn (True Positive) dari semua customer yang churn secara real (True Positive + False Negative). Adapun nilai precision (kelas positif = kelas 1) untuk model ini cukup rendah yaitu sebesar 0.44 yang artinya dari seluruh customer yang diprediksi churn (True Positive + False Positive) hanya 44% saja yang benar-benar churn (True Positive)."
   ]
  },
  {
   "cell_type": "markdown",
   "metadata": {},
   "source": [
    "## 9. Model Saving\n",
    "Pipeline preprocessing dan model Neural Network yang telah di-improve, di-save untuk di-deploy ke heroku."
   ]
  },
  {
   "cell_type": "code",
   "execution_count": 397,
   "metadata": {},
   "outputs": [],
   "source": [
    "with open(\"prep_pipe.pkl\", \"wb\") as f:\n",
    "    pickle.dump(prep_pipeline, f)"
   ]
  },
  {
   "cell_type": "code",
   "execution_count": 395,
   "metadata": {},
   "outputs": [],
   "source": [
    "model3.save('telco_churn_model.h5')"
   ]
  },
  {
   "cell_type": "markdown",
   "metadata": {},
   "source": [
    "## 10. Model Inference\n",
    "Akan dilakukan prediksi terhadap data inference menggunakan model terbaik yaitu model Neural Network hasil improvement."
   ]
  },
  {
   "cell_type": "code",
   "execution_count": 398,
   "metadata": {},
   "outputs": [
    {
     "name": "stdout",
     "output_type": "stream",
     "text": [
      "1/1 [==============================] - 0s 86ms/step\n"
     ]
    }
   ],
   "source": [
    "#Drop kolom yang tidak digunakan\n",
    "inf_drop = df_inf.drop(['gender', 'PhoneService', 'TotalCharges', 'Churn'], axis=1)\n",
    "\n",
    "#Inputasi Yes/No pada kolom SeniorCitizen\n",
    "inf_drop['SeniorCitizen'] = inf_drop.SeniorCitizen.apply(lambda x: 'Yes' if x==1 else 'No')\n",
    "\n",
    "#Load pipeline preprocessing\n",
    "with open(\"prep_pipe.pkl\", \"rb\") as f:\n",
    "    prep_pipe_load = pickle.load(f)\n",
    "\n",
    "#Lakukan transform menggunakan pipeline preprocessing\n",
    "inf_prep = prep_pipe_load.transform(inf_drop)\n",
    "\n",
    "#Load model yang telah di save\n",
    "model_telco_churn = load_model(\"telco_churn_model.h5\")\n",
    "\n",
    "#Lakukan prediksi menggunakan model hasil improvement\n",
    "inf_result = model_telco_churn.predict(inf_prep)\n",
    "inf_result = np.where(inf_result>=0.5, 1, 0)"
   ]
  },
  {
   "cell_type": "markdown",
   "metadata": {},
   "source": [
    "Setelah dilakukan prediksi, tampilkan hasilnya dengan data inference awal (sebelum di-preprocessing):"
   ]
  },
  {
   "cell_type": "code",
   "execution_count": 399,
   "metadata": {},
   "outputs": [
    {
     "data": {
      "text/html": [
       "<div>\n",
       "<style scoped>\n",
       "    .dataframe tbody tr th:only-of-type {\n",
       "        vertical-align: middle;\n",
       "    }\n",
       "\n",
       "    .dataframe tbody tr th {\n",
       "        vertical-align: top;\n",
       "    }\n",
       "\n",
       "    .dataframe thead th {\n",
       "        text-align: right;\n",
       "    }\n",
       "</style>\n",
       "<table border=\"1\" class=\"dataframe\">\n",
       "  <thead>\n",
       "    <tr style=\"text-align: right;\">\n",
       "      <th></th>\n",
       "      <th>SeniorCitizen</th>\n",
       "      <th>Partner</th>\n",
       "      <th>Dependents</th>\n",
       "      <th>tenure</th>\n",
       "      <th>MultipleLines</th>\n",
       "      <th>InternetService</th>\n",
       "      <th>OnlineSecurity</th>\n",
       "      <th>OnlineBackup</th>\n",
       "      <th>DeviceProtection</th>\n",
       "      <th>TechSupport</th>\n",
       "      <th>StreamingTV</th>\n",
       "      <th>StreamingMovies</th>\n",
       "      <th>Contract</th>\n",
       "      <th>PaperlessBilling</th>\n",
       "      <th>PaymentMethod</th>\n",
       "      <th>MonthlyCharges</th>\n",
       "      <th>churn_pred</th>\n",
       "    </tr>\n",
       "  </thead>\n",
       "  <tbody>\n",
       "    <tr>\n",
       "      <th>0</th>\n",
       "      <td>No</td>\n",
       "      <td>Yes</td>\n",
       "      <td>Yes</td>\n",
       "      <td>18</td>\n",
       "      <td>Yes</td>\n",
       "      <td>No</td>\n",
       "      <td>No internet service</td>\n",
       "      <td>No internet service</td>\n",
       "      <td>No internet service</td>\n",
       "      <td>No internet service</td>\n",
       "      <td>No internet service</td>\n",
       "      <td>No internet service</td>\n",
       "      <td>Two year</td>\n",
       "      <td>Yes</td>\n",
       "      <td>Credit card (automatic)</td>\n",
       "      <td>24.65</td>\n",
       "      <td>0</td>\n",
       "    </tr>\n",
       "    <tr>\n",
       "      <th>1</th>\n",
       "      <td>No</td>\n",
       "      <td>Yes</td>\n",
       "      <td>Yes</td>\n",
       "      <td>25</td>\n",
       "      <td>No</td>\n",
       "      <td>No</td>\n",
       "      <td>No internet service</td>\n",
       "      <td>No internet service</td>\n",
       "      <td>No internet service</td>\n",
       "      <td>No internet service</td>\n",
       "      <td>No internet service</td>\n",
       "      <td>No internet service</td>\n",
       "      <td>Two year</td>\n",
       "      <td>No</td>\n",
       "      <td>Mailed check</td>\n",
       "      <td>20.10</td>\n",
       "      <td>0</td>\n",
       "    </tr>\n",
       "    <tr>\n",
       "      <th>2</th>\n",
       "      <td>No</td>\n",
       "      <td>No</td>\n",
       "      <td>Yes</td>\n",
       "      <td>1</td>\n",
       "      <td>No</td>\n",
       "      <td>DSL</td>\n",
       "      <td>Yes</td>\n",
       "      <td>Yes</td>\n",
       "      <td>No</td>\n",
       "      <td>Yes</td>\n",
       "      <td>No</td>\n",
       "      <td>Yes</td>\n",
       "      <td>Month-to-month</td>\n",
       "      <td>Yes</td>\n",
       "      <td>Bank transfer (automatic)</td>\n",
       "      <td>70.45</td>\n",
       "      <td>1</td>\n",
       "    </tr>\n",
       "    <tr>\n",
       "      <th>3</th>\n",
       "      <td>No</td>\n",
       "      <td>Yes</td>\n",
       "      <td>Yes</td>\n",
       "      <td>63</td>\n",
       "      <td>No</td>\n",
       "      <td>No</td>\n",
       "      <td>No internet service</td>\n",
       "      <td>No internet service</td>\n",
       "      <td>No internet service</td>\n",
       "      <td>No internet service</td>\n",
       "      <td>No internet service</td>\n",
       "      <td>No internet service</td>\n",
       "      <td>Two year</td>\n",
       "      <td>No</td>\n",
       "      <td>Electronic check</td>\n",
       "      <td>19.35</td>\n",
       "      <td>0</td>\n",
       "    </tr>\n",
       "    <tr>\n",
       "      <th>4</th>\n",
       "      <td>No</td>\n",
       "      <td>No</td>\n",
       "      <td>No</td>\n",
       "      <td>10</td>\n",
       "      <td>No</td>\n",
       "      <td>No</td>\n",
       "      <td>No internet service</td>\n",
       "      <td>No internet service</td>\n",
       "      <td>No internet service</td>\n",
       "      <td>No internet service</td>\n",
       "      <td>No internet service</td>\n",
       "      <td>No internet service</td>\n",
       "      <td>One year</td>\n",
       "      <td>No</td>\n",
       "      <td>Mailed check</td>\n",
       "      <td>20.35</td>\n",
       "      <td>0</td>\n",
       "    </tr>\n",
       "  </tbody>\n",
       "</table>\n",
       "</div>"
      ],
      "text/plain": [
       "  SeniorCitizen Partner Dependents  tenure MultipleLines InternetService  \\\n",
       "0            No     Yes        Yes      18           Yes              No   \n",
       "1            No     Yes        Yes      25            No              No   \n",
       "2            No      No        Yes       1            No             DSL   \n",
       "3            No     Yes        Yes      63            No              No   \n",
       "4            No      No         No      10            No              No   \n",
       "\n",
       "        OnlineSecurity         OnlineBackup     DeviceProtection  \\\n",
       "0  No internet service  No internet service  No internet service   \n",
       "1  No internet service  No internet service  No internet service   \n",
       "2                  Yes                  Yes                   No   \n",
       "3  No internet service  No internet service  No internet service   \n",
       "4  No internet service  No internet service  No internet service   \n",
       "\n",
       "           TechSupport          StreamingTV      StreamingMovies  \\\n",
       "0  No internet service  No internet service  No internet service   \n",
       "1  No internet service  No internet service  No internet service   \n",
       "2                  Yes                   No                  Yes   \n",
       "3  No internet service  No internet service  No internet service   \n",
       "4  No internet service  No internet service  No internet service   \n",
       "\n",
       "         Contract PaperlessBilling              PaymentMethod  MonthlyCharges  \\\n",
       "0        Two year              Yes    Credit card (automatic)           24.65   \n",
       "1        Two year               No               Mailed check           20.10   \n",
       "2  Month-to-month              Yes  Bank transfer (automatic)           70.45   \n",
       "3        Two year               No           Electronic check           19.35   \n",
       "4        One year               No               Mailed check           20.35   \n",
       "\n",
       "   churn_pred  \n",
       "0           0  \n",
       "1           0  \n",
       "2           1  \n",
       "3           0  \n",
       "4           0  "
      ]
     },
     "execution_count": 399,
     "metadata": {},
     "output_type": "execute_result"
    }
   ],
   "source": [
    "hasil = inf_drop.copy()\n",
    "hasil['churn_pred'] = inf_result\n",
    "hasil"
   ]
  },
  {
   "cell_type": "markdown",
   "metadata": {},
   "source": [
    "## 10. Kesimpulan\n",
    "Kesimpulan yang dapat diambil dari pengerjaan tugas ini adalah :\n",
    "1. Kolom yang berkorelasi dengan target untuk dataset ini adalah sebagai berikut :\n",
    "\n",
    "    ['tenure', 'MonthlyCharges', 'MultipleLines', 'InternetService', 'OnlineSecurity', 'OnlineBackup', 'DeviceProtection',\n",
    "     'TechSupport', 'StreamingTV', 'StreamingMovies', 'Contract', 'PaymentMethod', 'SeniorCitizen', 'Partner', 'Dependents', \n",
    "     'PaperlessBilling']\n",
    "\n",
    "2. Metrics yang digunakan untuk mengukur bagus tidaknya model pada kasus ini adalah recall, hal ini dikarenakan model akan digunakan untuk menebak customer yang akan churn, dan customer yang diprediksi churn akan diberi promo atau tindakan khusus untuk mencegah mereka berhenti menggunakan layanan, semakin besar recall artinya semakin banyak customer yang berpotensi churn yang dapat dideteksi oleh perusahaan sehingga perusahaan dapat melakukan treatment sebelum customer tersebut benar-benar churn.\n",
    "\n",
    "3. Treatment khusus yang diberikan perusahaan terhadap customer yang berpotensi churn pastinya akan membutuhkan beban biaya tambahan bagi perusahaan. Oleh karena itu metrics precision dapat berarti efektivitas promo yang diberikan perusahaan terhadap pelanggan yang berpotensi churn, karena precision (kelas 1) artinya adalah jumlah tebakan benar dari semua yang ditebak churn. Saya memilih menggunakan metrics recall dibandingkan precision dengan asumsi :\n",
    "\n",
    "    a. Kondisi keuangan perusahaan baik.\n",
    "    \n",
    "    b. Jumlah customer yang berpotensi churn tidak terlalu banyak sehingga promo yang diberikan tidak akan membebani keuangan perusahaan.\n",
    "\n",
    "4. Model Neural Network yang sudah di-improve memiliki nilai recall untuk kelas 1 sebesar 0.88 yang artinya 88% pelanggan yang churn berhasil diprediksi oleh model (TP/TP+FN). Namun model ini memiliki nilai precision yang cukup rendah yaitu 0.44 yang artinya dari semua pelanggan yang model prediksi akan churn hanya 44% saja yang benar-benar churn."
   ]
  }
 ],
 "metadata": {
  "interpreter": {
   "hash": "827ef672cdfaa9c5c7b364eda2b4fd72f7fdb8221c52e737761053b3a748e5ca"
  },
  "kernelspec": {
   "display_name": "Python 3.9.7 ('base')",
   "language": "python",
   "name": "python3"
  },
  "language_info": {
   "codemirror_mode": {
    "name": "ipython",
    "version": 3
   },
   "file_extension": ".py",
   "mimetype": "text/x-python",
   "name": "python",
   "nbconvert_exporter": "python",
   "pygments_lexer": "ipython3",
   "version": "3.9.7"
  },
  "orig_nbformat": 4
 },
 "nbformat": 4,
 "nbformat_minor": 2
}
